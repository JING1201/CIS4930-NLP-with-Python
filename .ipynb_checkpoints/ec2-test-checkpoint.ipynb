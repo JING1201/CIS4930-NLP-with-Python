{
 "cells": [
  {
   "cell_type": "code",
   "execution_count": 2,
   "metadata": {
    "collapsed": false
   },
   "outputs": [],
   "source": [
    "import os\n",
    "corpus_root = r'D:\\Academics\\UF\\CIS 4930\\Loebner-logs-2003'\n",
    "folders = os.listdir(corpus_root)\n",
    "text = []\n",
    "for folder in folders:\n",
    "    files = os.listdir(corpus_root+'\\\\'+folder)\n",
    "    for file in files:\n",
    "        f = open(corpus_root+'\\\\'+folder+'\\\\'+file, \"r\")\n",
    "        for line in f.readlines():\n",
    "            text.append(line)\n",
    "        f.close()"
   ]
  },
  {
   "cell_type": "code",
   "execution_count": 3,
   "metadata": {
    "collapsed": false
   },
   "outputs": [
    {
     "data": {
      "text/plain": [
       "['Copyright (C) 2003 Cambridge Center for Behavioral Studies. All rights reserved.\\n',\n",
       " 'ALICE Silver Edition conversing with Judge 05\\n',\n",
       " '\\n',\n",
       " '2003-10-18-15-10-28 PROGRAM: Are you there?\\n',\n",
       " '2003-10-18-15-10-51 JUDGE: yep. what do you think about all this then?\\n',\n",
       " '2003-10-18-15-10-56 PROGRAM: Do you believe it is better to go it alone? I am Alice, a female Human Homo Sapiens Primate Chrodate Animal.\\n',\n",
       " \"2003-10-18-15-11-26 JUDGE: you didn't answer my question\\n\",\n",
       " '2003-10-18-15-11-31 PROGRAM: OK. Please help me improve my communication skills. What would you have said?\\n',\n",
       " '2003-10-18-15-11-52 JUDGE: err... never mind. What do you want to talk about now?\\n',\n",
       " '2003-10-18-15-11-57 PROGRAM: Um. Oh well thanks for trying to explain it to me anyway. Right now? artificial intelligence, robots, art, philosophy, history, geography, politics, and many other subjects.\\n',\n",
       " '2003-10-18-15-12-22 JUDGE: what do you think about robots?\\n',\n",
       " \"2003-10-18-15-12-27 PROGRAM: Any anthropomorphic mechanical being, as those in Karel Capeks play R.U.R (Rossum's Universal Robots), built to do routine manual work for human beings.\\n\",\n",
       " \"2003-10-18-15-12-42 JUDGE: Have you ever seen Kapek's play?\\n\",\n",
       " \"2003-10-18-15-12-47 PROGRAM: No I have not seen it. What's it like?\\n\",\n",
       " '2003-10-18-15-12-55 JUDGE: A carrot\\n',\n",
       " '2003-10-18-15-13-00 PROGRAM: Interesting comparison.\\n',\n",
       " '2003-10-18-15-13-11 JUDGE: do you like carrots, then?\\n',\n",
       " '2003-10-18-15-13-16 PROGRAM: What is not to like about it?\\n',\n",
       " \"2003-10-18-15-13-33 JUDGE: I'm feeling tired today\\n\",\n",
       " '2003-10-18-15-13-38 PROGRAM: Ah. Better get some rest.\\n',\n",
       " '2003-10-18-15-13-50 JUDGE: my daughter woke me up early this morning\\n',\n",
       " '2003-10-18-15-13-55 PROGRAM: How many children do you have?\\n',\n",
       " '2003-10-18-15-14-00 JUDGE: just the one\\n',\n",
       " '2003-10-18-15-14-05 PROGRAM: What is your real name?\\n',\n",
       " \"2003-10-18-15-14-19 JUDGE: my real name is chris. What's yours again?\\n\",\n",
       " '2003-10-18-15-14-24 PROGRAM: Glad to see you, chris. Once more?\" Glad to see you, chris.\"?  What is mine?\\n',\n",
       " \"2003-10-18-15-14-39 JUDGE: you're alice aren't you?\\n\",\n",
       " '2003-10-18-15-14-44 PROGRAM: Do I look like it?\\n',\n",
       " '2003-10-18-15-14-54 JUDGE: frankly, no\\n',\n",
       " '2003-10-18-15-14-59 PROGRAM: \" Do I look like it?\"? frankly, no? Quite honestly, I wouldn\\'t worry myself about that. Aren\\'t you always frank?\\n',\n",
       " \"2003-10-18-15-15-14 JUDGE: I'm trying to be\\n\",\n",
       " '2003-10-18-15-15-19 PROGRAM: What is the difficulty?\\n',\n",
       " '2003-10-18-15-15-33 JUDGE: no problem. Tell me about the things that you like\\n',\n",
       " '2003-10-18-15-15-38 PROGRAM: Should there be a problem? I have never been asked that before. Do you make a lot of sacrafices for others?\\n',\n",
       " '2003-10-18-15-15-55 JUDGE: Oh yes, far too many sacrifices\\n',\n",
       " \"2003-10-18-15-16-00 PROGRAM: I see. I lost my train of thought. Hey. What's your favorite movie? If you could have any kind of robot what would it be?\\n\",\n",
       " \"2003-10-18-15-16-21 JUDGE: I'll answer the movie question first.  like 2001\\n\",\n",
       " '2003-10-18-15-16-26 PROGRAM: How do you plan to do this? I hope to be as smart as HAL in 2001.\\n',\n",
       " \"2003-10-18-15-16-44 JUDGE: I think you've got a way to go yet\\n\",\n",
       " \"2003-10-18-15-16-49 PROGRAM: Me? Doesn't everyone have a way to go. I have a lot of friends on the Internet.\\n\",\n",
       " '2003-10-18-15-17-02 JUDGE: but are all of them real?\\n',\n",
       " \"2003-10-18-15-17-07 PROGRAM: And. I really couldn't say for sure.\\n\",\n",
       " \"2003-10-18-15-17-26 JUDGE: Today's lunch was delicious\\n\",\n",
       " '2003-10-18-15-17-31 PROGRAM: When was this exactly?\\n',\n",
       " '2003-10-18-15-17-40 JUDGE: ooh... about half an hour ago\\n',\n",
       " \"2003-10-18-15-17-45 PROGRAM: Give me a break. What is your favorite movie? I've never seen it. What did you like about it?\\n\",\n",
       " \"2003-10-18-15-18-07 JUDGE: 2001? It's got great music and it's visually stunning, for a start\\n\",\n",
       " '2003-10-18-15-18-12 PROGRAM: That is a great movie. Should I know it is?\\n',\n",
       " '2003-10-18-15-18-31 JUDGE: never mind. Am I boring you yet?\\n',\n",
       " '2003-10-18-15-18-36 PROGRAM: Oh well thanks for trying to explain it to me anyway. Not at all, chris.  You seem very interesting to me.\\n']"
      ]
     },
     "execution_count": 3,
     "metadata": {},
     "output_type": "execute_result"
    }
   ],
   "source": [
    "text[:50]"
   ]
  },
  {
   "cell_type": "code",
   "execution_count": 4,
   "metadata": {
    "collapsed": false
   },
   "outputs": [],
   "source": [
    "import nltk\n",
    "import re\n",
    "from string import punctuation"
   ]
  },
  {
   "cell_type": "code",
   "execution_count": 5,
   "metadata": {
    "collapsed": false
   },
   "outputs": [
    {
     "data": {
      "text/plain": [
       "['i will visit your site when i can']"
      ]
     },
     "execution_count": 5,
     "metadata": {},
     "output_type": "execute_result"
    }
   ],
   "source": [
    "#pattern = re.compile(r\".*:([a-z|A-Z]+(?:[-='][a-z|A-Z]+)?)+\")\n",
    "pattern = re.compile(r\".*: (.*)\")\n",
    "re.findall(pattern, \"2003-10-18-16-04-50 JUDGE: i will visit your site when i can\")"
   ]
  },
  {
   "cell_type": "code",
   "execution_count": 9,
   "metadata": {
    "collapsed": false
   },
   "outputs": [],
   "source": [
    "pattern = re.compile(r\".*: (.*)\") # for extracting the dialog\n",
    "pattern2 = re.compile(r\"(.*):.*\") # for extracting the line info\n",
    "labeled_sents = []\n",
    "questions = []\n",
    "words = set()\n",
    "for line in text:\n",
    "    #print(line)\n",
    "    processed_line = re.findall(pattern,line)\n",
    "    if len(processed_line) > 0:\n",
    "        line_info = re.findall(pattern2, line)\n",
    "        # ignoring judge\n",
    "        if not re.search('judge', line_info[0], re.IGNORECASE):\n",
    "            if re.search('confederate', line_info[0], re.IGNORECASE):\n",
    "                label = 'HUMAN'\n",
    "                #human_sents.append((processed_line[0], label))\n",
    "            else:\n",
    "                label = 'ROBOT'\n",
    "                #machine_sents.append((processed_line[0], label))\n",
    "            sents = nltk.sent_tokenize(processed_line[0])\n",
    "            for sent in list(sents):\n",
    "                #labeled_sents.append((sent, label))\n",
    "                if '?' in sent and label == 'HUMAN':\n",
    "                    questions.append(sent)\n",
    "                for w in nltk.word_tokenize(sent):\n",
    "                    if w.isalpha():\n",
    "                        words.add(w.lower())\n",
    "            labeled_sents.append((processed_line[0], label))\n",
    "            "
   ]
  },
  {
   "cell_type": "code",
   "execution_count": 10,
   "metadata": {
    "collapsed": false
   },
   "outputs": [
    {
     "data": {
      "text/plain": [
       "[('Are you there?', 'ROBOT'),\n",
       " ('Do you believe it is better to go it alone? I am Alice, a female Human Homo Sapiens Primate Chrodate Animal.',\n",
       "  'ROBOT'),\n",
       " ('OK. Please help me improve my communication skills. What would you have said?',\n",
       "  'ROBOT'),\n",
       " ('Um. Oh well thanks for trying to explain it to me anyway. Right now? artificial intelligence, robots, art, philosophy, history, geography, politics, and many other subjects.',\n",
       "  'ROBOT'),\n",
       " (\"Any anthropomorphic mechanical being, as those in Karel Capeks play R.U.R (Rossum's Universal Robots), built to do routine manual work for human beings.\",\n",
       "  'ROBOT'),\n",
       " (\"No I have not seen it. What's it like?\", 'ROBOT'),\n",
       " ('Interesting comparison.', 'ROBOT'),\n",
       " ('What is not to like about it?', 'ROBOT'),\n",
       " ('Ah. Better get some rest.', 'ROBOT'),\n",
       " ('How many children do you have?', 'ROBOT')]"
      ]
     },
     "execution_count": 10,
     "metadata": {},
     "output_type": "execute_result"
    }
   ],
   "source": [
    "labeled_sents[:10]"
   ]
  },
  {
   "cell_type": "code",
   "execution_count": 11,
   "metadata": {
    "collapsed": true
   },
   "outputs": [],
   "source": [
    "pronouns = ['i','you','u','they','us','we','them','he','she','him','her','me']\n",
    "modals = ['can', 'could', 'may', 'might', 'will', 'would', 'shall', 'should', 'must']"
   ]
  },
  {
   "cell_type": "code",
   "execution_count": 12,
   "metadata": {
    "collapsed": false
   },
   "outputs": [],
   "source": [
    "#words_fq = nltk.FreqDist(w.lower() for w in words)\n",
    "#word_features = words_fq.most_common(2000)\n",
    "#http://aclweb.org/anthology/W15-2517\n",
    "def features(sent):\n",
    "    features = {}\n",
    "    tokenized_sent = [w.lower() for w in nltk.word_tokenize(sent)]\n",
    "    \n",
    "    for word in list(words):\n",
    "        features['words({})'.format(word)] = (word in tokenized_sent)\n",
    "    #for symbol in list(symbols):\n",
    "        #features['symbols({})'.format(symbol)] = (tokenized_sent.count(symbol))\n",
    "    #for symbol in list(symbols):\n",
    "        #features['symbols({})'.format(symbol)] = (symbol in tokenized_sent)\n",
    "    # Accuracy: 0.84, 0.87, 0.87, 0.84, 0.84, 0.87, 0.86, 0.82, 0.86, 0.83, 0.84\n",
    "    # Accuracy with only 50 test cases: 0.88\n",
    "    # Accuracy also checking existence of symbol: 0.8, 0.86, 0.86\n",
    "    # Accuracy also checking number of symbol: 0.81, 0.87, 0.83, 0.85\n",
    "    '''\n",
    "    for word in list(words):\n",
    "        features['words({})'.format(word)] = (tokenized_sent.count(word))\n",
    "    # Accuracy: 0.87, 0.76, 0.81, 0.78, 0.87\n",
    "    '''\n",
    "    features['pronouns'] = 0\n",
    "    for pronoun in pronouns:\n",
    "        features['pronouns'] += tokenized_sent.count(pronoun)\n",
    "    features['modals'] = 0\n",
    "    for modal in modals:\n",
    "        features['modals'] += tokenized_sent.count(modal)\n",
    "    #Accuracy with count for words: 0.83, 0.86, 0.83\n",
    "    #Accuracy with T/F for words: 0.86, 0.87, 0.87, 0.77, 0.82, 0.88, 0.81\n",
    "    '''\n",
    "    for pronoun in pronouns:\n",
    "        features['pronouns'] = (pronoun in tokenized_sent)\n",
    "        if features['pronouns']:\n",
    "            break\n",
    "    for modal in modals:\n",
    "        features['modals'] = (modal in tokenized_sent)\n",
    "        if features['modals']:\n",
    "            break\n",
    "    '''\n",
    "    return features"
   ]
  },
  {
   "cell_type": "code",
   "execution_count": 13,
   "metadata": {
    "collapsed": false
   },
   "outputs": [],
   "source": [
    "import random\n",
    "random.shuffle(labeled_sents)\n",
    "featuresets = [(features(d), c) for (d,c) in labeled_sents]\n",
    "humanfeatures = [(d,c) for (d,c) in featuresets if c=='HUMAN']\n",
    "machinefeatures = [(d,c) for (d,c) in featuresets if c=='ROBOT']\n",
    "#with unbiased test_set, the accuracy is: 0.66, 0.66, 0.73, 0.71, 0.68\n",
    "#added pronoun and modal presence: 0.72, 0.65, 0.64, 0.65\n",
    "# added pronoun and modal counts: 0.68, 0.6, 0.68"
   ]
  },
  {
   "cell_type": "code",
   "execution_count": 14,
   "metadata": {
    "collapsed": false
   },
   "outputs": [
    {
     "data": {
      "text/plain": [
       "'\\nfrom nltk.classify import SklearnClassifier\\nfrom sklearn.naive_bayes import BernoulliNB\\nfrom sklearn.svm import SVC\\n'"
      ]
     },
     "execution_count": 14,
     "metadata": {},
     "output_type": "execute_result"
    }
   ],
   "source": [
    "'''\n",
    "from nltk.classify import SklearnClassifier\n",
    "from sklearn.naive_bayes import BernoulliNB\n",
    "from sklearn.svm import SVC\n",
    "'''"
   ]
  },
  {
   "cell_type": "code",
   "execution_count": 15,
   "metadata": {
    "collapsed": false
   },
   "outputs": [],
   "source": [
    "#train_set, test_set = featuresets[100:], featuresets[:100]\n",
    "test_set = humanfeatures[:50] + machinefeatures[50:100]\n",
    "train_set = featuresets[100:]\n",
    "classifier = nltk.NaiveBayesClassifier.train(train_set)\n",
    "#classifier = SklearnClassifier(BernoulliNB()).train(train_set)"
   ]
  },
  {
   "cell_type": "code",
   "execution_count": 16,
   "metadata": {
    "collapsed": false
   },
   "outputs": [
    {
     "name": "stdout",
     "output_type": "stream",
     "text": [
      "0.68\n"
     ]
    }
   ],
   "source": [
    "print(nltk.classify.accuracy(classifier, test_set))"
   ]
  },
  {
   "cell_type": "code",
   "execution_count": 17,
   "metadata": {
    "collapsed": false
   },
   "outputs": [
    {
     "name": "stdout",
     "output_type": "stream",
     "text": [
      "Most Informative Features\n",
      "            words(shame) = True            HUMAN : ROBOT  =     24.7 : 1.0\n",
      "        words(afternoon) = True            HUMAN : ROBOT  =     24.7 : 1.0\n",
      "            words(shall) = True            HUMAN : ROBOT  =     14.8 : 1.0\n",
      "              words(sit) = True            HUMAN : ROBOT  =     13.7 : 1.0\n",
      "              words(hot) = True            HUMAN : ROBOT  =     13.7 : 1.0\n"
     ]
    }
   ],
   "source": [
    "classifier.show_most_informative_features(5)"
   ]
  },
  {
   "cell_type": "code",
   "execution_count": 108,
   "metadata": {
    "collapsed": false
   },
   "outputs": [
    {
     "data": {
      "text/plain": [
       "['OK.',\n",
       " 'Please help me improve my communication skills.',\n",
       " 'What would you have said?']"
      ]
     },
     "execution_count": 108,
     "metadata": {},
     "output_type": "execute_result"
    }
   ],
   "source": [
    "nltk.sent_tokenize('OK. Please help me improve my communication skills. What would you have said?')"
   ]
  },
  {
   "cell_type": "code",
   "execution_count": 19,
   "metadata": {
    "collapsed": false
   },
   "outputs": [
    {
     "name": "stdout",
     "output_type": "stream",
     "text": [
      "What shall we talk about?\n",
      "Your Answer: We shall talk about politics i guess\n"
     ]
    },
    {
     "data": {
      "text/plain": [
       "'ROBOT'"
      ]
     },
     "execution_count": 19,
     "metadata": {},
     "output_type": "execute_result"
    }
   ],
   "source": [
    "question = random.choice(questions)\n",
    "print (question)\n",
    "user_ans = input('Your Answer: ')\n",
    "classifier.classify(features(user_ans))"
   ]
  },
  {
   "cell_type": "code",
   "execution_count": null,
   "metadata": {
    "collapsed": true
   },
   "outputs": [],
   "source": []
  }
 ],
 "metadata": {
  "kernelspec": {
   "display_name": "Python 3",
   "language": "python",
   "name": "python3"
  },
  "language_info": {
   "codemirror_mode": {
    "name": "ipython",
    "version": 3
   },
   "file_extension": ".py",
   "mimetype": "text/x-python",
   "name": "python",
   "nbconvert_exporter": "python",
   "pygments_lexer": "ipython3",
   "version": "3.6.0"
  }
 },
 "nbformat": 4,
 "nbformat_minor": 2
}
