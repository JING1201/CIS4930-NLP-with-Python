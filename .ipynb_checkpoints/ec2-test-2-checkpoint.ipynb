{
 "cells": [
  {
   "cell_type": "code",
   "execution_count": 1,
   "metadata": {
    "collapsed": true
   },
   "outputs": [],
   "source": [
    "import os\n",
    "corpus_root = r'D:\\Academics\\UF\\CIS 4930\\Loebner-logs-2003'\n",
    "folders = os.listdir(corpus_root)\n",
    "text = []\n",
    "for folder in folders:\n",
    "    files = os.listdir(corpus_root+'\\\\'+folder)\n",
    "    for file in files:\n",
    "        f = open(corpus_root+'\\\\'+folder+'\\\\'+file, \"r\")\n",
    "        for line in f.readlines():\n",
    "            text.append(line)\n",
    "        f.close()"
   ]
  },
  {
   "cell_type": "code",
   "execution_count": 2,
   "metadata": {
    "collapsed": true
   },
   "outputs": [],
   "source": [
    "import nltk\n",
    "import re"
   ]
  },
  {
   "cell_type": "code",
   "execution_count": 4,
   "metadata": {
    "collapsed": false
   },
   "outputs": [],
   "source": [
    "pattern = re.compile(r\".*: (.*)\") # for extracting the dialog\n",
    "pattern2 = re.compile(r\"(.*):.*\") # for extracting the line info\n",
    "labeled_sents = []\n",
    "questions = []\n",
    "words = set()\n",
    "for line in text:\n",
    "    #print(line)\n",
    "    processed_line = re.findall(pattern,line)\n",
    "    if len(processed_line) > 0:\n",
    "        line_info = re.findall(pattern2, line)\n",
    "        if re.search('judge', line_info[0], re.IGNORECASE) or re.search('confederate', line_info[0], re.IGNORECASE):\n",
    "            label = 'HUMAN'\n",
    "            #human_sents.append((processed_line[0], label))\n",
    "        else:\n",
    "            label = 'ROBOT'\n",
    "            #machine_sents.append((processed_line[0], label))\n",
    "        sents = nltk.sent_tokenize(processed_line[0])\n",
    "        for sent in list(sents):\n",
    "            #labeled_sents.append((sent, label))\n",
    "            if '?' in sent and label == 'HUMAN':\n",
    "                questions.append(sent)\n",
    "            for w in nltk.word_tokenize(sent):\n",
    "                if w.isalpha():\n",
    "                    words.add(w.lower())\n",
    "        labeled_sents.append((processed_line[0], label))"
   ]
  },
  {
   "cell_type": "code",
   "execution_count": 54,
   "metadata": {
    "collapsed": true
   },
   "outputs": [],
   "source": [
    "pronouns = ['i','you','u','they','us','we','them','he','she','him','her','me']\n",
    "modals = ['can', 'could', 'may', 'might', 'will', 'would', 'shall', 'should', 'must']"
   ]
  },
  {
   "cell_type": "code",
   "execution_count": 91,
   "metadata": {
    "collapsed": true
   },
   "outputs": [],
   "source": [
    "def features(sent):\n",
    "    features = {}\n",
    "    tokenized_sent = [w.lower() for w in nltk.word_tokenize(sent)]\n",
    "    '''\n",
    "    for word in list(words):\n",
    "        features['words({})'.format(word)] = (word in tokenized_sent)\n",
    "    \n",
    "    for pronoun in pronouns:\n",
    "        features['pronouns'] = (pronoun in tokenized_sent)\n",
    "        if features['pronouns']:\n",
    "            break\n",
    "    for modal in modals:\n",
    "        features['modals'] = (modal in tokenized_sent)\n",
    "        if features['modals']:\n",
    "            break\n",
    "    '''\n",
    "    for word in list(words):\n",
    "        features['words({})'.format(word)] = (word in tokenized_sent)\n",
    "    features['pronouns'] = 0\n",
    "    for pronoun in pronouns:\n",
    "        features['pronouns'] += tokenized_sent.count(pronoun)\n",
    "    features['modals'] = 0\n",
    "    for modal in modals:\n",
    "        features['modals'] += tokenized_sent.count(modal)\n",
    "\n",
    "    return features"
   ]
  },
  {
   "cell_type": "code",
   "execution_count": 108,
   "metadata": {
    "collapsed": false
   },
   "outputs": [],
   "source": [
    "import random\n",
    "random.shuffle(labeled_sents)\n",
    "featuresets = [(features(d), c) for (d,c) in labeled_sents]\n",
    "humanfeatures = [(d,c) for (d,c) in featuresets if c=='HUMAN']\n",
    "machinefeatures = [(d,c) for (d,c) in featuresets if c=='ROBOT']"
   ]
  },
  {
   "cell_type": "code",
   "execution_count": 109,
   "metadata": {
    "collapsed": true
   },
   "outputs": [],
   "source": [
    "test_set = humanfeatures[:50] + machinefeatures[50:100]\n",
    "#test_set = featuresets[:100]\n",
    "train_set = featuresets[100:]\n",
    "classifier = nltk.NaiveBayesClassifier.train(train_set)\n",
    "#accuracy for unbiased test set: 0.64, 0.7, 0.77，0.71，0.65， 0.73\n",
    "# - with T/F Words, Pronouns and Modals: 0.7, 0.73, 0.66\n",
    "# - with count Words, Pronouns and Modals: 0.71, 0.70, 0.73\n",
    "#accuracy for random test set: 0.65, 0.71, 0.71, 0.74, 0.58\n",
    "# - with T/F Words, Pronouns and Modals: 0.71, 0.71, 0.69, 0.71, 0.71"
   ]
  },
  {
   "cell_type": "code",
   "execution_count": 110,
   "metadata": {
    "collapsed": false
   },
   "outputs": [
    {
     "name": "stdout",
     "output_type": "stream",
     "text": [
      "0.73\n"
     ]
    }
   ],
   "source": [
    "print(nltk.classify.accuracy(classifier, test_set))"
   ]
  },
  {
   "cell_type": "code",
   "execution_count": 111,
   "metadata": {
    "collapsed": false
   },
   "outputs": [
    {
     "name": "stdout",
     "output_type": "stream",
     "text": [
      "Most Informative Features\n",
      "            words(since) = True            ROBOT : HUMAN  =     16.4 : 1.0\n",
      "        words(sometimes) = True            ROBOT : HUMAN  =     13.2 : 1.0\n",
      "             words(glad) = True            ROBOT : HUMAN  =     13.2 : 1.0\n",
      "             words(lets) = True            HUMAN : ROBOT  =     10.2 : 1.0\n",
      "           words(forget) = True            ROBOT : HUMAN  =     10.0 : 1.0\n"
     ]
    }
   ],
   "source": [
    "classifier.show_most_informative_features(5)"
   ]
  },
  {
   "cell_type": "code",
   "execution_count": 113,
   "metadata": {
    "collapsed": false
   },
   "outputs": [
    {
     "name": "stdout",
     "output_type": "stream",
     "text": [
      "Do you play sport?\n",
      "Your Answer: I sometimes do.\n"
     ]
    },
    {
     "data": {
      "text/plain": [
       "'HUMAN'"
      ]
     },
     "execution_count": 113,
     "metadata": {},
     "output_type": "execute_result"
    }
   ],
   "source": [
    "question = random.choice(questions)\n",
    "print (question)\n",
    "user_ans = input('Your Answer: ')\n",
    "classifier.classify(features(user_ans))"
   ]
  },
  {
   "cell_type": "code",
   "execution_count": null,
   "metadata": {
    "collapsed": true
   },
   "outputs": [],
   "source": []
  }
 ],
 "metadata": {
  "kernelspec": {
   "display_name": "Python 3",
   "language": "python",
   "name": "python3"
  },
  "language_info": {
   "codemirror_mode": {
    "name": "ipython",
    "version": 3
   },
   "file_extension": ".py",
   "mimetype": "text/x-python",
   "name": "python",
   "nbconvert_exporter": "python",
   "pygments_lexer": "ipython3",
   "version": "3.6.0"
  }
 },
 "nbformat": 4,
 "nbformat_minor": 2
}
