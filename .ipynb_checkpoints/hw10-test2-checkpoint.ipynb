{
 "cells": [
  {
   "cell_type": "code",
   "execution_count": 7,
   "metadata": {
    "collapsed": true
   },
   "outputs": [],
   "source": [
    "import nltk\n",
    "from nltk.corpus import movie_reviews\n",
    "import random\n",
    "from nltk.corpus import wordnet as wn"
   ]
  },
  {
   "cell_type": "code",
   "execution_count": 8,
   "metadata": {
    "collapsed": true
   },
   "outputs": [],
   "source": [
    "documents = [(list(movie_reviews.words(fileid)), category)\n",
    "              for category in movie_reviews.categories()\n",
    "                 for fileid in movie_reviews.fileids(category)]"
   ]
  },
  {
   "cell_type": "code",
   "execution_count": 9,
   "metadata": {
    "collapsed": true
   },
   "outputs": [],
   "source": [
    "all_synsets = nltk.FreqDist(wn.synsets(w.lower())[0] for w in movie_reviews.words() if len(wn.synsets(w))>0)"
   ]
  },
  {
   "cell_type": "code",
   "execution_count": 10,
   "metadata": {
    "collapsed": false
   },
   "outputs": [
    {
     "data": {
      "text/plain": [
       "18775"
      ]
     },
     "execution_count": 10,
     "metadata": {},
     "output_type": "execute_result"
    }
   ],
   "source": [
    "len(all_synsets)"
   ]
  },
  {
   "cell_type": "code",
   "execution_count": 11,
   "metadata": {
    "collapsed": false
   },
   "outputs": [
    {
     "data": {
      "text/plain": [
       "[(Synset('angstrom.n.01'), 38106),\n",
       " (Synset('be.v.01'), 28462),\n",
       " (Synset('inch.n.01'), 21852),\n",
       " (Synset('second.n.01'), 18988),\n",
       " (Synset('information_technology.n.01'), 18377),\n",
       " (Synset('movie.n.01'), 18048),\n",
       " (Synset('arsenic.n.02'), 11378),\n",
       " (Synset('merely.r.01'), 9222),\n",
       " (Synset('iodine.n.01'), 8889),\n",
       " (Synset('helium.n.01'), 8869),\n",
       " (Synset('on.a.01'), 7385),\n",
       " (Synset('are.n.01'), 6949),\n",
       " (Synset('thymine.n.01'), 6410),\n",
       " (Synset('one.n.01'), 6336),\n",
       " (Synset('by.r.01'), 6261),\n",
       " (Synset('beryllium.n.01'), 6185),\n",
       " (Synset('associate_in_nursing.n.01'), 5744),\n",
       " (Synset('not.r.01'), 5743),\n",
       " (Synset('world_health_organization.n.01'), 5695),\n",
       " (Synset('astatine.n.01'), 4986)]"
      ]
     },
     "execution_count": 11,
     "metadata": {},
     "output_type": "execute_result"
    }
   ],
   "source": [
    "all_synsets.most_common(20)"
   ]
  },
  {
   "cell_type": "code",
   "execution_count": 10,
   "metadata": {
    "collapsed": true
   },
   "outputs": [],
   "source": [
    "synset_features = list(all_synsets)[:2000]"
   ]
  },
  {
   "cell_type": "code",
   "execution_count": 11,
   "metadata": {
    "collapsed": true
   },
   "outputs": [],
   "source": [
    "def document_features(document): \n",
    "    document_synsets = set([wn.synsets(w.lower())[0] for w in document if len(wn.synsets(w))>0]) \n",
    "    features = {}\n",
    "    for synset in synset_features:\n",
    "        '''\n",
    "        boolean = False\n",
    "        for lemma in synset.lemma_names():\n",
    "            if lemma in document_words:\n",
    "                boolean = True\n",
    "                break\n",
    "        features['contains({})'.format(synset)] = (boolean)\n",
    "        '''\n",
    "        features['contains({})'.format(synset)] = (synset in document_synsets)\n",
    "    return features\n",
    "# 0.85, 0.81, 0.88, 0.79, 0.79, 0.86, 0.82, 0.77, 0.85, 0.77, 0.81\n",
    "#new: 0.84, 0.86, 0.85, 0.78"
   ]
  },
  {
   "cell_type": "code",
   "execution_count": 25,
   "metadata": {
    "collapsed": true
   },
   "outputs": [],
   "source": [
    "random.shuffle(documents)"
   ]
  },
  {
   "cell_type": "code",
   "execution_count": 26,
   "metadata": {
    "collapsed": false
   },
   "outputs": [],
   "source": [
    "featuresets = [(document_features(d), c) for (d,c) in documents]\n",
    "train_set, test_set = featuresets[100:], featuresets[:100]\n",
    "classifier = nltk.NaiveBayesClassifier.train(train_set)"
   ]
  },
  {
   "cell_type": "code",
   "execution_count": 27,
   "metadata": {
    "collapsed": false
   },
   "outputs": [
    {
     "name": "stdout",
     "output_type": "stream",
     "text": [
      "0.78\n"
     ]
    }
   ],
   "source": [
    "print(nltk.classify.accuracy(classifier, test_set))"
   ]
  },
  {
   "cell_type": "code",
   "execution_count": 28,
   "metadata": {
    "collapsed": false
   },
   "outputs": [
    {
     "name": "stdout",
     "output_type": "stream",
     "text": [
      "Most Informative Features\n",
      "contains(Synset('annual.n.01')) = True              pos : neg    =      9.0 : 1.0\n",
      "contains(Synset('chaff.n.01')) = True              neg : pos    =      8.4 : 1.0\n",
      "contains(Synset('sterile.s.03')) = True              neg : pos    =      8.4 : 1.0\n",
      "contains(Synset('dumbbell.n.02')) = True              neg : pos    =      7.7 : 1.0\n",
      "contains(Synset('turkey.n.01')) = True              neg : pos    =      7.3 : 1.0\n"
     ]
    }
   ],
   "source": [
    "classifier.show_most_informative_features(5)"
   ]
  },
  {
   "cell_type": "code",
   "execution_count": 29,
   "metadata": {
    "collapsed": false
   },
   "outputs": [
    {
     "data": {
      "text/plain": [
       "0.1111111111111111"
      ]
     },
     "execution_count": 29,
     "metadata": {},
     "output_type": "execute_result"
    }
   ],
   "source": [
    "house = wn.synsets('house')[0]\n",
    "house.path_similarity(wn.synset('sign_of_the_zodiac.n.01'))"
   ]
  },
  {
   "cell_type": "code",
   "execution_count": null,
   "metadata": {
    "collapsed": true
   },
   "outputs": [],
   "source": []
  }
 ],
 "metadata": {
  "kernelspec": {
   "display_name": "Python 3",
   "language": "python",
   "name": "python3"
  },
  "language_info": {
   "codemirror_mode": {
    "name": "ipython",
    "version": 3
   },
   "file_extension": ".py",
   "mimetype": "text/x-python",
   "name": "python",
   "nbconvert_exporter": "python",
   "pygments_lexer": "ipython3",
   "version": "3.6.0"
  }
 },
 "nbformat": 4,
 "nbformat_minor": 2
}
