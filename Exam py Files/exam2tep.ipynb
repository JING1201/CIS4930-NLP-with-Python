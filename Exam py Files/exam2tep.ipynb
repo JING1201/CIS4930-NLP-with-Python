{
 "cells": [
  {
   "cell_type": "code",
   "execution_count": 1,
   "metadata": {
    "collapsed": true
   },
   "outputs": [],
   "source": [
    "import nltk\n",
    "import re"
   ]
  },
  {
   "cell_type": "code",
   "execution_count": 2,
   "metadata": {
    "collapsed": true
   },
   "outputs": [],
   "source": [
    "from nltk.corpus import names"
   ]
  },
  {
   "cell_type": "code",
   "execution_count": 5,
   "metadata": {
    "collapsed": false
   },
   "outputs": [],
   "source": [
    "def T9convert(n):\n",
    "    if n==2:\n",
    "        return \"[abc]\"\n",
    "    elif n==3:\n",
    "        return \"[def]\"\n",
    "    elif n==4:\n",
    "        return \"[ghi]\"\n",
    "    elif n==5:\n",
    "        return \"[jkl]\"\n",
    "    elif n==6:\n",
    "        return \"[mno]\"\n",
    "    elif n==7:\n",
    "        return \"[pqrs]\"\n",
    "    elif n==8:\n",
    "        return \"[tuv]\"\n",
    "    elif n==9:\n",
    "        return \"[wxyz]\"\n",
    "    else:\n",
    "        return \"\""
   ]
  },
  {
   "cell_type": "code",
   "execution_count": 9,
   "metadata": {
    "collapsed": true
   },
   "outputs": [],
   "source": [
    "def T9convertString(string):\n",
    "    expression = \"\"\n",
    "    for c in string:\n",
    "        expression += T9convert(int(c))\n",
    "    return expression"
   ]
  },
  {
   "cell_type": "code",
   "execution_count": 16,
   "metadata": {
    "collapsed": true
   },
   "outputs": [],
   "source": [
    "def digit_name(number):\n",
    "    \n",
    "    male_names = names.words('male.txt')\n",
    "    female_names = names.words('female.txt')\n",
    "    \n",
    "    numString = str(number)\n",
    "    numString = numString.replace(\"-\",\"\")\n",
    "    pattern = \"^\"+T9convertString(numString)+\"$\"\n",
    "    \n",
    "    matches = [w for w in male_names if re.search(pattern, w, re.IGNORECASE)]\n",
    "    matches += [w for w in female_names if re.search(pattern,w, re.IGNORECASE)]\n",
    "    \n",
    "    return matches"
   ]
  },
  {
   "cell_type": "code",
   "execution_count": 17,
   "metadata": {
    "collapsed": false
   },
   "outputs": [
    {
     "data": {
      "text/plain": [
       "['Pete']"
      ]
     },
     "execution_count": 17,
     "metadata": {},
     "output_type": "execute_result"
    }
   ],
   "source": [
    "digit_name(7383)"
   ]
  },
  {
   "cell_type": "code",
   "execution_count": 24,
   "metadata": {
    "collapsed": true
   },
   "outputs": [],
   "source": [
    "def corpus_crypto(corpus_string, string_to_encrypt):\n",
    "    corpus_proccessed = \"\".join([c.lower() for c in corpus_string if c.isalpha()])\n",
    "    string_processed = \"\".join([c.lower() for c in string_to_encrypt if c.isalpha()])\n",
    "    corpus_fd = nltk.FreqDist(corpus_processed)\n",
    "    corpus_c_ordered = [v[0] for v in corpus_fd.most_common()]\n",
    "    string_fd = nltk.FreqDist(string_processed)\n",
    "    string_c_ordered = [v[0] for v in string_processed.most_common()]\n",
    "    \n",
    "    ans = \"\"\n",
    "    for c in string_to_encrypt:\n",
    "        if not c.isalpha():\n",
    "            ans += c\n",
    "        else:\n",
    "            ans += corpus_c_ordered[string_c_ordered.index(c)]\n",
    "    \n",
    "    return ans"
   ]
  },
  {
   "cell_type": "code",
   "execution_count": 48,
   "metadata": {
    "collapsed": true
   },
   "outputs": [],
   "source": [
    " k"
   ]
  },
  {
   "cell_type": "code",
   "execution_count": 51,
   "metadata": {
    "collapsed": false
   },
   "outputs": [
    {
     "name": "stdout",
     "output_type": "stream",
     "text": [
      "['the', 'brown', 'corpus', 'is', 'a', 'convenient', 'resource', 'for', 'studying', 'systematic', 'differences', 'between', 'genres', 'a', 'kind', 'of', 'linguistic', 'inquiry', 'known', 'as', 'stylistics', \"let's\", 'compare', 'genres', 'in', 'their', 'usage', 'of', 'modal', 'verbs', 'the', 'first', 'step', 'is', 'to', 'produce', 'the', 'counts', 'for', 'a', 'particular', 'genre', 'next', 'we', 'need', 'to', 'obtain', 'counts', 'for', 'each', 'genre', 'of', 'interest', \"we'll\", 'use', \"nltk's\", 'support', 'for', 'conditional', 'frequency', 'distributions', 'these', 'are', 'presented', 'systematically', 'in', 'where', 'we', 'also', 'unpick', 'the', 'following', 'code', 'line', 'by', 'line', 'for', 'the', 'moment', 'you', 'can', 'ignore', 'the', 'details', 'and', 'just', 'concentrate', 'on', 'the', 'output']\n"
     ]
    },
    {
     "data": {
      "text/plain": [
       "0.07692307692307693"
      ]
     },
     "execution_count": 51,
     "metadata": {},
     "output_type": "execute_result"
    }
   ],
   "source": [
    "file_search('text.txt','we\\'ll')"
   ]
  },
  {
   "cell_type": "code",
   "execution_count": null,
   "metadata": {
    "collapsed": true
   },
   "outputs": [],
   "source": []
  },
  {
   "cell_type": "code",
   "execution_count": null,
   "metadata": {
    "collapsed": true
   },
   "outputs": [],
   "source": []
  }
 ],
 "metadata": {
  "kernelspec": {
   "display_name": "Python 3",
   "language": "python",
   "name": "python3"
  },
  "language_info": {
   "codemirror_mode": {
    "name": "ipython",
    "version": 3
   },
   "file_extension": ".py",
   "mimetype": "text/x-python",
   "name": "python",
   "nbconvert_exporter": "python",
   "pygments_lexer": "ipython3",
   "version": "3.6.0"
  }
 },
 "nbformat": 4,
 "nbformat_minor": 2
}
