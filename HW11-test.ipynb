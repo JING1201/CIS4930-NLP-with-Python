{
 "cells": [
  {
   "cell_type": "code",
   "execution_count": 1,
   "metadata": {
    "collapsed": true
   },
   "outputs": [],
   "source": [
    "import nltk"
   ]
  },
  {
   "cell_type": "code",
   "execution_count": 31,
   "metadata": {
    "collapsed": true
   },
   "outputs": [],
   "source": [
    "grammar = r\"\"\"\n",
    "            NP: {<DT|PP\\$>?<JJ>*<NN>*<VBG>*<NN>}\n",
    "                {<NNP>+}\n",
    "            \"\"\""
   ]
  },
  {
   "cell_type": "code",
   "execution_count": 32,
   "metadata": {
    "collapsed": true
   },
   "outputs": [],
   "source": [
    "cp = nltk.RegexpParser(grammar)"
   ]
  },
  {
   "cell_type": "code",
   "execution_count": 33,
   "metadata": {
    "collapsed": false
   },
   "outputs": [],
   "source": [
    "sentence = 'the receiving end'\n",
    "tagged_words = nltk.pos_tag(nltk.word_tokenize(sentence))"
   ]
  },
  {
   "cell_type": "code",
   "execution_count": 34,
   "metadata": {
    "collapsed": false
   },
   "outputs": [
    {
     "name": "stdout",
     "output_type": "stream",
     "text": [
      "(S (NP the/DT receiving/VBG end/NN))\n"
     ]
    }
   ],
   "source": [
    "result = cp.parse(tagged_words)\n",
    "print(result)"
   ]
  },
  {
   "cell_type": "code",
   "execution_count": 37,
   "metadata": {
    "collapsed": false
   },
   "outputs": [
    {
     "name": "stdout",
     "output_type": "stream",
     "text": [
      "Do you want to input your own sentence (1) or try one of the examples (2)?1\n",
      "Input your own sentence here: Rapenzul let her long golden dying hair down\n"
     ]
    }
   ],
   "source": [
    "user_input = input('Do you want to input your own sentence (1) or try one of the examples (2)?')\n",
    "if user_input == '1':\n",
    "    sentence = input('Input your own sentence here: ')\n",
    "elif user_input == '2':\n",
    "    choice = input('''Please choose from the following examples: \\n\n",
    "                    (1) the receiving end\\n\n",
    "                    (2) assistant managing editor\\n''')\n",
    "    if choice == '1':\n",
    "        sentence = 'the receiving end'\n",
    "    elif choice == '2':\n",
    "        sentence = 'assistant managing editor'\n",
    "    else:\n",
    "        print ('Invalid choice. Default sentence \\'the receiving end\\' is chosen. ')\n",
    "        sentence = 'the receiving end'\n",
    "else:\n",
    "    print ('Invalid choice. Default sentence \\'the receiving end\\' is chosen. ')\n",
    "    sentence = 'the receiving end'"
   ]
  },
  {
   "cell_type": "code",
   "execution_count": 38,
   "metadata": {
    "collapsed": false
   },
   "outputs": [
    {
     "data": {
      "image/png": "[encoded data removed]",
      "text/plain": [
       "Tree('S', [Tree('NP', [('Rapenzul', 'NNP')]), ('let', 'VBD'), ('her', 'PRP$'), Tree('NP', [('long', 'JJ'), ('golden', 'JJ'), ('dying', 'NN'), ('hair', 'NN')]), ('down', 'RP')])"
      ]
     },
     "execution_count": 38,
     "metadata": {},
     "output_type": "execute_result"
    }
   ],
   "source": [
    "tagged_words = nltk.pos_tag(nltk.word_tokenize(sentence))\n",
    "result = cp.parse(tagged_words)\n",
    "result"
   ]
  },
  {
   "cell_type": "code",
   "execution_count": 66,
   "metadata": {
    "collapsed": true
   },
   "outputs": [],
   "source": [
    "binary_grammar = nltk.CFG.fromstring(\"\"\"\n",
    "    INSTRUCTION -> 64BIT | 32BIT\n",
    "    64BIT -> 32BIT 32BIT\n",
    "    32BIT -> BYTE BYTE BYTE BYTE\n",
    "    BYTE -> WORD WORD\n",
    "    WORD -> BIT BIT BIT BIT\n",
    "    BIT -> '0' | '1'\n",
    "    \"\"\")"
   ]
  },
  {
   "cell_type": "code",
   "execution_count": 68,
   "metadata": {
    "collapsed": true
   },
   "outputs": [],
   "source": [
    "instruction = '0100010001000100010001000100010001000100010001000100010001000100'\n",
    "instruction = '01000100010001000100010001000100'\n",
    "parser = nltk.ChartParser(binary_grammar)"
   ]
  },
  {
   "cell_type": "code",
   "execution_count": 69,
   "metadata": {
    "collapsed": false
   },
   "outputs": [
    {
     "name": "stdout",
     "output_type": "stream",
     "text": [
      "(INSTRUCTION\n",
      "  (32BIT\n",
      "    (BYTE\n",
      "      (WORD (BIT 0) (BIT 1) (BIT 0) (BIT 0))\n",
      "      (WORD (BIT 0) (BIT 1) (BIT 0) (BIT 0)))\n",
      "    (BYTE\n",
      "      (WORD (BIT 0) (BIT 1) (BIT 0) (BIT 0))\n",
      "      (WORD (BIT 0) (BIT 1) (BIT 0) (BIT 0)))\n",
      "    (BYTE\n",
      "      (WORD (BIT 0) (BIT 1) (BIT 0) (BIT 0))\n",
      "      (WORD (BIT 0) (BIT 1) (BIT 0) (BIT 0)))\n",
      "    (BYTE\n",
      "      (WORD (BIT 0) (BIT 1) (BIT 0) (BIT 0))\n",
      "      (WORD (BIT 0) (BIT 1) (BIT 0) (BIT 0)))))\n"
     ]
    }
   ],
   "source": [
    "for tree in parser.parse(instruction):\n",
    "    print(tree)"
   ]
  },
  {
   "cell_type": "code",
   "execution_count": 58,
   "metadata": {
    "collapsed": false
   },
   "outputs": [
    {
     "data": {
      "text/plain": [
       "<generator object Chart.parses at 0x0000019CD6855410>"
      ]
     },
     "execution_count": 58,
     "metadata": {},
     "output_type": "execute_result"
    }
   ],
   "source": [
    "parser.parse(instruction)"
   ]
  },
  {
   "cell_type": "code",
   "execution_count": null,
   "metadata": {
    "collapsed": true
   },
   "outputs": [],
   "source": []
  }
 ],
 "metadata": {
  "kernelspec": {
   "display_name": "Python 3",
   "language": "python",
   "name": "python3"
  },
  "language_info": {
   "codemirror_mode": {
    "name": "ipython",
    "version": 3
   },
   "file_extension": ".py",
   "mimetype": "text/x-python",
   "name": "python",
   "nbconvert_exporter": "python",
   "pygments_lexer": "ipython3",
   "version": "3.6.0"
  }
 },
 "nbformat": 4,
 "nbformat_minor": 2
}
