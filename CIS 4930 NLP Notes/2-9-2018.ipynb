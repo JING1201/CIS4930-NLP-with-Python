{
 "cells": [
  {
   "cell_type": "code",
   "execution_count": 1,
   "metadata": {
    "collapsed": true
   },
   "outputs": [],
   "source": [
    "import nltk\n",
    "import re"
   ]
  },
  {
   "cell_type": "code",
   "execution_count": 2,
   "metadata": {
    "collapsed": false
   },
   "outputs": [
    {
     "name": "stdout",
     "output_type": "stream",
     "text": [
      "\n",
      "\n",
      "(a) Load Angela's Ashes Text\n",
      "(b) Load Pet Diary Text\n",
      "(c) the\n",
      "(d) [tT]he\n",
      "(e) Enter a Pattern\n",
      "(q) Quit\n",
      "Enter a selection:  a\n",
      "\n",
      "\n",
      "Loading Angela's Ashes\n",
      "\n",
      "\n",
      "(a) Load Angela's Ashes Text\n",
      "(b) Load Pet Diary Text\n",
      "(c) the\n",
      "(d) [tT]he\n",
      "(e) Enter a Pattern\n",
      "(q) Quit\n",
      "Enter a selection:  c\n",
      "\n",
      "\n",
      "Looking for \"the\"\n",
      "length of \"the\" found:   17\n",
      "['the', 'the', 'the', 'the', 'the', 'the', 'the', 'the', 'the', 'the', 'the', 'the', 'the', 'the', 'the', 'the', 'the']\n",
      "\n",
      "\n",
      "(a) Load Angela's Ashes Text\n",
      "(b) Load Pet Diary Text\n",
      "(c) the\n",
      "(d) [tT]he\n",
      "(e) Enter a Pattern\n",
      "(q) Quit\n",
      "Enter a selection:  d\n",
      "\n",
      "\n",
      "Looking for \"[tT]he\"\n",
      "length of \"[tT]he\" found:   20\n",
      "['the', 'the', 'the', 'the', 'The', 'the', 'the', 'the', 'the', 'the', 'the', 'the', 'the', 'The', 'the', 'the', 'the', 'the', 'The', 'the']\n",
      "\n",
      "\n",
      "(a) Load Angela's Ashes Text\n",
      "(b) Load Pet Diary Text\n",
      "(c) the\n",
      "(d) [tT]he\n",
      "(e) Enter a Pattern\n",
      "(q) Quit\n",
      "Enter a selection:  e\n",
      "\n",
      "\n",
      "Enter the Pattern:  [sS]ay\n",
      "length of [sS]ay found:   3\n",
      "['says', 'says', 'saying']\n",
      "\n",
      "\n",
      "(a) Load Angela's Ashes Text\n",
      "(b) Load Pet Diary Text\n",
      "(c) the\n",
      "(d) [tT]he\n",
      "(e) Enter a Pattern\n",
      "(q) Quit\n",
      "Enter a selection:  e\n",
      "\n",
      "\n",
      "Enter the Pattern:  \\b[sS]ay\\b\n",
      "length of \\b[sS]ay\\b found:   0\n",
      "[]\n",
      "\n",
      "\n",
      "(a) Load Angela's Ashes Text\n",
      "(b) Load Pet Diary Text\n",
      "(c) the\n",
      "(d) [tT]he\n",
      "(e) Enter a Pattern\n",
      "(q) Quit\n",
      "Enter a selection:  \\bthe\\b\n",
      "\n",
      "\n",
      "\n",
      "\n",
      "(a) Load Angela's Ashes Text\n",
      "(b) Load Pet Diary Text\n",
      "(c) the\n",
      "(d) [tT]he\n",
      "(e) Enter a Pattern\n",
      "(q) Quit\n",
      "Enter a selection:  e\n",
      "\n",
      "\n",
      "Enter the Pattern:  \\bthe\\b\n",
      "length of \\bthe\\b found:   17\n",
      "['the', 'the', 'the', 'the', 'the', 'the', 'the', 'the', 'the', 'the', 'the', 'the', 'the', 'the', 'the', 'the', 'the']\n",
      "\n",
      "\n",
      "(a) Load Angela's Ashes Text\n",
      "(b) Load Pet Diary Text\n",
      "(c) the\n",
      "(d) [tT]he\n",
      "(e) Enter a Pattern\n",
      "(q) Quit\n",
      "Enter a selection:  [tH]e\n",
      "\n",
      "\n",
      "\n",
      "\n",
      "(a) Load Angela's Ashes Text\n",
      "(b) Load Pet Diary Text\n",
      "(c) the\n",
      "(d) [tT]he\n",
      "(e) Enter a Pattern\n",
      "(q) Quit\n",
      "Enter a selection:  e\n",
      "\n",
      "\n",
      "Enter the Pattern:  [tH]e\n",
      "length of [tH]e found:   22\n",
      "['Chapter', 'master', 'He', 'teaches', 'threaten', 'September', 'writes', 'He', 'interfering', 'He', 'after', 'masters', 'telling', 'masters', 'carpenter', 'mutters', 'festering', 'teeth', 'Festering', 'teeth', 'He', 'tells']\n",
      "\n",
      "\n",
      "(a) Load Angela's Ashes Text\n",
      "(b) Load Pet Diary Text\n",
      "(c) the\n",
      "(d) [tT]he\n",
      "(e) Enter a Pattern\n",
      "(q) Quit\n",
      "Enter a selection:  e\n",
      "\n",
      "\n",
      "Enter the Pattern:  [tT]he\n",
      "length of [tT]he found:   29\n",
      "['the', 'the', 'the', 'the', 'The', 'the', 'there', 'the', 'the', 'these', 'the', 'theorems', 'the', 'theorems', 'the', 'theorem', 'the', 'the', 'them', 'The', 'the', 'other', 'mathematics', 'there', 'the', 'the', 'the', 'The', 'the']\n",
      "\n",
      "\n",
      "(a) Load Angela's Ashes Text\n",
      "(b) Load Pet Diary Text\n",
      "(c) the\n",
      "(d) [tT]he\n",
      "(e) Enter a Pattern\n",
      "(q) Quit\n",
      "Enter a selection:  q\n",
      "\n",
      "\n",
      "Goodbye.\n"
     ]
    }
   ],
   "source": [
    "selection = 'a'\n",
    "\n",
    "while (selection != 'q'):\n",
    "        print( '\\n' )\n",
    "        print( '(a) Load Angela\\'s Ashes Text' )\n",
    "        print( '(b) Load Pet Diary Text' )\n",
    "        print( '(c) the' )\n",
    "        print( '(d) [tT]he' )\n",
    "        print( '(e) Enter a Pattern' )\n",
    "        print( '(q) Quit' )\n",
    "        selection = input('Enter a selection:  ')\n",
    "        print( '\\n' )\n",
    "\n",
    "        if (selection == 'a'):\n",
    "                # Load Angela's Ashes\n",
    "                print( 'Loading Angela\\'s Ashes' )\n",
    "                filehandle = open('AngelasAshes.txt', 'r')\n",
    "                text = filehandle.read()\n",
    "                tokens = nltk.word_tokenize(text)\n",
    "                filehandle.close()\n",
    "\n",
    "        elif (selection == 'b'):\n",
    "                # Load Pet Diary\n",
    "                print( 'Loading Pet Diary' )\n",
    "                filehandle = open('PetDiary.txt', 'r')\n",
    "                text = filehandle.read()\n",
    "                tokens = nltk.word_tokenize(text)\n",
    "                filehandle.close()\n",
    "\n",
    "        elif (selection == 'c'):\n",
    "                # the\n",
    "                print( 'Looking for \"the\"' )\n",
    "                found = [w for w in tokens if re.search(r'\\bthe\\b', w)]\n",
    "                print( 'length of \"the\" found:  ', len(found) )\n",
    "                print( found )\n",
    "\n",
    "        elif (selection == 'd'):\n",
    "                # [tT]he\n",
    "                print( 'Looking for \"[tT]he\"' )\n",
    "                found = [w for w in tokens if re.search(r'\\b[tT]he\\b', w)]\n",
    "                print( 'length of \"[tT]he\" found:  ', len(found) )\n",
    "                print( found )\n",
    "\n",
    "        elif (selection == 'e'):\n",
    "                # User entered pattern\n",
    "                pattern = input('Enter the Pattern:  ')\n",
    "                found = [w for w in tokens if re.search(pattern, w)]\n",
    "                print( 'length of ' + pattern + ' found:  ', len(found) )\n",
    "                print( found )\n",
    "\n",
    "print( 'Goodbye.' )"
   ]
  },
  {
   "cell_type": "code",
   "execution_count": 3,
   "metadata": {
    "collapsed": true
   },
   "outputs": [],
   "source": [
    "text = nltk.corpus.nps_chat.words()"
   ]
  },
  {
   "cell_type": "code",
   "execution_count": 4,
   "metadata": {
    "collapsed": true
   },
   "outputs": [],
   "source": [
    "pattern = re.compile(r'\\b[tT]he\\b')"
   ]
  },
  {
   "cell_type": "code",
   "execution_count": 5,
   "metadata": {
    "collapsed": false
   },
   "outputs": [
    {
     "data": {
      "text/plain": [
       "659"
      ]
     },
     "execution_count": 5,
     "metadata": {},
     "output_type": "execute_result"
    }
   ],
   "source": [
    "list1 = [ w for w in text if pattern.search(w)]\n",
    "len(list1)"
   ]
  },
  {
   "cell_type": "code",
   "execution_count": 6,
   "metadata": {
    "collapsed": false
   },
   "outputs": [
    {
     "data": {
      "text/plain": [
       "660"
      ]
     },
     "execution_count": 6,
     "metadata": {},
     "output_type": "execute_result"
    }
   ],
   "source": [
    "pattern = re.compile(r'\\b[tT]he\\b', re.IGNORECASE)\n",
    "list1 = [ w for w in text if pattern.search(w)]\n",
    "len(list1)"
   ]
  },
  {
   "cell_type": "code",
   "execution_count": 9,
   "metadata": {
    "collapsed": false
   },
   "outputs": [
    {
     "data": {
      "text/plain": [
       "181"
      ]
     },
     "execution_count": 9,
     "metadata": {},
     "output_type": "execute_result"
    }
   ],
   "source": [
    "pattern = re.compile(r'\\b[tThHeE]\\b')\n",
    "list1 = [ w for w in text if pattern.search(w)]\n",
    "len(list1)"
   ]
  },
  {
   "cell_type": "code",
   "execution_count": 10,
   "metadata": {
    "collapsed": false
   },
   "outputs": [
    {
     "data": {
      "text/plain": [
       "[\"n't\",\n",
       " \"n't\",\n",
       " \"n't\",\n",
       " 'e-bay',\n",
       " \"n't\",\n",
       " \"n't\",\n",
       " \"n't\",\n",
       " \"n't\",\n",
       " \"n't\",\n",
       " \"n't\",\n",
       " \"n't\",\n",
       " \"n't\",\n",
       " \"n't\",\n",
       " \"n't\",\n",
       " \"n't\",\n",
       " \"n't\",\n",
       " \"n't\",\n",
       " \"n't\",\n",
       " 'n\"t',\n",
       " 'n\"t',\n",
       " \"n't\",\n",
       " \"n't\",\n",
       " \"n't\",\n",
       " \"n't\",\n",
       " \"n't\",\n",
       " \"n't\",\n",
       " \"n't\",\n",
       " \"n't\",\n",
       " \"n't\",\n",
       " \"n't\",\n",
       " 'h.s',\n",
       " \"n't\",\n",
       " \"n't\",\n",
       " \"n't\",\n",
       " \"n't\",\n",
       " \"n't\",\n",
       " \"n't\",\n",
       " \"n't\",\n",
       " \"n't\",\n",
       " \"n't\",\n",
       " \"n't\",\n",
       " \"n't\",\n",
       " \"n't\",\n",
       " \"n't\",\n",
       " \"n't\",\n",
       " 't',\n",
       " 'capab;e',\n",
       " \"n't\",\n",
       " \"n't\",\n",
       " \"n't\",\n",
       " \"n't\",\n",
       " \"n't\",\n",
       " \"n't\",\n",
       " \"n't\",\n",
       " \"n't\",\n",
       " \"n't\",\n",
       " \"n't\",\n",
       " 'n;t',\n",
       " \"n't\",\n",
       " \"n't\",\n",
       " \"t'anks\",\n",
       " \"n't\",\n",
       " \"n't\",\n",
       " \"n't\",\n",
       " \"n't\",\n",
       " \"n't\",\n",
       " \"n't\",\n",
       " \"n't\",\n",
       " \"n't\",\n",
       " \"n't\",\n",
       " \"n't\",\n",
       " \"n't\",\n",
       " \"n't\",\n",
       " \"n't\",\n",
       " \"n't\",\n",
       " \"n't\",\n",
       " \"n't\",\n",
       " \"n't\",\n",
       " \"n't\",\n",
       " \"n't\",\n",
       " \"n't\",\n",
       " \"n't\",\n",
       " \"n't\",\n",
       " \"n't\",\n",
       " \"n't\",\n",
       " \"n't\",\n",
       " \"n't\",\n",
       " \"n't\",\n",
       " 'e-husband',\n",
       " \"n't\",\n",
       " 'e-herpes',\n",
       " \"n't\",\n",
       " 'h',\n",
       " \"n't\",\n",
       " \"n't\",\n",
       " \"n't\",\n",
       " 'h',\n",
       " \"n't\",\n",
       " \"n't\",\n",
       " 't-shirt',\n",
       " \"n't\",\n",
       " \"n't\",\n",
       " \"n't\",\n",
       " \"n't\",\n",
       " \"n't\",\n",
       " \"n't\",\n",
       " \"n't\",\n",
       " \"n't\",\n",
       " \"n't\",\n",
       " \"n't\",\n",
       " 'e-herpes',\n",
       " \"n't\",\n",
       " \"n't\",\n",
       " \"n't\",\n",
       " \"n't\",\n",
       " 'e',\n",
       " \"n't\",\n",
       " \"n't\",\n",
       " 'T-Mobile',\n",
       " 't',\n",
       " 'H',\n",
       " '.(..(.vMp3 vi.p.t.)..).',\n",
       " '.(..(.vMp3 vi.p.t.)..).',\n",
       " \"n't\",\n",
       " \"n't\",\n",
       " 't he',\n",
       " \"n't\",\n",
       " \"n't\",\n",
       " 'n e',\n",
       " 'n e',\n",
       " 'e-mail',\n",
       " 't',\n",
       " \"n't\",\n",
       " \"n't\",\n",
       " 'h',\n",
       " \"n't\",\n",
       " 't/c',\n",
       " \"n't\",\n",
       " 't/y',\n",
       " 'h',\n",
       " \"n't\",\n",
       " 'e-mail',\n",
       " \"n't\",\n",
       " \"n't\",\n",
       " \"n't\",\n",
       " \"n't\",\n",
       " \"n't\",\n",
       " \"n't\",\n",
       " \"n't\",\n",
       " \"n't\",\n",
       " \"n't\",\n",
       " 'N\"T',\n",
       " \"n't\",\n",
       " \"n't\",\n",
       " \"n't\",\n",
       " \"n't\",\n",
       " \"n't\",\n",
       " \"n't\",\n",
       " 'e-v-e-r-y',\n",
       " 'h',\n",
       " \"n't\",\n",
       " \"n't\",\n",
       " \"n't\",\n",
       " \"n't\",\n",
       " \"n't\",\n",
       " \"n't\",\n",
       " \"n't\",\n",
       " \"n't\",\n",
       " \"n't\",\n",
       " \"n't\",\n",
       " \"N'T\",\n",
       " \"N'T\",\n",
       " \"N'T\",\n",
       " 'n e',\n",
       " \"n't\",\n",
       " 'n e',\n",
       " \"n't\",\n",
       " \"n't\",\n",
       " 'n e',\n",
       " \"e'wjfghky\",\n",
       " \"n't\"]"
      ]
     },
     "execution_count": 10,
     "metadata": {},
     "output_type": "execute_result"
    }
   ],
   "source": [
    "list1"
   ]
  },
  {
   "cell_type": "code",
   "execution_count": 11,
   "metadata": {
    "collapsed": false
   },
   "outputs": [
    {
     "data": {
      "text/plain": [
       "660"
      ]
     },
     "execution_count": 11,
     "metadata": {},
     "output_type": "execute_result"
    }
   ],
   "source": [
    "pattern = re.compile(r'\\b[tT][hH][eE]\\b')\n",
    "list1 = [ w for w in text if pattern.search(w)]\n",
    "len(list1)"
   ]
  },
  {
   "cell_type": "code",
   "execution_count": 12,
   "metadata": {
    "collapsed": false
   },
   "outputs": [
    {
     "data": {
      "text/plain": [
       "['<html><title>example</title><body>the body of the example</body></html>']"
      ]
     },
     "execution_count": 12,
     "metadata": {},
     "output_type": "execute_result"
    }
   ],
   "source": [
    "text = '<html><title>example</title><body>the body of the example</body></html>'\n",
    "pattern = re.compile(r'(<.*>)')\n",
    "pattern.findall(text)"
   ]
  },
  {
   "cell_type": "code",
   "execution_count": 13,
   "metadata": {
    "collapsed": false
   },
   "outputs": [
    {
     "data": {
      "text/plain": [
       "['<html>', '<title>', '</title>', '<body>', '</body>', '</html>']"
      ]
     },
     "execution_count": 13,
     "metadata": {},
     "output_type": "execute_result"
    }
   ],
   "source": [
    "pattern = re.compile(r'(<.*?>)')\n",
    "pattern.findall(text)"
   ]
  },
  {
   "cell_type": "code",
   "execution_count": 15,
   "metadata": {
    "collapsed": false
   },
   "outputs": [
    {
     "data": {
      "text/plain": [
       "['html', 'title', 'title', 'body', 'body', 'html']"
      ]
     },
     "execution_count": 15,
     "metadata": {},
     "output_type": "execute_result"
    }
   ],
   "source": [
    "pattern = re.compile(r'</?(.*?)>')\n",
    "pattern.findall(text)"
   ]
  },
  {
   "cell_type": "code",
   "execution_count": 16,
   "metadata": {
    "collapsed": false
   },
   "outputs": [
    {
     "data": {
      "text/plain": [
       "['', 'example', '', 'the body of the example', '']"
      ]
     },
     "execution_count": 16,
     "metadata": {},
     "output_type": "execute_result"
    }
   ],
   "source": [
    "pattern = re.compile(r'>(.*?)<')\n",
    "pattern.findall(text)"
   ]
  },
  {
   "cell_type": "code",
   "execution_count": 18,
   "metadata": {
    "collapsed": false
   },
   "outputs": [
    {
     "data": {
      "text/plain": [
       "['is']"
      ]
     },
     "execution_count": 18,
     "metadata": {},
     "output_type": "execute_result"
    }
   ],
   "source": [
    "text1 = 'this is our text of data. it is complete.'\n",
    "result = re.findall(r'(\\w+)\\s+\\1', text1)\n",
    "result"
   ]
  },
  {
   "cell_type": "code",
   "execution_count": null,
   "metadata": {
    "collapsed": true
   },
   "outputs": [],
   "source": []
  }
 ],
 "metadata": {
  "kernelspec": {
   "display_name": "Python 3",
   "language": "python",
   "name": "python3"
  },
  "language_info": {
   "codemirror_mode": {
    "name": "ipython",
    "version": 3
   },
   "file_extension": ".py",
   "mimetype": "text/x-python",
   "name": "python",
   "nbconvert_exporter": "python",
   "pygments_lexer": "ipython3",
   "version": "3.6.0"
  }
 },
 "nbformat": 4,
 "nbformat_minor": 2
}
