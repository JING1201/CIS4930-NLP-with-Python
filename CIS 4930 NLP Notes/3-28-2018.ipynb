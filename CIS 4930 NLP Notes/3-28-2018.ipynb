{
 "cells": [
  {
   "cell_type": "markdown",
   "metadata": {},
   "source": [
    "Let T = {t1, t2, t3, ... tn}\n",
    "    W = {w1, w2, w3, ... wn}\n",
    "\n",
    "P(T | W)\n",
    "\n",
    "P(W | T) * P(T | previous n tags)\n",
    "\n",
    "Ex.\n",
    "Diagnose a cough:\n",
    "- is a cold?\n",
    "- Do I have asthma\n",
    "- Do I have the flu?\n",
    "- Did I swallow a fly while sleeping?\n",
    "\n",
    "Frequency of coughs\n",
    "             colds\n",
    "             colds that exhibit coughs\n",
    "             \n",
    "P(cold | cough) = [P(cough | cold) * P(cold)]/P(cough)\n",
    "\n",
    "#### P(X |Y) \\* P(Y) = P(Y|X) \\* P(X)\n",
    "##### P(f|label) = count(f, label) / count(label)\n",
    "\n",
    "\n",
    "Words and Tags => P(T|W) = [P(W|T) * P(T)]/P(W)\n",
    "\n",
    "P(DET|<-start->) \\* P(ADJ | DET) \\* P(ADJ | ADJ)\n",
    "\n",
    "P(VERB | <-start->)"
   ]
  },
  {
   "cell_type": "code",
   "execution_count": null,
   "metadata": {
    "collapsed": true
   },
   "outputs": [],
   "source": []
  }
 ],
 "metadata": {
  "kernelspec": {
   "display_name": "Python 3",
   "language": "python",
   "name": "python3"
  },
  "language_info": {
   "codemirror_mode": {
    "name": "ipython",
    "version": 3
   },
   "file_extension": ".py",
   "mimetype": "text/x-python",
   "name": "python",
   "nbconvert_exporter": "python",
   "pygments_lexer": "ipython3",
   "version": "3.6.0"
  }
 },
 "nbformat": 4,
 "nbformat_minor": 2
}
