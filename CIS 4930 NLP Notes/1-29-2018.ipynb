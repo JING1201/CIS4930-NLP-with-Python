{
 "cells": [
  {
   "cell_type": "code",
   "execution_count": 1,
   "metadata": {
    "collapsed": true
   },
   "outputs": [],
   "source": [
    "import nltk\n",
    "from nltk.corpus import wordnet as wn"
   ]
  },
  {
   "cell_type": "code",
   "execution_count": 2,
   "metadata": {
    "collapsed": false
   },
   "outputs": [
    {
     "name": "stdout",
     "output_type": "stream",
     "text": [
      "*** Introductory Examples for the NLTK Book ***\n",
      "Loading text1, ..., text9 and sent1, ..., sent9\n",
      "Type the name of the text or sentence to view it.\n",
      "Type: 'texts()' or 'sents()' to list the materials.\n",
      "text1: Moby Dick by Herman Melville 1851\n",
      "text2: Sense and Sensibility by Jane Austen 1811\n",
      "text3: The Book of Genesis\n",
      "text4: Inaugural Address Corpus\n",
      "text5: Chat Corpus\n",
      "text6: Monty Python and the Holy Grail\n",
      "text7: Wall Street Journal\n",
      "text8: Personals Corpus\n",
      "text9: The Man Who Was Thursday by G . K . Chesterton 1908\n"
     ]
    }
   ],
   "source": [
    "from nltk.book import *"
   ]
  },
  {
   "cell_type": "code",
   "execution_count": 14,
   "metadata": {
    "collapsed": true
   },
   "outputs": [],
   "source": [
    "nnw = nltk.corpus.wordnet.all_synsets('n')"
   ]
  },
  {
   "cell_type": "code",
   "execution_count": 15,
   "metadata": {
    "collapsed": false
   },
   "outputs": [],
   "source": [
    "nouns = list(nnw)"
   ]
  },
  {
   "cell_type": "code",
   "execution_count": 16,
   "metadata": {
    "collapsed": false
   },
   "outputs": [
    {
     "data": {
      "text/plain": [
       "[Synset('entity.n.01'),\n",
       " Synset('physical_entity.n.01'),\n",
       " Synset('abstraction.n.06'),\n",
       " Synset('thing.n.12'),\n",
       " Synset('object.n.01'),\n",
       " Synset('whole.n.02'),\n",
       " Synset('congener.n.03'),\n",
       " Synset('living_thing.n.01'),\n",
       " Synset('organism.n.01'),\n",
       " Synset('benthos.n.02')]"
      ]
     },
     "execution_count": 16,
     "metadata": {},
     "output_type": "execute_result"
    }
   ],
   "source": [
    "nouns[:10]"
   ]
  },
  {
   "cell_type": "code",
   "execution_count": 17,
   "metadata": {
    "collapsed": false
   },
   "outputs": [
    {
     "data": {
      "text/plain": [
       "[Synset('car.n.01')]"
      ]
     },
     "execution_count": 17,
     "metadata": {},
     "output_type": "execute_result"
    }
   ],
   "source": [
    "wn.synsets('motorcar')"
   ]
  },
  {
   "cell_type": "code",
   "execution_count": 18,
   "metadata": {
    "collapsed": false
   },
   "outputs": [
    {
     "data": {
      "text/plain": [
       "[Synset('bus.n.01'),\n",
       " Synset('bus_topology.n.01'),\n",
       " Synset('busbar.n.01'),\n",
       " Synset('bus.n.04'),\n",
       " Synset('bus.v.01'),\n",
       " Synset('bus.v.02'),\n",
       " Synset('bus.v.03')]"
      ]
     },
     "execution_count": 18,
     "metadata": {},
     "output_type": "execute_result"
    }
   ],
   "source": [
    "wn.synsets('bus')"
   ]
  },
  {
   "cell_type": "code",
   "execution_count": 19,
   "metadata": {
    "collapsed": false
   },
   "outputs": [
    {
     "data": {
      "text/plain": [
       "[Synset('airplane.n.01'),\n",
       " Synset('plane.n.02'),\n",
       " Synset('plane.n.03'),\n",
       " Synset('plane.n.04'),\n",
       " Synset('plane.n.05'),\n",
       " Synset('plane.v.01'),\n",
       " Synset('plane.v.02'),\n",
       " Synset('plane.v.03'),\n",
       " Synset('flat.s.01')]"
      ]
     },
     "execution_count": 19,
     "metadata": {},
     "output_type": "execute_result"
    }
   ],
   "source": [
    "wn.synsets('plane')"
   ]
  },
  {
   "cell_type": "code",
   "execution_count": 28,
   "metadata": {
    "collapsed": false
   },
   "outputs": [
    {
     "data": {
      "text/plain": [
       "'having a surface without slope, tilt in which no part is higher or lower than another'"
      ]
     },
     "execution_count": 28,
     "metadata": {},
     "output_type": "execute_result"
    }
   ],
   "source": [
    "wn.synset('flat.s.01').definition()"
   ]
  },
  {
   "cell_type": "code",
   "execution_count": 29,
   "metadata": {
    "collapsed": false
   },
   "outputs": [
    {
     "data": {
      "text/plain": [
       "['a flat desk',\n",
       " 'acres of level farmland',\n",
       " 'a plane surface',\n",
       " 'skirts sewn with fine flat seams']"
      ]
     },
     "execution_count": 29,
     "metadata": {},
     "output_type": "execute_result"
    }
   ],
   "source": [
    "wn.synset('flat.s.01').examples()"
   ]
  },
  {
   "cell_type": "code",
   "execution_count": 30,
   "metadata": {
    "collapsed": false
   },
   "outputs": [
    {
     "data": {
      "text/plain": [
       "[Lemma('flat.s.01.flat'), Lemma('flat.s.01.level'), Lemma('flat.s.01.plane')]"
      ]
     },
     "execution_count": 30,
     "metadata": {},
     "output_type": "execute_result"
    }
   ],
   "source": [
    "wn.synset('flat.s.01').lemmas()"
   ]
  },
  {
   "cell_type": "code",
   "execution_count": 31,
   "metadata": {
    "collapsed": false
   },
   "outputs": [
    {
     "data": {
      "text/plain": [
       "[Synset('game.n.01'),\n",
       " Synset('game.n.02'),\n",
       " Synset('game.n.03'),\n",
       " Synset('game.n.04'),\n",
       " Synset('game.n.05'),\n",
       " Synset('game.n.06'),\n",
       " Synset('game.n.07'),\n",
       " Synset('plot.n.01'),\n",
       " Synset('game.n.09'),\n",
       " Synset('game.n.10'),\n",
       " Synset('game.n.11'),\n",
       " Synset('bet_on.v.01'),\n",
       " Synset('crippled.s.01'),\n",
       " Synset('game.s.02')]"
      ]
     },
     "execution_count": 31,
     "metadata": {},
     "output_type": "execute_result"
    }
   ],
   "source": [
    "wn.synsets('game')"
   ]
  },
  {
   "cell_type": "code",
   "execution_count": 32,
   "metadata": {
    "collapsed": false
   },
   "outputs": [
    {
     "data": {
      "text/plain": [
       "[]"
      ]
     },
     "execution_count": 32,
     "metadata": {},
     "output_type": "execute_result"
    }
   ],
   "source": [
    "wn.synsets('boardgame')"
   ]
  },
  {
   "cell_type": "code",
   "execution_count": 33,
   "metadata": {
    "collapsed": false
   },
   "outputs": [
    {
     "data": {
      "text/plain": [
       "[Synset('entity.n.01')]"
      ]
     },
     "execution_count": 33,
     "metadata": {},
     "output_type": "execute_result"
    }
   ],
   "source": [
    "wn.synset('game.n.01').root_hypernyms()"
   ]
  },
  {
   "cell_type": "code",
   "execution_count": 34,
   "metadata": {
    "collapsed": false
   },
   "outputs": [
    {
     "data": {
      "text/plain": [
       "[Synset('compete.v.01')]"
      ]
     },
     "execution_count": 34,
     "metadata": {},
     "output_type": "execute_result"
    }
   ],
   "source": [
    "wn.synset('bet_on.v.01').root_hypernyms()"
   ]
  },
  {
   "cell_type": "code",
   "execution_count": 35,
   "metadata": {
    "collapsed": true
   },
   "outputs": [],
   "source": [
    "bet = wn.synset('bet_on.v.01')"
   ]
  },
  {
   "cell_type": "code",
   "execution_count": 36,
   "metadata": {
    "collapsed": false
   },
   "outputs": [
    {
     "data": {
      "text/plain": [
       "'place a bet on'"
      ]
     },
     "execution_count": 36,
     "metadata": {},
     "output_type": "execute_result"
    }
   ],
   "source": [
    "bet.definition()"
   ]
  },
  {
   "cell_type": "code",
   "execution_count": 37,
   "metadata": {
    "collapsed": false
   },
   "outputs": [
    {
     "data": {
      "text/plain": [
       "[Synset('call.n.08'),\n",
       " Synset('cut.n.15'),\n",
       " Synset('deal.n.08'),\n",
       " Synset('discard.n.02'),\n",
       " Synset('doubling.n.02'),\n",
       " Synset('lead.n.17'),\n",
       " Synset('revoke.n.01'),\n",
       " Synset('shuffle.n.01')]"
      ]
     },
     "execution_count": 37,
     "metadata": {},
     "output_type": "execute_result"
    }
   ],
   "source": [
    "wn.synset('card_game.n.01').part_meronyms()"
   ]
  },
  {
   "cell_type": "code",
   "execution_count": 38,
   "metadata": {
    "collapsed": true
   },
   "outputs": [],
   "source": [
    "def printInfo(synset):\n",
    "    print(synset.name(), ':', synset.definition())\n",
    "    print(synset.substance_meronyms())\n",
    "    print(synset.part_meronyms())\n",
    "    print(synset.substance_holonyms())"
   ]
  },
  {
   "cell_type": "code",
   "execution_count": 39,
   "metadata": {
    "collapsed": false
   },
   "outputs": [
    {
     "data": {
      "text/plain": [
       "Synset('bet_on.v.01')"
      ]
     },
     "execution_count": 39,
     "metadata": {},
     "output_type": "execute_result"
    }
   ],
   "source": [
    "bet"
   ]
  },
  {
   "cell_type": "code",
   "execution_count": 40,
   "metadata": {
    "collapsed": false
   },
   "outputs": [
    {
     "name": "stdout",
     "output_type": "stream",
     "text": [
      "bet_on.v.01 : place a bet on\n",
      "[]\n",
      "[]\n",
      "[]\n"
     ]
    }
   ],
   "source": [
    "printInfo(bet)"
   ]
  },
  {
   "cell_type": "code",
   "execution_count": 43,
   "metadata": {
    "collapsed": false
   },
   "outputs": [
    {
     "name": "stdout",
     "output_type": "stream",
     "text": [
      "wheel.n.01 : a simple machine consisting of a circular frame with spokes (or a solid disc) that can rotate on a shaft or axle (as in vehicles or other machines)\n",
      "[]\n",
      "[Synset('felloe.n.01'), Synset('rim.n.03')]\n",
      "[]\n"
     ]
    }
   ],
   "source": [
    "printInfo(wn.synset('wheel.n.01'))"
   ]
  },
  {
   "cell_type": "code",
   "execution_count": 44,
   "metadata": {
    "collapsed": false
   },
   "outputs": [
    {
     "data": {
      "text/plain": [
       "[Synset('chew.v.01'), Synset('swallow.v.01')]"
      ]
     },
     "execution_count": 44,
     "metadata": {},
     "output_type": "execute_result"
    }
   ],
   "source": [
    "wn.synset('eat.v.01').entailments()"
   ]
  },
  {
   "cell_type": "code",
   "execution_count": 45,
   "metadata": {
    "collapsed": false
   },
   "outputs": [
    {
     "data": {
      "text/plain": [
       "[Synset('dog.n.01'),\n",
       " Synset('frump.n.01'),\n",
       " Synset('dog.n.03'),\n",
       " Synset('cad.n.01'),\n",
       " Synset('frank.n.02'),\n",
       " Synset('pawl.n.01'),\n",
       " Synset('andiron.n.01'),\n",
       " Synset('chase.v.01')]"
      ]
     },
     "execution_count": 45,
     "metadata": {},
     "output_type": "execute_result"
    }
   ],
   "source": [
    "wn.synsets('dog')"
   ]
  },
  {
   "cell_type": "code",
   "execution_count": 46,
   "metadata": {
    "collapsed": false
   },
   "outputs": [
    {
     "data": {
      "text/plain": [
       "[Lemma('dog.n.01.dog'),\n",
       " Lemma('dog.n.01.domestic_dog'),\n",
       " Lemma('dog.n.01.Canis_familiaris')]"
      ]
     },
     "execution_count": 46,
     "metadata": {},
     "output_type": "execute_result"
    }
   ],
   "source": [
    "wn.synset('dog.n.01').lemmas()"
   ]
  },
  {
   "cell_type": "code",
   "execution_count": 47,
   "metadata": {
    "collapsed": true
   },
   "outputs": [],
   "source": [
    "dog = wn.synset('dog.n.01')"
   ]
  },
  {
   "cell_type": "code",
   "execution_count": 48,
   "metadata": {
    "collapsed": false
   },
   "outputs": [
    {
     "data": {
      "text/plain": [
       "Synset('dog.n.01')"
      ]
     },
     "execution_count": 48,
     "metadata": {},
     "output_type": "execute_result"
    }
   ],
   "source": [
    "dog"
   ]
  },
  {
   "cell_type": "code",
   "execution_count": 50,
   "metadata": {
    "collapsed": true
   },
   "outputs": [],
   "source": [
    "cat = wn.synset('cat.n.01')"
   ]
  },
  {
   "cell_type": "code",
   "execution_count": 52,
   "metadata": {
    "collapsed": false
   },
   "outputs": [
    {
     "data": {
      "text/plain": [
       "[Synset('carnivore.n.01')]"
      ]
     },
     "execution_count": 52,
     "metadata": {},
     "output_type": "execute_result"
    }
   ],
   "source": [
    "dog.lowest_common_hypernyms(cat)"
   ]
  },
  {
   "cell_type": "code",
   "execution_count": 53,
   "metadata": {
    "collapsed": false
   },
   "outputs": [
    {
     "data": {
      "text/plain": [
       "8"
      ]
     },
     "execution_count": 53,
     "metadata": {},
     "output_type": "execute_result"
    }
   ],
   "source": [
    "dog.min_depth()"
   ]
  },
  {
   "cell_type": "code",
   "execution_count": 54,
   "metadata": {
    "collapsed": false
   },
   "outputs": [
    {
     "data": {
      "text/plain": [
       "13"
      ]
     },
     "execution_count": 54,
     "metadata": {},
     "output_type": "execute_result"
    }
   ],
   "source": [
    "cat.min_depth()"
   ]
  },
  {
   "cell_type": "code",
   "execution_count": 55,
   "metadata": {
    "collapsed": false
   },
   "outputs": [
    {
     "data": {
      "text/plain": [
       "[Synset('canine.n.02'), Synset('domestic_animal.n.01')]"
      ]
     },
     "execution_count": 55,
     "metadata": {},
     "output_type": "execute_result"
    }
   ],
   "source": [
    "dog.hypernyms()"
   ]
  },
  {
   "cell_type": "code",
   "execution_count": 56,
   "metadata": {
    "collapsed": false
   },
   "outputs": [
    {
     "data": {
      "text/plain": [
       "[Synset('feline.n.01')]"
      ]
     },
     "execution_count": 56,
     "metadata": {},
     "output_type": "execute_result"
    }
   ],
   "source": [
    "cat.hypernyms()"
   ]
  },
  {
   "cell_type": "code",
   "execution_count": 57,
   "metadata": {
    "collapsed": false
   },
   "outputs": [
    {
     "data": {
      "text/plain": [
       "[Synset('canis.n.01'), Synset('pack.n.06')]"
      ]
     },
     "execution_count": 57,
     "metadata": {},
     "output_type": "execute_result"
    }
   ],
   "source": [
    "dog.member_holonyms()"
   ]
  },
  {
   "cell_type": "code",
   "execution_count": 58,
   "metadata": {
    "collapsed": false
   },
   "outputs": [
    {
     "data": {
      "text/plain": [
       "0.2"
      ]
     },
     "execution_count": 58,
     "metadata": {},
     "output_type": "execute_result"
    }
   ],
   "source": [
    "dog.path_similarity(cat)"
   ]
  },
  {
   "cell_type": "code",
   "execution_count": 63,
   "metadata": {
    "collapsed": true
   },
   "outputs": [],
   "source": [
    "wn.synsets('wolf')\n",
    "wolf = wn.synset('wolf.n.01')"
   ]
  },
  {
   "cell_type": "code",
   "execution_count": 64,
   "metadata": {
    "collapsed": false
   },
   "outputs": [
    {
     "data": {
      "text/plain": [
       "0.3333333333333333"
      ]
     },
     "execution_count": 64,
     "metadata": {},
     "output_type": "execute_result"
    }
   ],
   "source": [
    "dog.path_similarity(wolf)"
   ]
  },
  {
   "cell_type": "code",
   "execution_count": 65,
   "metadata": {
    "collapsed": false
   },
   "outputs": [
    {
     "data": {
      "text/plain": [
       "[Synset('canine.n.02')]"
      ]
     },
     "execution_count": 65,
     "metadata": {},
     "output_type": "execute_result"
    }
   ],
   "source": [
    "dog.lowest_common_hypernyms(wolf)"
   ]
  },
  {
   "cell_type": "markdown",
   "metadata": {},
   "source": [
    "# Zipf's Law"
   ]
  },
  {
   "cell_type": "code",
   "execution_count": 69,
   "metadata": {
    "collapsed": false
   },
   "outputs": [],
   "source": [
    "def zipfs_law(text):\n",
    "    zipf = [] #list of tuples\n",
    "    stops = nltk.corpus.stopwords.words('english')\n",
    "    text_trimmed = [ w for w in text\n",
    "                   if w.lower() not in stops and w.isalpha() ]\n",
    "    num_text = len(text_trimmed)\n",
    "    fd = FreqDist(text_trimmed)\n",
    "    all_words = fd.most_common() #is parameter is empty, most_common returns everything (tuples)\n",
    "    num_words = len(all_words)\n",
    "    for rank in range (0, num_words):\n",
    "        word = all_words[rank][0]\n",
    "        freq = all_words[rank][1]\n",
    "        zipf.append(((rank+1, word, freq),((rank+1)*freq),((freq/num_text)*100)))\n",
    "    return zipf"
   ]
  },
  {
   "cell_type": "code",
   "execution_count": 71,
   "metadata": {
    "collapsed": false
   },
   "outputs": [
    {
     "data": {
      "text/plain": [
       "[((1, 'one', 2873), 2873, 0.5641441522816126),\n",
       " ((2, 'would', 2677), 5354, 0.5256574645519934),\n",
       " ((3, 'said', 1943), 5829, 0.3815287462176029),\n",
       " ((4, 'could', 1580), 6320, 0.31024982965713466),\n",
       " ((5, 'time', 1556), 7780, 0.3055371740167731),\n",
       " ((6, 'two', 1311), 7866, 0.25742881435474907),\n",
       " ((7, 'may', 1292), 9044, 0.2536979619727962),\n",
       " ((8, 'first', 1242), 9936, 0.24387992938870967),\n",
       " ((9, 'like', 1237), 11133, 0.24289812613030098),\n",
       " ((10, 'man', 1151), 11510, 0.22601111008567215),\n",
       " ((11, 'made', 1122), 12342, 0.22031665118690197),\n",
       " ((12, 'new', 1060), 12720, 0.20814229078263466),\n",
       " ((13, 'must', 1003), 13039, 0.19694973363677598),\n",
       " ((14, 'also', 999), 13986, 0.19616429103004906),\n",
       " ((15, 'Af', 995), 14925, 0.19537884842332215),\n",
       " ((16, 'even', 985), 15760, 0.19341524190650486),\n",
       " ((17, 'back', 950), 16150, 0.18654261909764427),\n",
       " ((18, 'years', 943), 16974, 0.18516809453587216),\n",
       " ((19, 'many', 925), 17575, 0.181633602805601),\n",
       " ((20, 'much', 900), 18000, 0.17672458651355774),\n",
       " ((21, 'way', 892), 18732, 0.17515370130010388),\n",
       " ((22, 'people', 811), 17842, 0.15924848851388368),\n",
       " ((23, 'little', 788), 18124, 0.15473219352520387),\n",
       " ((24, 'make', 768), 18432, 0.15080498049156926),\n",
       " ((25, 'good', 767), 19175, 0.15060861983988752),\n",
       " ((26, 'well', 757), 19682, 0.1486450133230702),\n",
       " ((27, 'work', 755), 20385, 0.14825229201970677),\n",
       " ((28, 'men', 736), 20608, 0.14452143963775388),\n",
       " ((29, 'still', 731), 21199, 0.14353963637934522),\n",
       " ((30, 'see', 728), 21840, 0.14295055442430002),\n",
       " ((31, 'get', 719), 22289, 0.14118330855916444),\n",
       " ((32, 'long', 713), 22816, 0.14000514464907407),\n",
       " ((33, 'world', 684), 22572, 0.1343106857503039),\n",
       " ((34, 'know', 679), 23086, 0.1333288824918952),\n",
       " ((35, 'life', 676), 23660, 0.13273980053685003),\n",
       " ((36, 'might', 670), 24120, 0.13156163662675965),\n",
       " ((37, 'us', 670), 24790, 0.13156163662675965),\n",
       " ((38, 'never', 664), 25232, 0.13038347271666925),\n",
       " ((39, 'year', 649), 25311, 0.1274380629414433),\n",
       " ((40, 'last', 636), 25440, 0.12488537446958078),\n",
       " ((41, 'day', 623), 25543, 0.12233268599771828),\n",
       " ((42, 'came', 621), 26082, 0.12193996469435484),\n",
       " ((43, 'used', 610), 26230, 0.1197799975258558),\n",
       " ((44, 'great', 608), 26752, 0.11938727622249233),\n",
       " ((45, 'go', 605), 27225, 0.11879819426744713),\n",
       " ((46, 'right', 597), 27462, 0.11722730905399328),\n",
       " ((47, 'come', 589), 27683, 0.11565642384053945),\n",
       " ((48, 'take', 577), 27696, 0.11330009602035866),\n",
       " ((49, 'New', 575), 28175, 0.11290737471699522),\n",
       " ((50, 'another', 573), 28650, 0.11251465341363175),\n",
       " ((51, 'American', 569), 29019, 0.11172921080690483),\n",
       " ((52, 'old', 568), 29536, 0.1115328501552231),\n",
       " ((53, 'use', 566), 29998, 0.11114012885185963),\n",
       " ((54, 'around', 556), 30024, 0.10917652233504233),\n",
       " ((55, 'three', 553), 30415, 0.10858744037999712),\n",
       " ((56, 'state', 544), 30464, 0.10682019451486156),\n",
       " ((57, 'without', 541), 30837, 0.10623111255981636),\n",
       " ((58, 'found', 536), 31088, 0.10524930930140772),\n",
       " ((59, 'place', 528), 31152, 0.10367842408795386),\n",
       " ((60, 'home', 526), 31560, 0.1032857027845904),\n",
       " ((61, 'small', 518), 31598, 0.10171481757113657),\n",
       " ((62, 'thought', 515), 31930, 0.10112573561609137),\n",
       " ((63, 'went', 506), 31878, 0.09935848975095578),\n",
       " ((64, 'say', 495), 31680, 0.09719852258245675),\n",
       " ((65, 'upon', 475), 30875, 0.09327130954882214),\n",
       " ((66, 'got', 471), 31086, 0.09248586694209521),\n",
       " ((67, 'left', 471), 31557, 0.09248586694209521),\n",
       " ((68, 'number', 467), 31756, 0.09170042433536828),\n",
       " ((69, 'part', 465), 32085, 0.09130770303200482),\n",
       " ((70, 'course', 464), 32480, 0.09111134238032309),\n",
       " ((71, 'United', 463), 32873, 0.09091498172864136),\n",
       " ((72, 'high', 461), 33192, 0.0905222604252779),\n",
       " ((73, 'since', 455), 33215, 0.08934409651518752),\n",
       " ((74, 'away', 453), 33522, 0.08895137521182404),\n",
       " ((75, 'always', 449), 33675, 0.08816593260509713),\n",
       " ((76, 'fact', 447), 33972, 0.08777321130173367),\n",
       " ((77, 'States', 445), 34265, 0.08738048999837021),\n",
       " ((78, 'every', 434), 33852, 0.08522052282987118),\n",
       " ((79, 'water', 431), 34049, 0.08463144087482598),\n",
       " ((80, 'think', 427), 34160, 0.08384599826809906),\n",
       " ((81, 'less', 426), 34506, 0.08364963761641732),\n",
       " ((82, 'enough', 426), 34932, 0.08364963761641732),\n",
       " ((83, 'took', 425), 35275, 0.08345327696473559),\n",
       " ((84, 'put', 424), 35616, 0.08325691631305386),\n",
       " ((85, 'head', 421), 35785, 0.08266783435800866),\n",
       " ((86, 'something', 420), 36120, 0.08247147370632694),\n",
       " ((87, 'One', 419), 36453, 0.0822751130546452),\n",
       " ((88, 'hand', 418), 36784, 0.08207875240296349),\n",
       " ((89, 'school', 417), 37113, 0.08188239175128174),\n",
       " ((90, 'told', 411), 36990, 0.08070422784119137),\n",
       " ((91, 'far', 409), 37219, 0.0803115065378279),\n",
       " ((92, 'set', 408), 37536, 0.08011514588614617),\n",
       " ((93, 'almost', 406), 37758, 0.07972242458278271),\n",
       " ((94, 'better', 402), 37788, 0.07893698197605578),\n",
       " ((95, 'public', 401), 38095, 0.07874062132437405),\n",
       " ((96, 'end', 400), 38400, 0.07854426067269232),\n",
       " ((97, 'house', 400), 38800, 0.07854426067269232),\n",
       " ((98, 'night', 398), 39004, 0.07815153936932885),\n",
       " ((99, 'called', 396), 39204, 0.0777588180659654),\n",
       " ((100, 'find', 395), 39500, 0.07756245741428366),\n",
       " ((101, 'knew', 395), 39895, 0.07756245741428366),\n",
       " ((102, 'system', 393), 40086, 0.0771697361109202),\n",
       " ((103, 'going', 392), 40376, 0.07697337545923848),\n",
       " ((104, 'eyes', 391), 40664, 0.07677701480755673),\n",
       " ((105, 'asked', 382), 40110, 0.07500976894242116),\n",
       " ((106, 'however', 382), 40492, 0.07500976894242116),\n",
       " ((107, 'group', 381), 40767, 0.07481340829073944),\n",
       " ((108, 'toward', 380), 41040, 0.0746170476390577),\n",
       " ((109, 'give', 379), 41311, 0.07442068698737597),\n",
       " ((110, 'days', 377), 41470, 0.07402796568401251),\n",
       " ((111, 'point', 375), 41625, 0.07363524438064904),\n",
       " ((112, 'though', 375), 42000, 0.07363524438064904),\n",
       " ((113, 'possible', 373), 42149, 0.07324252307728558),\n",
       " ((114, 'program', 373), 42522, 0.07324252307728558),\n",
       " ((115, 'given', 372), 42780, 0.07304616242560386),\n",
       " ((116, 'present', 370), 42920, 0.0726534411222404),\n",
       " ((117, 'face', 370), 43290, 0.0726534411222404),\n",
       " ((118, 'per', 370), 43660, 0.0726534411222404),\n",
       " ((119, 'side', 370), 44030, 0.0726534411222404),\n",
       " ((120, 'room', 366), 43920, 0.07186799851551347),\n",
       " ((121, 'looked', 366), 44286, 0.07186799851551347),\n",
       " ((122, 'important', 365), 44530, 0.07167163786383175),\n",
       " ((123, 'look', 364), 44772, 0.07147527721215001),\n",
       " ((124, 'order', 363), 45012, 0.07127891656046828),\n",
       " ((125, 'business', 363), 45375, 0.07127891656046828),\n",
       " ((126, 'next', 362), 45612, 0.07108255590878655),\n",
       " ((127, 'things', 361), 45847, 0.07088619525710482),\n",
       " ((128, 'John', 360), 46080, 0.0706898346054231),\n",
       " ((129, 'become', 359), 46311, 0.07049347395374135),\n",
       " ((130, 'young', 359), 46670, 0.07049347395374135),\n",
       " ((131, 'nothing', 358), 46898, 0.07029711330205964),\n",
       " ((132, 'later', 357), 47124, 0.07010075265037789),\n",
       " ((133, 'felt', 357), 47481, 0.07010075265037789),\n",
       " ((134, 'social', 356), 47704, 0.06990439199869616),\n",
       " ((135, 'case', 355), 47925, 0.06970803134701443),\n",
       " ((136, 'large', 354), 48144, 0.0695116706953327),\n",
       " ((137, 'rather', 354), 48498, 0.0695116706953327),\n",
       " ((138, 'need', 352), 48576, 0.06911894939196923),\n",
       " ((139, 'form', 351), 48789, 0.06892258874028752),\n",
       " ((140, 'saw', 350), 49000, 0.06872622808860578),\n",
       " ((141, 'often', 349), 49209, 0.06852986743692405),\n",
       " ((142, 'least', 343), 48706, 0.06735170352683366),\n",
       " ((143, 'children', 342), 48906, 0.06715534287515194),\n",
       " ((144, 'along', 342), 49248, 0.06715534287515194),\n",
       " ((145, 'best', 341), 49445, 0.0669589822234702),\n",
       " ((146, 'second', 341), 49786, 0.0669589822234702),\n",
       " ((147, 'several', 338), 49686, 0.06636990026842501),\n",
       " ((148, 'ever', 333), 49284, 0.06538809701001635),\n",
       " ((149, 'seemed', 333), 49617, 0.06538809701001635),\n",
       " ((150, 'early', 333), 49950, 0.06538809701001635),\n",
       " ((151, 'thing', 331), 49981, 0.0649953757066529),\n",
       " ((152, 'four', 326), 49552, 0.06401357244824424),\n",
       " ((153, 'power', 326), 49878, 0.06401357244824424),\n",
       " ((154, 'want', 326), 50204, 0.06401357244824424),\n",
       " ((155, 'mind', 324), 50220, 0.06362085114488078),\n",
       " ((156, 'interest', 323), 50388, 0.06342449049319905),\n",
       " ((157, 'within', 321), 50397, 0.0630317691898356),\n",
       " ((158, 'turned', 320), 50560, 0.06283540853815385),\n",
       " ((159, 'light', 320), 50880, 0.06283540853815385),\n",
       " ((160, 'area', 319), 51040, 0.06263904788647212),\n",
       " ((161, 'done', 316), 50876, 0.062049965931426934),\n",
       " ((162, 'big', 316), 51192, 0.062049965931426934),\n",
       " ((163, 'among', 314), 51182, 0.061657244628063476),\n",
       " ((164, 'problem', 312), 51168, 0.06126452332470002),\n",
       " ((165, 'members', 312), 51480, 0.06126452332470002),\n",
       " ((166, 'country', 312), 51792, 0.06126452332470002),\n",
       " ((167, 'began', 312), 52104, 0.06126452332470002),\n",
       " ((168, 'door', 312), 52416, 0.06126452332470002),\n",
       " ((169, 'general', 311), 52559, 0.06106816267301828),\n",
       " ((170, 'family', 311), 52870, 0.06106816267301828),\n",
       " ((171, 'sense', 311), 53181, 0.06106816267301828),\n",
       " ((172, 'kind', 310), 53320, 0.060871802021336546),\n",
       " ((173, 'development', 310), 53630, 0.060871802021336546),\n",
       " ((174, 'matter', 306), 53244, 0.06008635941460962),\n",
       " ((175, 'whole', 306), 53550, 0.06008635941460962),\n",
       " ((176, 'different', 306), 53856, 0.06008635941460962),\n",
       " ((177, 'war', 305), 53985, 0.0598899987629279),\n",
       " ((178, 'open', 305), 54290, 0.0598899987629279),\n",
       " ((179, 'certain', 303), 54237, 0.05949727745956443),\n",
       " ((180, 'help', 303), 54540, 0.05949727745956443),\n",
       " ((181, 'York', 302), 54662, 0.0593009168078827),\n",
       " ((182, 'God', 299), 54418, 0.058711834852837506),\n",
       " ((183, 'others', 294), 53802, 0.057730031594428854),\n",
       " ((184, 'human', 294), 54096, 0.057730031594428854),\n",
       " ((185, 'let', 293), 54205, 0.057533670942747125),\n",
       " ((186, 'name', 292), 54312, 0.05733731029106539),\n",
       " ((187, 'means', 291), 54417, 0.05714094963938367),\n",
       " ((188, 'action', 287), 53956, 0.05635550703265674),\n",
       " ((189, 'example', 287), 54243, 0.05635550703265674),\n",
       " ((190, 'gave', 285), 54150, 0.05596278572929327),\n",
       " ((191, 'hands', 285), 54435, 0.05596278572929327),\n",
       " ((192, 'yet', 283), 54336, 0.055570064425929815),\n",
       " ((193, 'feet', 283), 54619, 0.055570064425929815),\n",
       " ((194, 'line', 282), 54708, 0.05537370377424809),\n",
       " ((195, 'taken', 279), 54405, 0.05478462181920289),\n",
       " ((196, 'law', 277), 54292, 0.054391900515839434),\n",
       " ((197, 'past', 277), 54569, 0.054391900515839434),\n",
       " ((198, 'seen', 276), 54648, 0.0541955398641577),\n",
       " ((199, 'across', 274), 54526, 0.05380281856079424),\n",
       " ((200, 'local', 273), 54600, 0.053606457909112504),\n",
       " ((201, 'either', 273), 54873, 0.053606457909112504),\n",
       " ((202, 'government', 272), 54944, 0.05341009725743078),\n",
       " ((203, 'experience', 272), 55216, 0.05341009725743078),\n",
       " ((204, 'quite', 271), 55284, 0.053213736605749046),\n",
       " ((205, 'show', 271), 55555, 0.053213736605749046),\n",
       " ((206, 'car', 270), 55620, 0.05301737595406732),\n",
       " ((207, 'words', 269), 55683, 0.05282101530238558),\n",
       " ((208, 'body', 269), 55952, 0.05282101530238558),\n",
       " ((209, 'history', 268), 56012, 0.05262465465070386),\n",
       " ((210, 'really', 267), 56070, 0.05242829399902212),\n",
       " ((211, 'anything', 265), 55915, 0.052035572695658665),\n",
       " ((212, 'death', 264), 55968, 0.05183921204397693),\n",
       " ((213, 'times', 264), 56232, 0.05183921204397693),\n",
       " ((214, 'State', 263), 56282, 0.0516428513922952),\n",
       " ((215, 'period', 263), 56545, 0.0516428513922952),\n",
       " ((216, 'half', 263), 56808, 0.0516428513922952),\n",
       " ((217, 'word', 261), 56637, 0.05125013008893174),\n",
       " ((218, 'together', 260), 56680, 0.051053769437250006),\n",
       " ((219, 'city', 259), 56721, 0.050857408785568284),\n",
       " ((220, 'money', 259), 56980, 0.050857408785568284),\n",
       " ((221, 'held', 259), 57239, 0.050857408785568284),\n",
       " ((222, 'whether', 258), 57276, 0.05066104813388655),\n",
       " ((223, 'cannot', 258), 57534, 0.05066104813388655),\n",
       " ((224, 'information', 258), 57792, 0.05066104813388655),\n",
       " ((225, 'week', 257), 57825, 0.05046468748220481),\n",
       " ((226, 'President', 257), 58082, 0.05046468748220481),\n",
       " ((227, 'already', 257), 58339, 0.05046468748220481),\n",
       " ((228, 'political', 254), 57912, 0.049875605527159625),\n",
       " ((229, 'shall', 254), 58166, 0.049875605527159625),\n",
       " ((230, 'white', 254), 58420, 0.049875605527159625),\n",
       " ((231, 'brought', 253), 58443, 0.04967924487547789),\n",
       " ((232, 'making', 252), 58464, 0.04948288422379617),\n",
       " ((233, 'seems', 252), 58716, 0.04948288422379617),\n",
       " ((234, 'real', 251), 58734, 0.04928652357211443),\n",
       " ((235, 'question', 250), 58750, 0.049090162920432695),\n",
       " ((236, 'whose', 250), 59000, 0.049090162920432695),\n",
       " ((237, 'keep', 247), 58539, 0.04850108096538751),\n",
       " ((238, 'today', 246), 58548, 0.04830472031370577),\n",
       " ((239, 'ago', 246), 58794, 0.04830472031370577),\n",
       " ((240, 'moment', 246), 59040, 0.04830472031370577),\n",
       " ((241, 'became', 245), 59045, 0.04810835966202404),\n",
       " ((242, 'tell', 245), 59290, 0.04810835966202404),\n",
       " ((243, 'service', 245), 59535, 0.04810835966202404),\n",
       " ((244, 'known', 245), 59780, 0.04810835966202404),\n",
       " ((245, 'behind', 244), 59780, 0.047911999010342314),\n",
       " ((246, 'result', 243), 59778, 0.047715638358660585),\n",
       " ((247, 'field', 243), 60021, 0.047715638358660585),\n",
       " ((248, 'free', 243), 60264, 0.047715638358660585),\n",
       " ((249, 'five', 242), 60258, 0.047519277706978856),\n",
       " ((250, 'available', 240), 60000, 0.04712655640361539),\n",
       " ((251, 'heard', 240), 60240, 0.04712655640361539),\n",
       " ((252, 'problems', 240), 60480, 0.04712655640361539),\n",
       " ((253, 'study', 239), 60467, 0.04693019575193366),\n",
       " ((254, 'reason', 239), 60706, 0.04693019575193366),\n",
       " ((255, 'sure', 239), 60945, 0.04693019575193366),\n",
       " ((256, 'position', 238), 60928, 0.046733835100251926),\n",
       " ((257, 'change', 237), 60909, 0.0465374744485702),\n",
       " ((258, 'probably', 236), 60888, 0.04634111379688847),\n",
       " ((259, 'job', 236), 61124, 0.04634111379688847),\n",
       " ((260, 'areas', 235), 61100, 0.04614475314520674),\n",
       " ((261, 'boy', 235), 61335, 0.04614475314520674),\n",
       " ((262, 'special', 233), 61046, 0.04575203184184328),\n",
       " ((263, 'individual', 233), 61279, 0.04575203184184328),\n",
       " ((264, 'Miss', 232), 61248, 0.045555671190161545),\n",
       " ((265, 'close', 230), 60950, 0.04516294988679808),\n",
       " ((266, 'seem', 229), 60914, 0.04496658923511635),\n",
       " ((267, 'major', 227), 60609, 0.04457386793175289),\n",
       " ((268, 'wife', 227), 60836, 0.04457386793175289),\n",
       " ((269, 'wanted', 226), 60794, 0.044377507280071164),\n",
       " ((270, 'turn', 226), 61020, 0.044377507280071164),\n",
       " ((271, 'full', 225), 60975, 0.044181146628389435),\n",
       " ((272, 'cost', 223), 60656, 0.04378842532502597),\n",
       " ((273, 'church', 223), 60879, 0.04378842532502597),\n",
       " ((274, 'policy', 221), 60554, 0.043395704021662505),\n",
       " ((275, 'necessary', 221), 60775, 0.043395704021662505),\n",
       " ((276, 'voice', 220), 60720, 0.043199343369980776),\n",
       " ((277, 'clear', 219), 60663, 0.04300298271829905),\n",
       " ((278, 'economic', 219), 60882, 0.04300298271829905),\n",
       " ((279, 'air', 218), 60822, 0.04280662206661732),\n",
       " ((280, 'company', 218), 61040, 0.04280662206661732),\n",
       " ((281, 'true', 217), 60977, 0.04261026141493559),\n",
       " ((282, 'front', 217), 61194, 0.04261026141493559),\n",
       " ((283, 'woman', 217), 61411, 0.04261026141493559),\n",
       " ((284, 'feel', 216), 61344, 0.04241390076325385),\n",
       " ((285, 'able', 216), 61560, 0.04241390076325385),\n",
       " ((286, 'future', 215), 61490, 0.04221754011157212),\n",
       " ((287, 'age', 215), 61705, 0.04221754011157212),\n",
       " ((288, 'provide', 214), 61632, 0.04202117945989039),\n",
       " ((289, 'office', 214), 61846, 0.04202117945989039),\n",
       " ((290, 'community', 214), 62060, 0.04202117945989039),\n",
       " ((291, 'perhaps', 214), 62274, 0.04202117945989039),\n",
       " ((292, 'love', 214), 62488, 0.04202117945989039),\n",
       " ((293, 'effect', 213), 62409, 0.04182481880820866),\n",
       " ((294, 'stood', 212), 62328, 0.04162845815652693),\n",
       " ((295, 'national', 212), 62540, 0.04162845815652693),\n",
       " ((296, 'level', 212), 62752, 0.04162845815652693),\n",
       " ((297, 'girl', 211), 62667, 0.0414320975048452),\n",
       " ((298, 'child', 210), 62580, 0.04123573685316347),\n",
       " ((299, 'control', 209), 62491, 0.04103937620148174),\n",
       " ((300, 'rate', 209), 62700, 0.04103937620148174),\n",
       " ((301, 'total', 209), 62909, 0.04103937620148174),\n",
       " ((302, 'common', 208), 62816, 0.04084301554980001),\n",
       " ((303, 'morning', 208), 63024, 0.04084301554980001),\n",
       " ((304, 'run', 206), 62624, 0.04045029424643654),\n",
       " ((305, 'Washington', 206), 62830, 0.04045029424643654),\n",
       " ((306, 'short', 206), 63036, 0.04045029424643654),\n",
       " ((307, 'following', 205), 62935, 0.040253933594754814),\n",
       " ((308, 'million', 204), 62832, 0.040057572943073085),\n",
       " ((309, 'students', 204), 63036, 0.040057572943073085),\n",
       " ((310, 'evidence', 201), 62310, 0.03946849098802789),\n",
       " ((311, 'sound', 201), 62511, 0.03946849098802789),\n",
       " ((312, 'town', 201), 62712, 0.03946849098802789),\n",
       " ((313, 'force', 200), 62600, 0.03927213033634616),\n",
       " ((314, 'value', 200), 62800, 0.03927213033634616),\n",
       " ((315, 'top', 199), 62685, 0.039075769684664426),\n",
       " ((316, 'believe', 199), 62884, 0.039075769684664426),\n",
       " ((317, 'hard', 199), 63083, 0.039075769684664426),\n",
       " ((318, 'mean', 199), 63282, 0.039075769684664426),\n",
       " ((319, 'land', 199), 63481, 0.039075769684664426),\n",
       " ((320, 'although', 198), 63360, 0.0388794090329827),\n",
       " ((321, 'leave', 198), 63558, 0.0388794090329827),\n",
       " ((322, 'surface', 198), 63756, 0.0388794090329827),\n",
       " ((323, 'type', 197), 63631, 0.03868304838130097),\n",
       " ((324, 'play', 197), 63828, 0.03868304838130097),\n",
       " ((325, 'plan', 196), 63700, 0.03848668772961924),\n",
       " ((326, 'six', 196), 63896, 0.03848668772961924),\n",
       " ((327, 'military', 196), 64092, 0.03848668772961924),\n",
       " ((328, 'situation', 196), 64288, 0.03848668772961924),\n",
       " ((329, 'party', 195), 64155, 0.03829032707793751),\n",
       " ((330, 'English', 195), 64350, 0.03829032707793751),\n",
       " ((331, 'process', 195), 64545, 0.03829032707793751),\n",
       " ((332, 'various', 195), 64740, 0.03829032707793751),\n",
       " ((333, 'strong', 194), 64602, 0.03809396642625578),\n",
       " ((334, 'says', 194), 64796, 0.03809396642625578),\n",
       " ((335, 'increase', 194), 64990, 0.03809396642625578),\n",
       " ((336, 'lines', 194), 65184, 0.03809396642625578),\n",
       " ((337, 'America', 194), 65378, 0.03809396642625578),\n",
       " ((338, 'started', 194), 65572, 0.03809396642625578),\n",
       " ((339, 'music', 194), 65766, 0.03809396642625578),\n",
       " ((340, 'idea', 193), 65620, 0.037897605774574045),\n",
       " ((341, 'minutes', 193), 65813, 0.037897605774574045),\n",
       " ((342, 'longer', 193), 66006, 0.037897605774574045),\n",
       " ((343, 'personal', 192), 65856, 0.037701245122892316),\n",
       " ((344, 'society', 192), 66048, 0.037701245122892316),\n",
       " ((345, 'tax', 191), 65895, 0.03750488447121058),\n",
       " ((346, 'House', 191), 66086, 0.03750488447121058),\n",
       " ((347, 'alone', 191), 66277, 0.03750488447121058),\n",
       " ((348, 'mother', 191), 66468, 0.03750488447121058),\n",
       " ((349, 'near', 190), 66310, 0.03730852381952885),\n",
       " ((350, 'schools', 190), 66500, 0.03730852381952885),\n",
       " ((351, 'outside', 190), 66690, 0.03730852381952885),\n",
       " ((352, 'gone', 190), 66880, 0.03730852381952885),\n",
       " ((353, 'usually', 189), 66717, 0.03711216316784712),\n",
       " ((354, 'months', 188), 66552, 0.03691580251616539),\n",
       " ((355, 'West', 187), 66385, 0.036719441864483664),\n",
       " ((356, 'needed', 187), 66572, 0.036719441864483664),\n",
       " ((357, 'General', 187), 66759, 0.036719441864483664),\n",
       " ((358, 'center', 187), 66946, 0.036719441864483664),\n",
       " ((359, 'expected', 186), 66774, 0.03652308121280193),\n",
       " ((360, 'kept', 186), 66960, 0.03652308121280193),\n",
       " ((361, 'nature', 186), 67146, 0.03652308121280193),\n",
       " ((362, 'private', 186), 67332, 0.03652308121280193),\n",
       " ((363, 'living', 185), 67155, 0.0363267205611202),\n",
       " ((364, 'Even', 185), 67340, 0.0363267205611202),\n",
       " ((365, 'century', 185), 67525, 0.0363267205611202),\n",
       " ((366, 'values', 185), 67710, 0.0363267205611202),\n",
       " ((367, 'pressure', 184), 67528, 0.03613035990943847),\n",
       " ((368, 'ground', 184), 67712, 0.03613035990943847),\n",
       " ((369, 'basis', 184), 67896, 0.03613035990943847),\n",
       " ((370, 'view', 183), 67710, 0.035933999257756734),\n",
       " ((371, 'art', 183), 67893, 0.035933999257756734),\n",
       " ((372, 'women', 182), 67704, 0.035737638606075005),\n",
       " ((373, 'greater', 181), 67513, 0.035541277954393276),\n",
       " ((374, 'required', 181), 67694, 0.035541277954393276),\n",
       " ((375, 'South', 181), 67875, 0.035541277954393276),\n",
       " ((376, 'call', 181), 68056, 0.035541277954393276),\n",
       " ((377, 'wrote', 181), 68237, 0.035541277954393276),\n",
       " ((378, 'moved', 181), 68418, 0.035541277954393276),\n",
       " ((379, 'cut', 180), 68220, 0.03534491730271155),\n",
       " ((380, 'modern', 180), 68400, 0.03534491730271155),\n",
       " ((381, 'conditions', 179), 68199, 0.03514855665102982),\n",
       " ((382, 'complete', 179), 68378, 0.03514855665102982),\n",
       " ((383, 'road', 178), 68174, 0.03495219599934808),\n",
       " ((384, 'return', 178), 68352, 0.03495219599934808),\n",
       " ((385, 'particular', 178), 68530, 0.03495219599934808),\n",
       " ((386, 'support', 177), 68322, 0.03475583534766635),\n",
       " ((387, 'attention', 177), 68499, 0.03475583534766635),\n",
       " ((388, 'soon', 176), 68288, 0.03455947469598462),\n",
       " ((389, 'else', 176), 68464, 0.03455947469598462),\n",
       " ((390, 'book', 176), 68640, 0.03455947469598462),\n",
       " ((391, 'education', 175), 68425, 0.03436311404430289),\n",
       " ((392, 'live', 175), 68600, 0.03436311404430289),\n",
       " ((393, 'late', 174), 68382, 0.03416675339262116),\n",
       " ((394, 'material', 174), 68556, 0.03416675339262116),\n",
       " ((395, 'lost', 173), 68335, 0.03397039274093943),\n",
       " ((396, 'hours', 173), 68508, 0.03397039274093943),\n",
       " ((397, 'stage', 173), 68681, 0.03397039274093943),\n",
       " ((398, 'Since', 173), 68854, 0.03397039274093943),\n",
       " ((399, 'costs', 172), 68628, 0.0337740320892577),\n",
       " ((400, 'amount', 172), 68800, 0.0337740320892577),\n",
       " ((401, 'followed', 172), 68972, 0.0337740320892577),\n",
       " ((402, 'single', 172), 69144, 0.0337740320892577),\n",
       " ((403, 'added', 171), 68913, 0.03357767143757597),\n",
       " ((404, 'third', 171), 69084, 0.03357767143757597),\n",
       " ((405, 'except', 171), 69255, 0.03357767143757597),\n",
       " ((406, 'hundred', 171), 69426, 0.03357767143757597),\n",
       " ((407, 'space', 171), 69597, 0.03357767143757597),\n",
       " ((408, 'However', 170), 69360, 0.033381310785894236),\n",
       " ((409, 'fire', 170), 69530, 0.033381310785894236),\n",
       " ((410, 'board', 170), 69700, 0.033381310785894236),\n",
       " ((411, 'including', 170), 69870, 0.033381310785894236),\n",
       " ((412, 'coming', 170), 70040, 0.033381310785894236),\n",
       " ((413, 'person', 170), 70210, 0.033381310785894236),\n",
       " ((414, 'heart', 170), 70380, 0.033381310785894236),\n",
       " ((415, 'tried', 170), 70550, 0.033381310785894236),\n",
       " ((416, 'dark', 170), 70720, 0.033381310785894236),\n",
       " ((417, 'pay', 169), 70473, 0.03318495013421251),\n",
       " ((418, 'developed', 169), 70642, 0.03318495013421251),\n",
       " ((419, 'reached', 169), 70811, 0.03318495013421251),\n",
       " ((420, 'miles', 169), 70980, 0.03318495013421251),\n",
       " ((421, 'move', 168), 70728, 0.03298858948253077),\n",
       " ((422, 'feeling', 168), 70896, 0.03298858948253077),\n",
       " ((423, 'recent', 167), 70641, 0.03279222883084904),\n",
       " ((424, 'act', 167), 70808, 0.03279222883084904),\n",
       " ((425, 'read', 167), 70975, 0.03279222883084904),\n",
       " ((426, 'makes', 167), 71142, 0.03279222883084904),\n",
       " ((427, 'dead', 166), 70882, 0.03259586817916731),\n",
       " ((428, 'shown', 166), 71048, 0.03259586817916731),\n",
       " ((429, 'figure', 166), 71214, 0.03259586817916731),\n",
       " ((430, 'simply', 166), 71380, 0.03259586817916731),\n",
       " ((431, 'Thus', 166), 71546, 0.03259586817916731),\n",
       " ((432, 'Department', 164), 70848, 0.032203146875803855),\n",
       " ((433, 'equipment', 164), 71012, 0.032203146875803855),\n",
       " ((434, 'hope', 164), 71176, 0.032203146875803855),\n",
       " ((435, 'class', 164), 71340, 0.032203146875803855),\n",
       " ((436, 'received', 163), 71068, 0.03200678622412212),\n",
       " ((437, 'taking', 163), 71231, 0.03200678622412212),\n",
       " ((438, 'college', 163), 71394, 0.03200678622412212),\n",
       " ((439, 'basic', 163), 71557, 0.03200678622412212),\n",
       " ((440, 'National', 163), 71720, 0.03200678622412212),\n",
       " ((441, 'hold', 162), 71442, 0.03181042557244039),\n",
       " ((442, 'inside', 162), 71604, 0.03181042557244039),\n",
       " ((443, 'everything', 162), 71766, 0.03181042557244039),\n",
       " ((444, 'looking', 162), 71928, 0.03181042557244039),\n",
       " ((445, 'trying', 162), 72090, 0.03181042557244039),\n",
       " ((446, 'sometimes', 162), 72252, 0.03181042557244039),\n",
       " ((447, 'industry', 161), 71967, 0.03161406492075866),\n",
       " ((448, 'picture', 161), 72128, 0.03161406492075866),\n",
       " ((449, 'sort', 161), 72289, 0.03161406492075866),\n",
       " ((450, 'cold', 161), 72450, 0.03161406492075866),\n",
       " ((451, 'data', 161), 72611, 0.03161406492075866),\n",
       " ((452, 'care', 160), 72320, 0.031417704269076925),\n",
       " ((453, 'difficult', 160), 72480, 0.031417704269076925),\n",
       " ((454, 'spirit', 160), 72640, 0.031417704269076925),\n",
       " ((455, 'terms', 160), 72800, 0.031417704269076925),\n",
       " ((456, 'low', 160), 72960, 0.031417704269076925),\n",
       " ((457, 'father', 160), 73120, 0.031417704269076925),\n",
       " ((458, 'rest', 160), 73280, 0.031417704269076925),\n",
       " ((459, 'beginning', 159), 72981, 0.031221343617395196),\n",
       " ((460, 'War', 159), 73140, 0.031221343617395196),\n",
       " ((461, 'walked', 159), 73299, 0.031221343617395196),\n",
       " ((462, 'getting', 158), 72996, 0.031024982965713467),\n",
       " ((463, 'subject', 158), 73154, 0.031024982965713467),\n",
       " ((464, 'states', 158), 73312, 0.031024982965713467),\n",
       " ((465, 'religious', 158), 73470, 0.031024982965713467),\n",
       " ((466, 'passed', 157), 73162, 0.030828622314031738),\n",
       " ((467, 'floor', 157), 73319, 0.030828622314031738),\n",
       " ((468, 'beyond', 157), 73476, 0.030828622314031738),\n",
       " ((469, 'especially', 156), 73164, 0.03063226166235001),\n",
       " ((470, 'bring', 156), 73320, 0.03063226166235001),\n",
       " ((471, 'therefore', 156), 73476, 0.03063226166235001),\n",
       " ((472, 'black', 156), 73632, 0.03063226166235001),\n",
       " ((473, 'cent', 155), 73315, 0.030435901010668273),\n",
       " ((474, 'simple', 155), 73470, 0.030435901010668273),\n",
       " ((475, 'range', 154), 73150, 0.03023954035898654),\n",
       " ((476, 'England', 154), 73304, 0.03023954035898654),\n",
       " ((477, 'property', 153), 72981, 0.03004317970730481),\n",
       " ((478, 'report', 153), 73134, 0.03004317970730481),\n",
       " ((479, 'paper', 153), 73287, 0.03004317970730481),\n",
       " ((480, 'written', 153), 73440, 0.03004317970730481),\n",
       " ((481, 'needs', 152), 73112, 0.029846819055623083),\n",
       " ((482, 'Secretary', 152), 73264, 0.029846819055623083),\n",
       " ((483, 'natural', 152), 73416, 0.029846819055623083),\n",
       " ((484, 'meeting', 151), 73084, 0.02965045840394135),\n",
       " ((485, 'likely', 151), 73235, 0.02965045840394135),\n",
       " ((486, 'hear', 151), 73386, 0.02965045840394135),\n",
       " ((487, 'final', 151), 73537, 0.02965045840394135),\n",
       " ((488, 'higher', 151), 73688, 0.02965045840394135),\n",
       " ((489, 'growth', 151), 73839, 0.02965045840394135),\n",
       " ((490, 'talk', 151), 73990, 0.02965045840394135),\n",
       " ((491, 'Congress', 150), 73650, 0.02945409775225962),\n",
       " ((492, 'considered', 150), 73800, 0.02945409775225962),\n",
       " ((493, 'friends', 150), 73950, 0.02945409775225962),\n",
       " ((494, 'fine', 149), 73606, 0.029257737100577892),\n",
       " ((495, 'answer', 149), 73755, 0.029257737100577892),\n",
       " ((496, 'entire', 149), 73904, 0.029257737100577892),\n",
       " ((497, 'ten', 149), 74053, 0.029257737100577892),\n",
       " ((498, 'sat', 149), 74202, 0.029257737100577892),\n",
       " ((499, 'working', 148), 73852, 0.029061376448896156),\n",
       " ((500, 'countries', 148), 74000, 0.029061376448896156),\n",
       " ((501, 'forces', 148), 74148, 0.029061376448896156),\n",
       " ((502, 'difference', 148), 74296, 0.029061376448896156),\n",
       " ((503, 'story', 148), 74444, 0.029061376448896156),\n",
       " ((504, 'William', 147), 74088, 0.028865015797214427),\n",
       " ((505, 'cases', 147), 74235, 0.028865015797214427),\n",
       " ((506, 'involved', 147), 74382, 0.028865015797214427),\n",
       " ((507, 'meet', 147), 74529, 0.028865015797214427),\n",
       " ((508, 'building', 147), 74676, 0.028865015797214427),\n",
       " ((509, 'table', 147), 74823, 0.028865015797214427),\n",
       " ((510, 'hair', 147), 74970, 0.028865015797214427),\n",
       " ((511, 'similar', 146), 74606, 0.028668655145532695),\n",
       " ((512, 'thus', 146), 74752, 0.028668655145532695),\n",
       " ((513, 'training', 146), 74898, 0.028668655145532695),\n",
       " ((514, 'Government', 146), 75044, 0.028668655145532695),\n",
       " ((515, 'street', 146), 75190, 0.028668655145532695),\n",
       " ((516, 'happened', 146), 75336, 0.028668655145532695),\n",
       " ((517, 'purpose', 145), 74965, 0.028472294493850966),\n",
       " ((518, 'effort', 145), 75110, 0.028472294493850966),\n",
       " ((519, 'hour', 145), 75255, 0.028472294493850966),\n",
       " ((520, 'stand', 145), 75400, 0.028472294493850966),\n",
       " ((521, 'issue', 144), 75024, 0.028275933842169237),\n",
       " ((522, 'paid', 144), 75168, 0.028275933842169237),\n",
       " ((523, 'North', 144), 75312, 0.028275933842169237),\n",
       " ((524, 'Christian', 144), 75456, 0.028275933842169237),\n",
       " ((525, 'earlier', 143), 75075, 0.028079573190487504),\n",
       " ((526, 'sent', 143), 75218, 0.028079573190487504),\n",
       " ((527, 'knowledge', 143), 75361, 0.028079573190487504),\n",
       " ((528, 'points', 143), 75504, 0.028079573190487504),\n",
       " ((529, 'market', 143), 75647, 0.028079573190487504),\n",
       " ((530, 'ready', 142), 75260, 0.027883212538805775),\n",
       " ((531, 'particularly', 142), 75402, 0.027883212538805775),\n",
       " ((532, 'increased', 141), 75012, 0.027686851887124046),\n",
       " ((533, 'decided', 141), 75153, 0.027686851887124046),\n",
       " ((534, 'addition', 141), 75294, 0.027686851887124046),\n",
       " ((535, 'East', 141), 75435, 0.027686851887124046),\n",
       " ((536, 'statement', 141), 75576, 0.027686851887124046),\n",
       " ((537, 'results', 141), 75717, 0.027686851887124046),\n",
       " ((538, 'showed', 141), 75858, 0.027686851887124046),\n",
       " ((539, 'son', 140), 75460, 0.02749049123544231),\n",
       " ((540, 'Kennedy', 140), 75600, 0.02749049123544231),\n",
       " ((541, 'letter', 140), 75740, 0.02749049123544231),\n",
       " ((542, 'start', 140), 75880, 0.02749049123544231),\n",
       " ((543, 'thinking', 140), 76020, 0.02749049123544231),\n",
       " ((544, 'production', 140), 76160, 0.02749049123544231),\n",
       " ((545, 'Well', 140), 76300, 0.02749049123544231),\n",
       " ((546, 'weeks', 139), 75894, 0.02729413058376058),\n",
       " ((547, 'bad', 139), 76033, 0.02729413058376058),\n",
       " ((548, 'due', 139), 76172, 0.02729413058376058),\n",
       " ((549, 'wall', 139), 76311, 0.02729413058376058),\n",
       " ((550, 'girls', 139), 76450, 0.02729413058376058),\n",
       " ((551, 'moral', 139), 76589, 0.02729413058376058),\n",
       " ((552, 'French', 139), 76728, 0.02729413058376058),\n",
       " ((553, 'size', 138), 76314, 0.02709776993207885),\n",
       " ((554, 'methods', 138), 76452, 0.02709776993207885),\n",
       " ((555, 'reading', 138), 76590, 0.02709776993207885),\n",
       " ((556, 'programs', 138), 76728, 0.02709776993207885),\n",
       " ((557, 'ideas', 138), 76866, 0.02709776993207885),\n",
       " ((558, 'color', 137), 76446, 0.02690140928039712),\n",
       " ((559, 'method', 137), 76583, 0.02690140928039712),\n",
       " ((560, 'understand', 137), 76720, 0.02690140928039712),\n",
       " ((561, 'directly', 137), 76857, 0.02690140928039712),\n",
       " ((562, 'stock', 137), 76994, 0.02690140928039712),\n",
       " ((563, 'population', 136), 76568, 0.02670504862871539),\n",
       " ((564, 'fall', 136), 76704, 0.02670504862871539),\n",
       " ((565, 'Yet', 136), 76840, 0.02670504862871539),\n",
       " ((566, 'normal', 135), 76410, 0.02650868797703366),\n",
       " ((567, 'Island', 135), 76545, 0.02650868797703366),\n",
       " ((568, 'concerned', 135), 76680, 0.02650868797703366),\n",
       " ((569, 'foreign', 135), 76815, 0.02650868797703366),\n",
       " ((570, 'strength', 135), 76950, 0.02650868797703366),\n",
       " ((571, 'appeared', 135), 77085, 0.02650868797703366),\n",
       " ((572, 'lay', 135), 77220, 0.02650868797703366),\n",
       " ((573, 'City', 134), 76782, 0.02631232732535193),\n",
       " ((574, 'deal', 134), 76916, 0.02631232732535193),\n",
       " ((575, 'police', 134), 77050, 0.02631232732535193),\n",
       " ((576, 'record', 134), 77184, 0.02631232732535193),\n",
       " ((577, 'trade', 134), 77318, 0.02631232732535193),\n",
       " ((578, 'Federal', 134), 77452, 0.02631232732535193),\n",
       " ((579, 'nearly', 134), 77586, 0.02631232732535193),\n",
       " ((580, 'food', 134), 77720, 0.02631232732535193),\n",
       " ((581, 'research', 133), 77273, 0.0261159666736702),\n",
       " ((582, 'questions', 133), 77406, 0.0261159666736702),\n",
       " ((583, 'merely', 133), 77539, 0.0261159666736702),\n",
       " ((584, 'member', 133), 77672, 0.0261159666736702),\n",
       " ((585, 'comes', 133), 77805, 0.0261159666736702),\n",
       " ((586, 'peace', 133), 77938, 0.0261159666736702),\n",
       " ((587, 'continued', 133), 78071, 0.0261159666736702),\n",
       " ((588, 'summer', 132), 77616, 0.025919606021988464),\n",
       " ((589, 'direction', 132), 77748, 0.025919606021988464),\n",
       " ((590, 'section', 132), 77880, 0.025919606021988464),\n",
       " ((591, 'using', 132), 78012, 0.025919606021988464),\n",
       " ((592, 'influence', 132), 78144, 0.025919606021988464),\n",
       " ((593, 'ran', 132), 78276, 0.025919606021988464),\n",
       " ((594, 'boys', 132), 78408, 0.025919606021988464),\n",
       " ((595, 'opened', 131), 77945, 0.025723245370306735),\n",
       " ((596, 'trouble', 131), 78076, 0.025723245370306735),\n",
       " ((597, 'finally', 131), 78207, 0.025723245370306735),\n",
       " ((598, 'husband', 131), 78338, 0.025723245370306735),\n",
       " ((599, 'physical', 131), 78469, 0.025723245370306735),\n",
       " ((600, 'literature', 131), 78600, 0.025723245370306735),\n",
       " ((601, 'led', 130), 78130, 0.025526884718625003),\n",
       " ((602, 'step', 130), 78260, 0.025526884718625003),\n",
       " ((603, 'list', 130), 78390, 0.025526884718625003),\n",
       " ((604, 'month', 130), 78520, 0.025526884718625003),\n",
       " ((605, 'suddenly', 130), 78650, 0.025526884718625003),\n",
       " ((606, 'temperature', 130), 78780, 0.025526884718625003),\n",
       " ((607, 'George', 129), 78303, 0.025330524066943274),\n",
       " ((608, 'met', 129), 78432, 0.025330524066943274),\n",
       " ((609, 'instead', 129), 78561, 0.025330524066943274),\n",
       " ((610, 'chance', 129), 78690, 0.025330524066943274),\n",
       " ((611, 'stopped', 129), 78819, 0.025330524066943274),\n",
       " ((612, 'piece', 129), 78948, 0.025330524066943274),\n",
       " ((613, 'cause', 129), 79077, 0.025330524066943274),\n",
       " ((614, 'effective', 128), 78592, 0.025134163415261545),\n",
       " ((615, 'services', 128), 78720, 0.025134163415261545),\n",
       " ((616, 'worked', 128), 78848, 0.025134163415261545),\n",
       " ((617, 'provided', 128), 78976, 0.025134163415261545),\n",
       " ((618, 'former', 128), 79104, 0.025134163415261545),\n",
       " ((619, 'actually', 128), 79232, 0.025134163415261545),\n",
       " ((620, 'Soviet', 128), 79360, 0.025134163415261545),\n",
       " ((621, 'anyone', 128), 79488, 0.025134163415261545),\n",
       " ((622, 'wrong', 128), 79616, 0.025134163415261545),\n",
       " ((623, 'try', 128), 79744, 0.025134163415261545),\n",
       " ((624, 'evening', 128), 79872, 0.025134163415261545),\n",
       " ((625, 'theory', 128), 80000, 0.025134163415261545),\n",
       " ((626, 'average', 127), 79502, 0.024937802763579812),\n",
       " ((627, 'forms', 127), 79629, 0.024937802763579812),\n",
       " ((628, 'defense', 126), 79128, 0.024741442111898083),\n",
       " ((629, 'changes', 126), 79254, 0.024741442111898083),\n",
       " ((630, 'placed', 126), 79380, 0.024741442111898083),\n",
       " ((631, 'ways', 126), 79506, 0.024741442111898083),\n",
       " ((632, 'bed', 126), 79632, 0.024741442111898083),\n",
       " ((633, 'lead', 126), 79758, 0.024741442111898083),\n",
       " ((634, 'sales', 125), 79250, 0.024545081460216348),\n",
       " ((635, 'degree', 125), 79375, 0.024545081460216348),\n",
       " ((636, 'president', 125), 79500, 0.024545081460216348),\n",
       " ((637, 'systems', 125), 79625, 0.024545081460216348),\n",
       " ((638, 'groups', 125), 79750, 0.024545081460216348),\n",
       " ((639, 'efforts', 125), 79875, 0.024545081460216348),\n",
       " ((640, 'Church', 125), 80000, 0.024545081460216348),\n",
       " ((641, 'friend', 125), 80125, 0.024545081460216348),\n",
       " ((642, 'manner', 124), 79608, 0.024348720808534622),\n",
       " ((643, 'aid', 124), 79732, 0.024348720808534622),\n",
       " ((644, 'University', 124), 79856, 0.024348720808534622),\n",
       " ((645, 'movement', 124), 79980, 0.024348720808534622),\n",
       " ((646, 'meaning', 124), 80104, 0.024348720808534622),\n",
       " ((647, 'truth', 124), 80228, 0.024348720808534622),\n",
       " ((648, 'carried', 124), 80352, 0.024348720808534622),\n",
       " ((649, 'lot', 124), 80476, 0.024348720808534622),\n",
       " ((650, 'somewhat', 123), 79950, 0.024152360156852886),\n",
       " ((651, 'Although', 123), 80073, 0.024152360156852886),\n",
       " ((652, 'wide', 123), 80196, 0.024152360156852886),\n",
       " ((653, 'fear', 123), 80319, 0.024152360156852886),\n",
       " ((654, 'respect', 123), 80442, 0.024152360156852886),\n",
       " ((655, 'series', 122), 79910, 0.023955999505171157),\n",
       " ((656, 'direct', 122), 80032, 0.023955999505171157),\n",
       " ((657, 'plant', 122), 80154, 0.023955999505171157),\n",
       " ((658, 'performance', 122), 80276, 0.023955999505171157),\n",
       " ((659, 'works', 122), 80398, 0.023955999505171157),\n",
       " ((660, 'approach', 122), 80520, 0.023955999505171157),\n",
       " ((661, 'game', 122), 80642, 0.023955999505171157),\n",
       " ((662, 'treatment', 122), 80764, 0.023955999505171157),\n",
       " ((663, 'beautiful', 122), 80886, 0.023955999505171157),\n",
       " ((664, 'throughout', 122), 81008, 0.023955999505171157),\n",
       " ((665, 'larger', 122), 81130, 0.023955999505171157),\n",
       " ((666, 'red', 122), 81252, 0.023955999505171157),\n",
       " ((667, 'couple', 121), 80707, 0.023759638853489428),\n",
       " ((668, 'reaction', 121), 80828, 0.023759638853489428),\n",
       " ((669, 'easy', 121), 80949, 0.023759638853489428),\n",
       " ((670, 'C', 121), 81070, 0.023759638853489428),\n",
       " ((671, 'numbers', 121), 81191, 0.023759638853489428),\n",
       " ((672, 'charge', 120), 80640, 0.023563278201807696),\n",
       " ((673, 'court', 120), 80760, 0.023563278201807696),\n",
       " ((674, 'described', 120), 80880, 0.023563278201807696),\n",
       " ((675, 'remember', 120), 81000, 0.023563278201807696),\n",
       " ((676, 'opportunity', 120), 81120, 0.023563278201807696),\n",
       " ((677, 'generally', 119), 80563, 0.023366917550125963),\n",
       " ((678, 'reported', 119), 80682, 0.023366917550125963),\n",
       " ((679, 'served', 119), 80801, 0.023366917550125963),\n",
       " ((680, 'freedom', 119), 80920, 0.023366917550125963),\n",
       " ((681, 'understanding', 119), 81039, 0.023366917550125963),\n",
       " ((682, 'determined', 119), 81158, 0.023366917550125963),\n",
       " ((683, 'eye', 119), 81277, 0.023366917550125963),\n",
       " ((684, 'labor', 119), 81396, 0.023366917550125963),\n",
       " ((685, 'running', 119), 81515, 0.023366917550125963),\n",
       " ((686, 'decision', 119), 81634, 0.023366917550125963),\n",
       " ((687, 'First', 119), 81753, 0.023366917550125963),\n",
       " ((688, 'indeed', 119), 81872, 0.023366917550125963),\n",
       " ((689, 'window', 119), 81991, 0.023366917550125963),\n",
       " ((690, 'medical', 118), 81420, 0.023170556898444234),\n",
       " ((691, 'Aj', 118), 81538, 0.023170556898444234),\n",
       " ((692, 'hot', 118), 81656, 0.023170556898444234),\n",
       " ((693, 'trial', 118), 81774, 0.023170556898444234),\n",
       " ((694, 'clearly', 118), 81892, 0.023170556898444234),\n",
       " ((695, 'nation', 118), 82010, 0.023170556898444234),\n",
       " ((696, 'Europe', 118), 82128, 0.023170556898444234),\n",
       " ((697, 'British', 118), 82246, 0.023170556898444234),\n",
       " ((698, 'lower', 118), 82364, 0.023170556898444234),\n",
       " ((699, 'persons', 117), 81783, 0.022974196246762505),\n",
       " ((700, 'immediately', 117), 81900, 0.022974196246762505),\n",
       " ((701, 'international', 117), 82017, 0.022974196246762505),\n",
       " ((702, 'nations', 117), 82134, 0.022974196246762505),\n",
       " ((703, 'appear', 117), 82251, 0.022974196246762505),\n",
       " ((704, 'certainly', 117), 82368, 0.022974196246762505),\n",
       " ((705, 'image', 117), 82485, 0.022974196246762505),\n",
       " ((706, 'account', 117), 82602, 0.022974196246762505),\n",
       " ((707, 'feed', 117), 82719, 0.022974196246762505),\n",
       " ((708, 'character', 117), 82836, 0.022974196246762505),\n",
       " ((709, 'learned', 116), 82244, 0.022777835595080773),\n",
       " ((710, 'ask', 116), 82360, 0.022777835595080773),\n",
       " ((711, 'fiscal', 116), 82476, 0.022777835595080773),\n",
       " ((712, 'based', 116), 82592, 0.022777835595080773),\n",
       " ((713, 'responsibility', 116), 82708, 0.022777835595080773),\n",
       " ((714, 'Act', 116), 82824, 0.022777835595080773),\n",
       " ((715, 'earth', 116), 82940, 0.022777835595080773),\n",
       " ((716, 'steps', 115), 82340, 0.02258147494339904),\n",
       " ((717, 'audience', 115), 82455, 0.02258147494339904),\n",
       " ((718, 'technical', 115), 82570, 0.02258147494339904),\n",
       " ((719, 'planning', 115), 82685, 0.02258147494339904),\n",
       " ((720, 'volume', 115), 82800, 0.02258147494339904),\n",
       " ((721, 'returned', 115), 82915, 0.02258147494339904),\n",
       " ((722, 'obtained', 115), 83030, 0.02258147494339904),\n",
       " ((723, 'arms', 115), 83145, 0.02258147494339904),\n",
       " ((724, 'activity', 115), 83260, 0.02258147494339904),\n",
       " ((725, 'forward', 115), 83375, 0.02258147494339904),\n",
       " ((726, 'length', 115), 83490, 0.02258147494339904),\n",
       " ((727, 'ones', 114), 82878, 0.02238511429171731),\n",
       " ((728, 'types', 114), 82992, 0.02238511429171731),\n",
       " ((729, 'industrial', 114), 83106, 0.02238511429171731),\n",
       " ((730, 'gives', 114), 83220, 0.02238511429171731),\n",
       " ((731, 'blood', 114), 83334, 0.02238511429171731),\n",
       " ((732, 'lived', 113), 82716, 0.022188753640035582),\n",
       " ((733, 'test', 113), 82829, 0.022188753640035582),\n",
       " ((734, 'doubt', 113), 82942, 0.022188753640035582),\n",
       " ((735, 'serious', 113), 83055, 0.022188753640035582),\n",
       " ((736, 'function', 113), 83168, 0.022188753640035582),\n",
       " ((737, 'saying', 113), 83281, 0.022188753640035582),\n",
       " ((738, 'corner', 113), 83394, 0.022188753640035582),\n",
       " ((739, 'straight', 113), 83507, 0.022188753640035582),\n",
       " ((740, 'federal', 112), 82880, 0.02199239298835385),\n",
       " ((741, 'latter', 112), 82992, 0.02199239298835385),\n",
       " ((742, 'farm', 112), 83104, 0.02199239298835385),\n",
       " ((743, 'plane', 112), 83216, 0.02199239298835385),\n",
       " ((744, 'quality', 112), 83328, 0.02199239298835385),\n",
       " ((745, 'according', 111), 82695, 0.021796032336672117),\n",
       " ((746, 'Another', 111), 82806, 0.021796032336672117),\n",
       " ((747, 'White', 111), 82917, 0.021796032336672117),\n",
       " ((748, 'writing', 111), 83028, 0.021796032336672117),\n",
       " ((749, 'square', 111), 83139, 0.021796032336672117),\n",
       " ((750, 'include', 111), 83250, 0.021796032336672117),\n",
       " ((751, 'hit', 111), 83361, 0.021796032336672117),\n",
       " ((752, 'Brown', 111), 83472, 0.021796032336672117),\n",
       " ((753, 'pattern', 111), 83583, 0.021796032336672117),\n",
       " ((754, 'Court', 110), 82940, 0.021599671684990388),\n",
       " ((755, 'horse', 110), 83050, 0.021599671684990388),\n",
       " ((756, 'letters', 110), 83160, 0.021599671684990388),\n",
       " ((757, 'choice', 110), 83270, 0.021599671684990388),\n",
       " ((758, 'organization', 110), 83380, 0.021599671684990388),\n",
       " ((759, 'nuclear', 110), 83490, 0.021599671684990388),\n",
       " ((760, 'completely', 110), 83600, 0.021599671684990388),\n",
       " ((761, 'moving', 110), 83710, 0.021599671684990388),\n",
       " ((762, 'May', 110), 83820, 0.021599671684990388),\n",
       " ((763, 'stop', 110), 83930, 0.021599671684990388),\n",
       " ((764, 'born', 110), 84040, 0.021599671684990388),\n",
       " ((765, 'activities', 110), 84150, 0.021599671684990388),\n",
       " ((766, 'extent', 110), 84260, 0.021599671684990388),\n",
       " ((767, 'visit', 109), 83603, 0.02140331103330866),\n",
       " ((768, 'shot', 109), 83712, 0.02140331103330866),\n",
       " ((769, 'parts', 109), 83821, 0.02140331103330866),\n",
       " ((770, 'wish', 109), 83930, 0.02140331103330866),\n",
       " ((771, 'student', 109), 84039, 0.02140331103330866),\n",
       " ((772, 'cars', 109), 84148, 0.02140331103330866),\n",
       " ((773, 'lack', 109), 84257, 0.02140331103330866),\n",
       " ((774, 'specific', 109), 84366, 0.02140331103330866),\n",
       " ((775, 'Southern', 109), 84475, 0.02140331103330866),\n",
       " ((776, 'progress', 109), 84584, 0.02140331103330866),\n",
       " ((777, 'recently', 109), 84693, 0.02140331103330866),\n",
       " ((778, 'design', 109), 84802, 0.02140331103330866),\n",
       " ((779, 'pool', 109), 84911, 0.02140331103330866),\n",
       " ((780, 'Oh', 109), 85020, 0.02140331103330866),\n",
       " ((781, 'firm', 108), 84348, 0.021206950381626927),\n",
       " ((782, 'indicated', 108), 84456, 0.021206950381626927),\n",
       " ((783, 'distance', 108), 84564, 0.021206950381626927),\n",
       " ((784, 'main', 108), 84672, 0.021206950381626927),\n",
       " ((785, 'established', 108), 84780, 0.021206950381626927),\n",
       " ((786, 'effects', 108), 84888, 0.021206950381626927),\n",
       " ((787, 'slowly', 108), 84996, 0.021206950381626927),\n",
       " ((788, 'importance', 108), 85104, 0.021206950381626927),\n",
       " ((789, 'plans', 107), 84423, 0.021010589729945194),\n",
       " ((790, 'stay', 107), 84530, 0.021010589729945194),\n",
       " ((791, 'Negro', 107), 84637, 0.021010589729945194),\n",
       " ((792, 'spring', 107), 84744, 0.021010589729945194),\n",
       " ((793, 'expect', 107), 84851, 0.021010589729945194),\n",
       " ((794, 'neither', 107), 84958, 0.021010589729945194),\n",
       " ((795, 'heavy', 107), 85065, 0.021010589729945194),\n",
       " ((796, 'speak', 107), 85172, 0.021010589729945194),\n",
       " ((797, 'hall', 107), 85279, 0.021010589729945194),\n",
       " ((798, 'principle', 107), 85386, 0.021010589729945194),\n",
       " ((799, 'stress', 107), 85493, 0.021010589729945194),\n",
       " ((800, 'additional', 106), 84800, 0.020814229078263465),\n",
       " ((801, 'operation', 106), 84906, 0.020814229078263465),\n",
       " ((802, 'designed', 106), 85012, 0.020814229078263465),\n",
       " ((803, 'cities', 106), 85118, 0.020814229078263465),\n",
       " ((804, 'consider', 106), 85224, 0.020814229078263465),\n",
       " ((805, 'ahead', 106), 85330, 0.020814229078263465),\n",
       " ((806, 'leaders', 106), 85436, 0.020814229078263465),\n",
       " ((807, 'central', 106), 85542, 0.020814229078263465),\n",
       " ((808, 'remained', 106), 85648, 0.020814229078263465),\n",
       " ((809, 'easily', 106), 85754, 0.020814229078263465),\n",
       " ((810, 'note', 106), 85860, 0.020814229078263465),\n",
       " ((811, 'existence', 106), 85966, 0.020814229078263465),\n",
       " ((812, 'growing', 106), 86072, 0.020814229078263465),\n",
       " ((813, 'applied', 106), 86178, 0.020814229078263465),\n",
       " ((814, 'language', 106), 86284, 0.020814229078263465),\n",
       " ((815, 'attitude', 106), 86390, 0.020814229078263465),\n",
       " ((816, 'continue', 105), 85680, 0.020617868426581736),\n",
       " ((817, 'afternoon', 105), 85785, 0.020617868426581736),\n",
       " ((818, 'Many', 105), 85890, 0.020617868426581736),\n",
       " ((819, 'Rhode', 105), 85995, 0.020617868426581736),\n",
       " ((820, 'radio', 105), 86100, 0.020617868426581736),\n",
       " ((821, 'science', 105), 86205, 0.020617868426581736),\n",
       " ((822, 'season', 105), 86310, 0.020617868426581736),\n",
       " ((823, 'write', 105), 86415, 0.020617868426581736),\n",
       " ((824, 'reach', 105), 86520, 0.020617868426581736),\n",
       " ((825, 'apparently', 104), 85800, 0.020421507774900004),\n",
       " ((826, 'spent', 104), 85904, 0.020421507774900004),\n",
       " ((827, 'College', 104), 86008, 0.020421507774900004),\n",
       " ((828, 'press', 104), 86112, 0.020421507774900004),\n",
       " ((829, 'covered', 104), 86216, 0.020421507774900004),\n",
       " ((830, 'Union', 104), 86320, 0.020421507774900004),\n",
       " ((831, 'interested', 104), 86424, 0.020421507774900004),\n",
       " ((832, 'role', 104), 86528, 0.020421507774900004),\n",
       " ((833, 'waiting', 104), 86632, 0.020421507774900004),\n",
       " ((834, 'closed', 104), 86736, 0.020421507774900004),\n",
       " ((835, 'becomes', 104), 86840, 0.020421507774900004),\n",
       " ((836, 'administration', 103), 86108, 0.02022514712321827),\n",
       " ((837, 'serve', 103), 86211, 0.02022514712321827),\n",
       " ((838, 'suggested', 103), 86314, 0.02022514712321827),\n",
       " ((839, 'attack', 103), 86417, 0.02022514712321827),\n",
       " ((840, 'staff', 103), 86520, 0.02022514712321827),\n",
       " ((841, 'elements', 103), 86623, 0.02022514712321827),\n",
       " ((842, 'analysis', 103), 86726, 0.02022514712321827),\n",
       " ((843, 'mouth', 103), 86829, 0.02022514712321827),\n",
       " ((844, 'Western', 103), 86932, 0.02022514712321827),\n",
       " ((845, 'played', 103), 87035, 0.02022514712321827),\n",
       " ((846, 'World', 103), 87138, 0.02022514712321827),\n",
       " ((847, 'faith', 103), 87241, 0.02022514712321827),\n",
       " ((848, 'date', 102), 86496, 0.020028786471536542),\n",
       " ((849, 'married', 102), 86598, 0.020028786471536542),\n",
       " ((850, 'limited', 102), 86700, 0.020028786471536542),\n",
       " ((851, 'prepared', 102), 86802, 0.020028786471536542),\n",
       " ((852, 'original', 102), 86904, 0.020028786471536542),\n",
       " ((853, 'reasons', 102), 87006, 0.020028786471536542),\n",
       " ((854, 'factors', 102), 87108, 0.020028786471536542),\n",
       " ((855, 'scene', 102), 87210, 0.020028786471536542),\n",
       " ((856, 'sun', 102), 87312, 0.020028786471536542),\n",
       " ((857, 'B', 102), 87414, 0.020028786471536542),\n",
       " ((858, 'teeth', 102), 87516, 0.020028786471536542),\n",
       " ((859, 'James', 101), 86759, 0.019832425819854813),\n",
       " ((860, 'Sunday', 101), 86860, 0.019832425819854813),\n",
       " ((861, 'bit', 101), 86961, 0.019832425819854813),\n",
       " ((862, 'current', 101), 87062, 0.019832425819854813),\n",
       " ((863, 'Two', 101), 87163, 0.019832425819854813),\n",
       " ((864, 'raised', 101), 87264, 0.019832425819854813),\n",
       " ((865, 'rise', 101), 87365, 0.019832425819854813),\n",
       " ((866, 'demand', 101), 87466, 0.019832425819854813),\n",
       " ((867, 'professional', 101), 87567, 0.019832425819854813),\n",
       " ((868, 'dropped', 101), 87668, 0.019832425819854813),\n",
       " ((869, 'deep', 101), 87769, 0.019832425819854813),\n",
       " ((870, 'ball', 101), 87870, 0.019832425819854813),\n",
       " ((871, 'playing', 101), 87971, 0.019832425819854813),\n",
       " ((872, 'exactly', 101), 88072, 0.019832425819854813),\n",
       " ((873, 'built', 101), 88173, 0.019832425819854813),\n",
       " ((874, 'religion', 101), 88274, 0.019832425819854813),\n",
       " ((875, 'race', 100), 87500, 0.01963606516817308),\n",
       " ((876, 'figures', 100), 87600, 0.01963606516817308),\n",
       " ((877, 'Thomas', 100), 87700, 0.01963606516817308),\n",
       " ((878, 'rates', 100), 87800, 0.01963606516817308),\n",
       " ((879, 'meant', 100), 87900, 0.01963606516817308),\n",
       " ((880, 'price', 100), 88000, 0.01963606516817308),\n",
       " ((881, 'gun', 99), 87219, 0.01943970451649135),\n",
       " ((882, 'places', 99), 87318, 0.01943970451649135),\n",
       " ((883, 'daily', 99), 87417, 0.01943970451649135),\n",
       " ((884, 'events', 99), 87516, 0.01943970451649135),\n",
       " ((885, 'hardly', 99), 87615, 0.01943970451649135),\n",
       " ((886, 'filled', 99), 87714, 0.01943970451649135),\n",
       " ((887, 'June', 99), 87813, 0.01943970451649135),\n",
       " ((888, 'pretty', 99), 87912, 0.01943970451649135),\n",
       " ((889, 'talking', 99), 88011, 0.01943970451649135),\n",
       " ((890, 'sides', 99), 88110, 0.01943970451649135),\n",
       " ((891, 'facilities', 98), 87318, 0.01924334386480962),\n",
       " ((892, 'techniques', 98), 87416, 0.01924334386480962),\n",
       " ((893, 'Street', 98), 87514, 0.01924334386480962),\n",
       " ((894, 'related', 98), 87612, 0.01924334386480962),\n",
       " ((895, 'entered', 98), 87710, 0.01924334386480962),\n",
       " ((896, 'Chicago', 98), 87808, 0.01924334386480962),\n",
       " ((897, 'knows', 98), 87906, 0.01924334386480962),\n",
       " ((898, 'machine', 98), 88004, 0.01924334386480962),\n",
       " ((899, 'March', 97), 87203, 0.01904698321312789),\n",
       " ((900, 'fight', 97), 87300, 0.01904698321312789),\n",
       " ((901, 'dollars', 97), 87397, 0.01904698321312789),\n",
       " ((902, 'blue', 97), 87494, 0.01904698321312789),\n",
       " ((903, 'concern', 97), 87591, 0.01904698321312789),\n",
       " ((904, 'caught', 97), 87688, 0.01904698321312789),\n",
       " ((905, 'income', 97), 87785, 0.01904698321312789),\n",
       " ((906, 'officer', 97), 87882, 0.01904698321312789),\n",
       " ((907, 'claim', 97), 87979, 0.01904698321312789),\n",
       " ((908, 'Christ', 97), 88076, 0.01904698321312789),\n",
       " ((909, 'supply', 97), 88173, 0.01904698321312789),\n",
       " ((910, 'style', 97), 88270, 0.01904698321312789),\n",
       " ((911, 'Charles', 96), 87456, 0.018850622561446158),\n",
       " ((912, 'walk', 96), 87552, 0.018850622561446158),\n",
       " ((913, 'energy', 96), 87648, 0.018850622561446158),\n",
       " ((914, 'status', 96), 87744, 0.018850622561446158),\n",
       " ((915, 'popular', 96), 87840, 0.018850622561446158),\n",
       " ((916, 'usual', 96), 87936, 0.018850622561446158),\n",
       " ((917, 'institutions', 96), 88032, 0.018850622561446158),\n",
       " ((918, 'standing', 96), 88128, 0.018850622561446158),\n",
       " ((919, 'actual', 96), 88224, 0.018850622561446158),\n",
       " ((920, 'glass', 96), 88320, 0.018850622561446158),\n",
       " ((921, 'attempt', 95), 87495, 0.018654261909764425),\n",
       " ((922, 'changed', 95), 87590, 0.018654261909764425),\n",
       " ((923, 'share', 95), 87685, 0.018654261909764425),\n",
       " ((924, 'thousand', 95), 87780, 0.018654261909764425),\n",
       " ((925, 'products', 95), 87875, 0.018654261909764425),\n",
       " ((926, 'trees', 95), 87970, 0.018654261909764425),\n",
       " ((927, 'studies', 95), 88065, 0.018654261909764425),\n",
       " ((928, 'behavior', 95), 88160, 0.018654261909764425),\n",
       " ((929, 'accepted', 94), 87326, 0.018457901258082696),\n",
       " ((930, 'unit', 94), 87420, 0.018457901258082696),\n",
       " ((931, 'seven', 94), 87514, 0.018457901258082696),\n",
       " ((932, 'gas', 94), 87608, 0.018457901258082696),\n",
       " ((933, 'opinion', 94), 87702, 0.018457901258082696),\n",
       " ((934, 'included', 94), 87796, 0.018457901258082696),\n",
       " ((935, 'green', 94), 87890, 0.018457901258082696),\n",
       " ((936, 'film', 94), 87984, 0.018457901258082696),\n",
       " ((937, 'considerable', 94), 88078, 0.018457901258082696),\n",
       " ((938, 'shows', 94), 88172, 0.018457901258082696),\n",
       " ((939, 'materials', 94), 88266, 0.018457901258082696),\n",
       " ((940, 'primary', 93), 87420, 0.018261540606400964),\n",
       " ((941, 'relations', 93), 87513, 0.018261540606400964),\n",
       " ((942, 'older', 93), 87606, 0.018261540606400964),\n",
       " ((943, 'eight', 93), 87699, 0.018261540606400964),\n",
       " ((944, 'highly', 93), 87792, 0.018261540606400964),\n",
       " ((945, 'Americans', 93), 87885, 0.018261540606400964),\n",
       " ((946, 'station', 93), 87978, 0.018261540606400964),\n",
       " ((947, 'successful', 93), 88071, 0.018261540606400964),\n",
       " ((948, 'drive', 93), 88164, 0.018261540606400964),\n",
       " ((949, 'Old', 93), 88257, 0.018261540606400964),\n",
       " ((950, 'practice', 93), 88350, 0.018261540606400964),\n",
       " ((951, 'giving', 93), 88443, 0.018261540606400964),\n",
       " ((952, 'Perhaps', 93), 88536, 0.018261540606400964),\n",
       " ((953, 'remain', 93), 88629, 0.018261540606400964),\n",
       " ((954, 'standard', 93), 88722, 0.018261540606400964),\n",
       " ((955, 'none', 92), 87860, 0.018065179954719235),\n",
       " ((956, 'determine', 92), 87952, 0.018065179954719235),\n",
       " ((957, 'books', 92), 88044, 0.018065179954719235),\n",
       " ((958, 'poor', 92), 88136, 0.018065179954719235),\n",
       " ((959, 'sitting', 92), 88228, 0.018065179954719235),\n",
       " ((960, 'Communist', 92), 88320, 0.018065179954719235),\n",
       " ((961, 'proper', 92), 88412, 0.018065179954719235),\n",
       " ((962, 'Jack', 92), 88504, 0.018065179954719235),\n",
       " ((963, 'middle', 92), 88596, 0.018065179954719235),\n",
       " ((964, 'obvious', 92), 88688, 0.018065179954719235),\n",
       " ((965, 'fell', 92), 88780, 0.018065179954719235),\n",
       " ((966, 'thin', 92), 88872, 0.018065179954719235),\n",
       " ((967, 'marriage', 92), 88964, 0.018065179954719235),\n",
       " ((968, 'tradition', 92), 89056, 0.018065179954719235),\n",
       " ((969, 'pieces', 92), 89148, 0.018065179954719235),\n",
       " ((970, 'sign', 91), 88270, 0.017868819303037502),\n",
       " ((971, 'worth', 91), 88361, 0.017868819303037502),\n",
       " ((972, 'project', 91), 88452, 0.017868819303037502),\n",
       " ((973, 'structure', 91), 88543, 0.017868819303037502),\n",
       " ((974, 'happy', 91), 88634, 0.017868819303037502),\n",
       " ((975, 'Mike', 91), 88725, 0.017868819303037502),\n",
       " ((976, 'arm', 91), 88816, 0.017868819303037502),\n",
       " ((977, 'objective', 91), 88907, 0.017868819303037502),\n",
       " ((978, 'radiation', 91), 88998, 0.017868819303037502),\n",
       " ((979, 'Let', 91), 89089, 0.017868819303037502),\n",
       " ((980, 'produced', 90), 88200, 0.017672458651355773),\n",
       " ((981, 'follow', 90), 88290, 0.017672458651355773),\n",
       " ((982, 'funds', 90), 88380, 0.017672458651355773),\n",
       " ((983, 'source', 90), 88470, 0.017672458651355773),\n",
       " ((984, 'caused', 90), 88560, 0.017672458651355773),\n",
       " ((985, 'balance', 90), 88650, 0.017672458651355773),\n",
       " ((986, 'entirely', 90), 88740, 0.017672458651355773),\n",
       " ((987, 'purposes', 90), 88830, 0.017672458651355773),\n",
       " ((988, 'dinner', 90), 88920, 0.017672458651355773),\n",
       " ((989, 'news', 90), 89010, 0.017672458651355773),\n",
       " ((990, 'weight', 90), 89100, 0.017672458651355773),\n",
       " ((991, 'university', 90), 89190, 0.017672458651355773),\n",
       " ((992, 'heat', 90), 89280, 0.017672458651355773),\n",
       " ((993, 'kitchen', 90), 89370, 0.017672458651355773),\n",
       " ((994, 'complex', 90), 89460, 0.017672458651355773),\n",
       " ((995, 'cattle', 90), 89550, 0.017672458651355773),\n",
       " ((996, 'goes', 89), 88644, 0.01747609799967404),\n",
       " ((997, 'construction', 89), 88733, 0.01747609799967404),\n",
       " ((998, 'annual', 89), 88822, 0.01747609799967404),\n",
       " ((999, 'Yes', 89), 88911, 0.01747609799967404),\n",
       " ((1000, 'noted', 89), 89000, 0.01747609799967404),\n",
       " ...]"
      ]
     },
     "execution_count": 71,
     "metadata": {},
     "output_type": "execute_result"
    }
   ],
   "source": [
    "zipfs_law(nltk.corpus.brown.words())"
   ]
  },
  {
   "cell_type": "code",
   "execution_count": null,
   "metadata": {
    "collapsed": true
   },
   "outputs": [],
   "source": []
  }
 ],
 "metadata": {
  "kernelspec": {
   "display_name": "Python 3",
   "language": "python",
   "name": "python3"
  },
  "language_info": {
   "codemirror_mode": {
    "name": "ipython",
    "version": 3
   },
   "file_extension": ".py",
   "mimetype": "text/x-python",
   "name": "python",
   "nbconvert_exporter": "python",
   "pygments_lexer": "ipython3",
   "version": "3.6.0"
  }
 },
 "nbformat": 4,
 "nbformat_minor": 2
}
