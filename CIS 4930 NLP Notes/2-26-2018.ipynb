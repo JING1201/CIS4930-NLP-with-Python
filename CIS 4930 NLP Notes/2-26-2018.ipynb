{
 "cells": [
  {
   "cell_type": "markdown",
   "metadata": {},
   "source": [
    "# Features of Troll"
   ]
  },
  {
   "cell_type": "markdown",
   "metadata": {},
   "source": [
    "- inflammatory\n",
    "- disruption in conversation\n",
    "- similarity in statements\n",
    "    - participate in a lot of conversations\n",
    "- curse words\n",
    "- purposeful ignorance\n",
    "- narcissistic\n",
    "- timeliness (troll tends to respond quicker)\n",
    "- account repetition\n",
    "- large text copied"
   ]
  },
  {
   "cell_type": "markdown",
   "metadata": {},
   "source": [
    "# Finite State Automaton"
   ]
  },
  {
   "cell_type": "markdown",
   "metadata": {},
   "source": [
    "- Q: a finite set of states\n",
    "    - {q0,q1,q2,....,qn} = Q\n",
    "- Σ(sigma): a finite input alphabet of symbols\n",
    "- q0: starting state\n",
    "- F(or qf): final states ⊆ Q\n",
    "- δ(q, σ): transition function state q∈Q and input symbol σ∈Σ returns the next state q'∈Q\n",
    "    - relation from QxΣ -> Q\n"
   ]
  },
  {
   "cell_type": "markdown",
   "metadata": {},
   "source": [
    "- Example - see folder\n"
   ]
  },
  {
   "cell_type": "code",
   "execution_count": null,
   "metadata": {
    "collapsed": true
   },
   "outputs": [],
   "source": []
  }
 ],
 "metadata": {
  "kernelspec": {
   "display_name": "Python 3",
   "language": "python",
   "name": "python3"
  },
  "language_info": {
   "codemirror_mode": {
    "name": "ipython",
    "version": 3
   },
   "file_extension": ".py",
   "mimetype": "text/x-python",
   "name": "python",
   "nbconvert_exporter": "python",
   "pygments_lexer": "ipython3",
   "version": "3.6.0"
  }
 },
 "nbformat": 4,
 "nbformat_minor": 2
}
