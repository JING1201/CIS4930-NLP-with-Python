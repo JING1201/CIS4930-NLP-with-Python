{
 "cells": [
  {
   "cell_type": "code",
   "execution_count": 2,
   "metadata": {
    "collapsed": false
   },
   "outputs": [
    {
     "name": "stdout",
     "output_type": "stream",
     "text": [
      "*** Introductory Examples for the NLTK Book ***\n",
      "Loading text1, ..., text9 and sent1, ..., sent9\n",
      "Type the name of the text or sentence to view it.\n",
      "Type: 'texts()' or 'sents()' to list the materials.\n",
      "text1: Moby Dick by Herman Melville 1851\n",
      "text2: Sense and Sensibility by Jane Austen 1811\n",
      "text3: The Book of Genesis\n",
      "text4: Inaugural Address Corpus\n",
      "text5: Chat Corpus\n",
      "text6: Monty Python and the Holy Grail\n",
      "text7: Wall Street Journal\n",
      "text8: Personals Corpus\n",
      "text9: The Man Who Was Thursday by G . K . Chesterton 1908\n"
     ]
    }
   ],
   "source": [
    "import nltk\n",
    "from nltk.book import *"
   ]
  },
  {
   "cell_type": "code",
   "execution_count": 3,
   "metadata": {
    "collapsed": false
   },
   "outputs": [
    {
     "data": {
      "text/plain": [
       "['.ipynb_checkpoints',\n",
       " '1-17-2018 Notes',\n",
       " '1-19-2018 Notes',\n",
       " '1-19-2018 Notes.py',\n",
       " '1-22-2018.ipynb',\n",
       " '1-24-2018 Temp.txt',\n",
       " '1-24-2018 Texts',\n",
       " '1-26-2018.ipynb',\n",
       " '1-29-2018.ipynb',\n",
       " '1-31-2018.ipynb',\n",
       " '1_24_18.ipynb',\n",
       " '2-14-2018.ipynb',\n",
       " '2-16-2018.ipynb',\n",
       " '2-19-2018.ipynb',\n",
       " '2-21-2018.ipynb',\n",
       " '2-5-2018.ipynb',\n",
       " '2-7-2018.ipynb',\n",
       " '2-9-2018.ipynb',\n",
       " 'AngelasAshes.txt',\n",
       " 'Ch2 Notes.ipynb',\n",
       " 'Ch3.ipynb',\n",
       " 'our_data.txt',\n",
       " 'PetDiary.txt']"
      ]
     },
     "execution_count": 3,
     "metadata": {},
     "output_type": "execute_result"
    }
   ],
   "source": [
    "import os\n",
    "os.listdir('.')"
   ]
  },
  {
   "cell_type": "code",
   "execution_count": 4,
   "metadata": {
    "collapsed": true
   },
   "outputs": [],
   "source": [
    "in_file = open(\"1-24-2018 Texts\\\\fa09L01.html\",'r')"
   ]
  },
  {
   "cell_type": "code",
   "execution_count": 5,
   "metadata": {
    "collapsed": false
   },
   "outputs": [
    {
     "data": {
      "text/plain": [
       "'<html>\\n<head>\\n<title>Fall 2009 Lecture 01</title>\\n<link href=\"http://www.cise.ufl.edu/~pjd/courses/lecture.css\" rel=stylesheet type=\"text/css\">\\n\\n</head>\\n\\n<body bgcolor=white>\\n\\n<h2>Fall 2009 Lecture 01</h2>\\n\\n<dl>\\n <dt>Date\\n <dd>August 24, 2009\\n <br><br>\\n\\n <dt>Topics\\n <dd>Syllabus\\n <dd>Course Policies\\n <dd>Java Installation\\n <dd>BlueJ Installation\\n <br><br>\\n\\n <dt>References\\n <dd><a href=\"http://www.cise.ufl.edu/~pjd/courses/3022/admin\">Course Website\\n     (http://www.cise.ufl.edu/~pjd/courses/3022/admin)</a>\\n <dd><a href=\"http://www.cise.ufl.edu/~pjd/courses/3022/admin/Installation.html\">Installation</a>\\n <br><br>\\n\\n <dt>Reading\\n <dd>Chapter 1.1 - 1.10\\n <br><br>\\n\\n <dt>Exercises\\n <dd>Install Java and then BlueJ on your home computer\\n</dl>\\n\\n<a href=\"http://www.cise.ufl.edu/~pjd/courses/3022/notes/fa09L43.html\"><<<< Prev</a>\\n\\n&nbsp;&nbsp;&nbsp;\\n\\n<a href=\"http://www.cise.ufl.edu/~pjd/courses/3022/notes/fa09L02.html\">Next >>>></a>\\n\\n</body>\\n</html>\\n'"
      ]
     },
     "execution_count": 5,
     "metadata": {},
     "output_type": "execute_result"
    }
   ],
   "source": [
    "text1 = in_file.read()\n",
    "text1"
   ]
  },
  {
   "cell_type": "code",
   "execution_count": 6,
   "metadata": {
    "collapsed": false
   },
   "outputs": [
    {
     "data": {
      "text/plain": [
       "['<html>',\n",
       " '<head>',\n",
       " '<title>Fall 2009 Lecture 01</title>',\n",
       " '<link href=\"http://www.cise.ufl.edu/~pjd/courses/lecture.css\" rel=stylesheet type=\"text/css\">',\n",
       " '',\n",
       " '</head>',\n",
       " '',\n",
       " '<body bgcolor=white>',\n",
       " '',\n",
       " '<h2>Fall 2009 Lecture 01</h2>',\n",
       " '',\n",
       " '<dl>',\n",
       " ' <dt>Date',\n",
       " ' <dd>August 24, 2009',\n",
       " ' <br><br>',\n",
       " '',\n",
       " ' <dt>Topics',\n",
       " ' <dd>Syllabus',\n",
       " ' <dd>Course Policies',\n",
       " ' <dd>Java Installation',\n",
       " ' <dd>BlueJ Installation',\n",
       " ' <br><br>',\n",
       " '',\n",
       " ' <dt>References',\n",
       " ' <dd><a href=\"http://www.cise.ufl.edu/~pjd/courses/3022/admin\">Course Website',\n",
       " '     (http://www.cise.ufl.edu/~pjd/courses/3022/admin)</a>',\n",
       " ' <dd><a href=\"http://www.cise.ufl.edu/~pjd/courses/3022/admin/Installation.html\">Installation</a>',\n",
       " ' <br><br>',\n",
       " '',\n",
       " ' <dt>Reading',\n",
       " ' <dd>Chapter 1.1 - 1.10',\n",
       " ' <br><br>',\n",
       " '',\n",
       " ' <dt>Exercises',\n",
       " ' <dd>Install Java and then BlueJ on your home computer',\n",
       " '</dl>',\n",
       " '',\n",
       " '<a href=\"http://www.cise.ufl.edu/~pjd/courses/3022/notes/fa09L43.html\"><<<< Prev</a>',\n",
       " '',\n",
       " '&nbsp;&nbsp;&nbsp;',\n",
       " '',\n",
       " '<a href=\"http://www.cise.ufl.edu/~pjd/courses/3022/notes/fa09L02.html\">Next >>>></a>',\n",
       " '',\n",
       " '</body>',\n",
       " '</html>']"
      ]
     },
     "execution_count": 6,
     "metadata": {},
     "output_type": "execute_result"
    }
   ],
   "source": [
    "in_file.seek(0)\n",
    "text2 = [line.rstrip('\\n') for line in in_file]\n",
    "text2"
   ]
  },
  {
   "cell_type": "code",
   "execution_count": 7,
   "metadata": {
    "collapsed": false
   },
   "outputs": [
    {
     "data": {
      "text/plain": [
       "['<html>',\n",
       " '<head>',\n",
       " '<title>Fall 2009 Lecture 01</title>',\n",
       " '<link href=\"http://www.cise.ufl.edu/~pjd/courses/lecture.css\" rel=stylesheet type=\"text/css\">',\n",
       " '',\n",
       " '</head>',\n",
       " '',\n",
       " '<body bgcolor=white>',\n",
       " '',\n",
       " '<h2>Fall 2009 Lecture 01</h2>',\n",
       " '',\n",
       " '<dl>',\n",
       " ' <dt>Date',\n",
       " ' <dd>August 24, 2009',\n",
       " ' <br><br>',\n",
       " '',\n",
       " ' <dt>Topics',\n",
       " ' <dd>Syllabus',\n",
       " ' <dd>Course Policies',\n",
       " ' <dd>Java Installation',\n",
       " ' <dd>BlueJ Installation',\n",
       " ' <br><br>',\n",
       " '',\n",
       " ' <dt>References',\n",
       " ' <dd><a href=\"http://www.cise.ufl.edu/~pjd/courses/3022/admin\">Course Website',\n",
       " '     (http://www.cise.ufl.edu/~pjd/courses/3022/admin)</a>',\n",
       " ' <dd><a href=\"http://www.cise.ufl.edu/~pjd/courses/3022/admin/Installation.html\">Installation</a>',\n",
       " ' <br><br>',\n",
       " '',\n",
       " ' <dt>Reading',\n",
       " ' <dd>Chapter 1.1 - 1.10',\n",
       " ' <br><br>',\n",
       " '',\n",
       " ' <dt>Exercises',\n",
       " ' <dd>Install Java and then BlueJ on your home computer',\n",
       " '</dl>',\n",
       " '',\n",
       " '<a href=\"http://www.cise.ufl.edu/~pjd/courses/3022/notes/fa09L43.html\"><<<< Prev</a>',\n",
       " '',\n",
       " '&nbsp;&nbsp;&nbsp;',\n",
       " '',\n",
       " '<a href=\"http://www.cise.ufl.edu/~pjd/courses/3022/notes/fa09L02.html\">Next >>>></a>',\n",
       " '',\n",
       " '</body>',\n",
       " '</html>']"
      ]
     },
     "execution_count": 7,
     "metadata": {},
     "output_type": "execute_result"
    }
   ],
   "source": [
    "in_file.seek(0)\n",
    "text3 = in_file.read().splitlines()\n",
    "text3"
   ]
  },
  {
   "cell_type": "code",
   "execution_count": 8,
   "metadata": {
    "collapsed": true
   },
   "outputs": [],
   "source": [
    "text4 = text1.replace('\\n','')"
   ]
  },
  {
   "cell_type": "code",
   "execution_count": 9,
   "metadata": {
    "collapsed": false
   },
   "outputs": [
    {
     "data": {
      "text/plain": [
       "'<html><head><title>Fall 2009 Lecture 01</title><link href=\"http://www.cise.ufl.edu/~pjd/courses/lecture.css\" rel=stylesheet type=\"text/css\"></head><body bgcolor=white><h2>Fall 2009 Lecture 01</h2><dl> <dt>Date <dd>August 24, 2009 <br><br> <dt>Topics <dd>Syllabus <dd>Course Policies <dd>Java Installation <dd>BlueJ Installation <br><br> <dt>References <dd><a href=\"http://www.cise.ufl.edu/~pjd/courses/3022/admin\">Course Website     (http://www.cise.ufl.edu/~pjd/courses/3022/admin)</a> <dd><a href=\"http://www.cise.ufl.edu/~pjd/courses/3022/admin/Installation.html\">Installation</a> <br><br> <dt>Reading <dd>Chapter 1.1 - 1.10 <br><br> <dt>Exercises <dd>Install Java and then BlueJ on your home computer</dl><a href=\"http://www.cise.ufl.edu/~pjd/courses/3022/notes/fa09L43.html\"><<<< Prev</a>&nbsp;&nbsp;&nbsp;<a href=\"http://www.cise.ufl.edu/~pjd/courses/3022/notes/fa09L02.html\">Next >>>></a></body></html>'"
      ]
     },
     "execution_count": 9,
     "metadata": {},
     "output_type": "execute_result"
    }
   ],
   "source": [
    "text4"
   ]
  },
  {
   "cell_type": "code",
   "execution_count": 10,
   "metadata": {
    "collapsed": false
   },
   "outputs": [
    {
     "data": {
      "text/plain": [
       "['<',\n",
       " 'html',\n",
       " '>',\n",
       " '<',\n",
       " 'head',\n",
       " '>',\n",
       " '<',\n",
       " 'title',\n",
       " '>',\n",
       " 'Fall',\n",
       " '2009',\n",
       " 'Lecture',\n",
       " '01',\n",
       " '<',\n",
       " '/title',\n",
       " '>',\n",
       " '<',\n",
       " 'link',\n",
       " 'href=',\n",
       " \"''\",\n",
       " 'http',\n",
       " ':',\n",
       " '//www.cise.ufl.edu/~pjd/courses/lecture.css',\n",
       " \"''\",\n",
       " 'rel=stylesheet',\n",
       " 'type=',\n",
       " \"''\",\n",
       " 'text/css',\n",
       " \"''\",\n",
       " '>',\n",
       " '<',\n",
       " '/head',\n",
       " '>',\n",
       " '<',\n",
       " 'body',\n",
       " 'bgcolor=white',\n",
       " '>',\n",
       " '<',\n",
       " 'h2',\n",
       " '>',\n",
       " 'Fall',\n",
       " '2009',\n",
       " 'Lecture',\n",
       " '01',\n",
       " '<',\n",
       " '/h2',\n",
       " '>',\n",
       " '<',\n",
       " 'dl',\n",
       " '>',\n",
       " '<',\n",
       " 'dt',\n",
       " '>',\n",
       " 'Date',\n",
       " '<',\n",
       " 'dd',\n",
       " '>',\n",
       " 'August',\n",
       " '24',\n",
       " ',',\n",
       " '2009',\n",
       " '<',\n",
       " 'br',\n",
       " '>',\n",
       " '<',\n",
       " 'br',\n",
       " '>',\n",
       " '<',\n",
       " 'dt',\n",
       " '>',\n",
       " 'Topics',\n",
       " '<',\n",
       " 'dd',\n",
       " '>',\n",
       " 'Syllabus',\n",
       " '<',\n",
       " 'dd',\n",
       " '>',\n",
       " 'Course',\n",
       " 'Policies',\n",
       " '<',\n",
       " 'dd',\n",
       " '>',\n",
       " 'Java',\n",
       " 'Installation',\n",
       " '<',\n",
       " 'dd',\n",
       " '>',\n",
       " 'BlueJ',\n",
       " 'Installation',\n",
       " '<',\n",
       " 'br',\n",
       " '>',\n",
       " '<',\n",
       " 'br',\n",
       " '>',\n",
       " '<',\n",
       " 'dt',\n",
       " '>',\n",
       " 'References',\n",
       " '<',\n",
       " 'dd',\n",
       " '>',\n",
       " '<',\n",
       " 'a',\n",
       " 'href=',\n",
       " \"''\",\n",
       " 'http',\n",
       " ':',\n",
       " '//www.cise.ufl.edu/~pjd/courses/3022/admin',\n",
       " \"''\",\n",
       " '>',\n",
       " 'Course',\n",
       " 'Website',\n",
       " '(',\n",
       " 'http',\n",
       " ':',\n",
       " '//www.cise.ufl.edu/~pjd/courses/3022/admin',\n",
       " ')',\n",
       " '<',\n",
       " '/a',\n",
       " '>',\n",
       " '<',\n",
       " 'dd',\n",
       " '>',\n",
       " '<',\n",
       " 'a',\n",
       " 'href=',\n",
       " \"''\",\n",
       " 'http',\n",
       " ':',\n",
       " '//www.cise.ufl.edu/~pjd/courses/3022/admin/Installation.html',\n",
       " \"''\",\n",
       " '>',\n",
       " 'Installation',\n",
       " '<',\n",
       " '/a',\n",
       " '>',\n",
       " '<',\n",
       " 'br',\n",
       " '>',\n",
       " '<',\n",
       " 'br',\n",
       " '>',\n",
       " '<',\n",
       " 'dt',\n",
       " '>',\n",
       " 'Reading',\n",
       " '<',\n",
       " 'dd',\n",
       " '>',\n",
       " 'Chapter',\n",
       " '1.1',\n",
       " '-',\n",
       " '1.10',\n",
       " '<',\n",
       " 'br',\n",
       " '>',\n",
       " '<',\n",
       " 'br',\n",
       " '>',\n",
       " '<',\n",
       " 'dt',\n",
       " '>',\n",
       " 'Exercises',\n",
       " '<',\n",
       " 'dd',\n",
       " '>',\n",
       " 'Install',\n",
       " 'Java',\n",
       " 'and',\n",
       " 'then',\n",
       " 'BlueJ',\n",
       " 'on',\n",
       " 'your',\n",
       " 'home',\n",
       " 'computer',\n",
       " '<',\n",
       " '/dl',\n",
       " '>',\n",
       " '<',\n",
       " 'a',\n",
       " 'href=',\n",
       " \"''\",\n",
       " 'http',\n",
       " ':',\n",
       " '//www.cise.ufl.edu/~pjd/courses/3022/notes/fa09L43.html',\n",
       " \"''\",\n",
       " '>',\n",
       " '<',\n",
       " '<',\n",
       " '<',\n",
       " '<',\n",
       " 'Prev',\n",
       " '<',\n",
       " '/a',\n",
       " '>',\n",
       " '&',\n",
       " 'nbsp',\n",
       " ';',\n",
       " '&',\n",
       " 'nbsp',\n",
       " ';',\n",
       " '&',\n",
       " 'nbsp',\n",
       " ';',\n",
       " '<',\n",
       " 'a',\n",
       " 'href=',\n",
       " \"''\",\n",
       " 'http',\n",
       " ':',\n",
       " '//www.cise.ufl.edu/~pjd/courses/3022/notes/fa09L02.html',\n",
       " \"''\",\n",
       " '>',\n",
       " 'Next',\n",
       " '>',\n",
       " '>',\n",
       " '>',\n",
       " '>',\n",
       " '<',\n",
       " '/a',\n",
       " '>',\n",
       " '<',\n",
       " '/body',\n",
       " '>',\n",
       " '<',\n",
       " '/html',\n",
       " '>']"
      ]
     },
     "execution_count": 10,
     "metadata": {},
     "output_type": "execute_result"
    }
   ],
   "source": [
    "#tokenization\n",
    "#bad example\n",
    "tokens1 = nltk.word_tokenize(text1)\n",
    "tokens1"
   ]
  },
  {
   "cell_type": "code",
   "execution_count": 11,
   "metadata": {
    "collapsed": false
   },
   "outputs": [
    {
     "data": {
      "text/plain": [
       "['head', 'head']"
      ]
     },
     "execution_count": 11,
     "metadata": {},
     "output_type": "execute_result"
    }
   ],
   "source": [
    "import re #regular expression\n",
    "#r'head' add r for optimization\n",
    "pattern = re.compile (r'head')\n",
    "pattern.findall(text1)"
   ]
  },
  {
   "cell_type": "code",
   "execution_count": 13,
   "metadata": {
    "collapsed": false
   },
   "outputs": [
    {
     "name": "stdout",
     "output_type": "stream",
     "text": [
      "yes\n"
     ]
    }
   ],
   "source": [
    "if re.search(pattern,text1): #doesnt return a bool but can work like this\n",
    "    print (\"yes\")"
   ]
  },
  {
   "cell_type": "code",
   "execution_count": 16,
   "metadata": {
    "collapsed": true
   },
   "outputs": [],
   "source": [
    "text5 = nltk.corpus.nps_chat.words()\n",
    "list1 = [w for w in text5 if re.search(r'the',w)]"
   ]
  },
  {
   "cell_type": "code",
   "execution_count": 17,
   "metadata": {
    "collapsed": false
   },
   "outputs": [
    {
     "data": {
      "text/plain": [
       "1059"
      ]
     },
     "execution_count": 17,
     "metadata": {},
     "output_type": "execute_result"
    }
   ],
   "source": [
    "len(list1)"
   ]
  },
  {
   "cell_type": "code",
   "execution_count": 18,
   "metadata": {
    "collapsed": false
   },
   "outputs": [
    {
     "data": {
      "text/plain": [
       "['the',\n",
       " 'the',\n",
       " 'the',\n",
       " 'they',\n",
       " 'the',\n",
       " 'the',\n",
       " 'then',\n",
       " 'they',\n",
       " 'the',\n",
       " 'the',\n",
       " 'the',\n",
       " 'others',\n",
       " 'the',\n",
       " 'the',\n",
       " 'the',\n",
       " 'the',\n",
       " 'the',\n",
       " 'the',\n",
       " 'the',\n",
       " 'the',\n",
       " 'the',\n",
       " 'the',\n",
       " 'there',\n",
       " 'the',\n",
       " 'they',\n",
       " 'there',\n",
       " 'the',\n",
       " 'the',\n",
       " 'the',\n",
       " 'the',\n",
       " 'the',\n",
       " 'there',\n",
       " 'then',\n",
       " 'other',\n",
       " 'the',\n",
       " 'the',\n",
       " 'the',\n",
       " 'the',\n",
       " 'the',\n",
       " 'the',\n",
       " 'the',\n",
       " 'the',\n",
       " 'the',\n",
       " 'they',\n",
       " 'then',\n",
       " 'they',\n",
       " 'either',\n",
       " 'the',\n",
       " 'there',\n",
       " 'pathetic']"
      ]
     },
     "execution_count": 18,
     "metadata": {},
     "output_type": "execute_result"
    }
   ],
   "source": [
    "list1[50:100]"
   ]
  },
  {
   "cell_type": "code",
   "execution_count": 19,
   "metadata": {
    "collapsed": false
   },
   "outputs": [
    {
     "data": {
      "text/plain": [
       "646"
      ]
     },
     "execution_count": 19,
     "metadata": {},
     "output_type": "execute_result"
    }
   ],
   "source": [
    "list1 = [w for w in text5 if re.search(r'\\bthe\\b',w)] #looking for isolated characters the\n",
    "len(list1)"
   ]
  },
  {
   "cell_type": "code",
   "execution_count": 20,
   "metadata": {
    "collapsed": false
   },
   "outputs": [
    {
     "data": {
      "text/plain": [
       "659"
      ]
     },
     "execution_count": 20,
     "metadata": {},
     "output_type": "execute_result"
    }
   ],
   "source": [
    "list1 = [w for w in text5 if re.search(r'\\b[tT]he\\b',w)] #uppercase or lowercase t\n",
    "len(list1)"
   ]
  },
  {
   "cell_type": "code",
   "execution_count": 23,
   "metadata": {
    "collapsed": false
   },
   "outputs": [
    {
     "data": {
      "text/plain": [
       "659"
      ]
     },
     "execution_count": 23,
     "metadata": {},
     "output_type": "execute_result"
    }
   ],
   "source": [
    "pattern = re.compile( r'\\b[tT]he\\b')\n",
    "list1 = [ w for w in text5 if pattern.search(w)]\n",
    "len(list1)"
   ]
  },
  {
   "cell_type": "markdown",
   "metadata": {},
   "source": [
    "## Regular expression notes\n",
    "- '^'match start of sequence\n",
    "- '$' match end of sequence\n",
    "- '*' zero or more occurrences of preceding expression clause\n",
    "- '+' one or more occurrences of the preceding expression clause\n",
    "- '?' zero or one occurence of the preceding expression clause\n",
    "\n",
    "- r'a'\n",
    "- r'a*'\n",
    "- r'a+'\n",
    "\n",
    "- '.' matches all singl char's but newline\n",
    "- { } blocks off a preceding range\n",
    "- ( ) blocks off a group\n",
    "- [ ] look for one of whatever is in the [ ]s\n",
    "- '-' denotes a range\n",
    "    - [a-f][1-10]\n",
    "\n",
    "- '|' or\n",
    "\n",
    "- '\\' escape sequence\n",
    "- '\\b' word boundary\n",
    "- '\\w' word characters\n",
    "- '\\W' non-word characters\n",
    "- '\\s' whitespace characters\n",
    "- '\\n' newline\n",
    "\n",
    "- '\\#' refers to the numbered position of ( )s"
   ]
  },
  {
   "cell_type": "code",
   "execution_count": 25,
   "metadata": {
    "collapsed": false
   },
   "outputs": [
    {
     "data": {
      "text/plain": [
       "['<html>',\n",
       " '<head>',\n",
       " '<title>Fall 2009 Lecture 01</title>',\n",
       " '<link href=\"http://www.cise.ufl.edu/~pjd/courses/lecture.css\" rel=stylesheet type=\"text/css\">',\n",
       " '</head>',\n",
       " '<body bgcolor=white>',\n",
       " '<h2>Fall 2009 Lecture 01</h2>',\n",
       " '<dl>',\n",
       " '<dt>',\n",
       " '<dd>',\n",
       " '<br><br>',\n",
       " '<dt>',\n",
       " '<dd>',\n",
       " '<dd>',\n",
       " '<dd>',\n",
       " '<dd>',\n",
       " '<br><br>',\n",
       " '<dt>',\n",
       " '<dd><a href=\"http://www.cise.ufl.edu/~pjd/courses/3022/admin\">',\n",
       " '</a>',\n",
       " '<dd><a href=\"http://www.cise.ufl.edu/~pjd/courses/3022/admin/Installation.html\">Installation</a>',\n",
       " '<br><br>',\n",
       " '<dt>',\n",
       " '<dd>',\n",
       " '<br><br>',\n",
       " '<dt>',\n",
       " '<dd>',\n",
       " '</dl>',\n",
       " '<a href=\"http://www.cise.ufl.edu/~pjd/courses/3022/notes/fa09L43.html\"><<<< Prev</a>',\n",
       " '<a href=\"http://www.cise.ufl.edu/~pjd/courses/3022/notes/fa09L02.html\">Next >>>></a>',\n",
       " '</body>',\n",
       " '</html>']"
      ]
     },
     "execution_count": 25,
     "metadata": {},
     "output_type": "execute_result"
    }
   ],
   "source": [
    "pattern = re.compile(r'(<.*>)')\n",
    "list1 = pattern.findall(text1)\n",
    "list1"
   ]
  },
  {
   "cell_type": "code",
   "execution_count": 26,
   "metadata": {
    "collapsed": false
   },
   "outputs": [
    {
     "data": {
      "text/plain": [
       "['<html>',\n",
       " '<head>',\n",
       " '<title>',\n",
       " '</title>',\n",
       " '<link href=\"http://www.cise.ufl.edu/~pjd/courses/lecture.css\" rel=stylesheet type=\"text/css\">',\n",
       " '</head>',\n",
       " '<body bgcolor=white>',\n",
       " '<h2>',\n",
       " '</h2>',\n",
       " '<dl>',\n",
       " '<dt>',\n",
       " '<dd>',\n",
       " '<br>',\n",
       " '<br>',\n",
       " '<dt>',\n",
       " '<dd>',\n",
       " '<dd>',\n",
       " '<dd>',\n",
       " '<dd>',\n",
       " '<br>',\n",
       " '<br>',\n",
       " '<dt>',\n",
       " '<dd>',\n",
       " '<a href=\"http://www.cise.ufl.edu/~pjd/courses/3022/admin\">',\n",
       " '</a>',\n",
       " '<dd>',\n",
       " '<a href=\"http://www.cise.ufl.edu/~pjd/courses/3022/admin/Installation.html\">',\n",
       " '</a>',\n",
       " '<br>',\n",
       " '<br>',\n",
       " '<dt>',\n",
       " '<dd>',\n",
       " '<br>',\n",
       " '<br>',\n",
       " '<dt>',\n",
       " '<dd>',\n",
       " '</dl>',\n",
       " '<a href=\"http://www.cise.ufl.edu/~pjd/courses/3022/notes/fa09L43.html\">',\n",
       " '<<<< Prev</a>',\n",
       " '<a href=\"http://www.cise.ufl.edu/~pjd/courses/3022/notes/fa09L02.html\">',\n",
       " '</a>',\n",
       " '</body>',\n",
       " '</html>']"
      ]
     },
     "execution_count": 26,
     "metadata": {},
     "output_type": "execute_result"
    }
   ],
   "source": [
    "pattern = re.compile(r'(<.*?>)') #non greedy version\n",
    "list1 = pattern.findall(text1)\n",
    "list1"
   ]
  },
  {
   "cell_type": "code",
   "execution_count": null,
   "metadata": {
    "collapsed": true
   },
   "outputs": [],
   "source": []
  }
 ],
 "metadata": {
  "kernelspec": {
   "display_name": "Python 3",
   "language": "python",
   "name": "python3"
  },
  "language_info": {
   "codemirror_mode": {
    "name": "ipython",
    "version": 3
   },
   "file_extension": ".py",
   "mimetype": "text/x-python",
   "name": "python",
   "nbconvert_exporter": "python",
   "pygments_lexer": "ipython3",
   "version": "3.6.0"
  }
 },
 "nbformat": 4,
 "nbformat_minor": 2
}
