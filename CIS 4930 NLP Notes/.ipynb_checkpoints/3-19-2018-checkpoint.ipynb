{
 "cells": [
  {
   "cell_type": "markdown",
   "metadata": {},
   "source": [
    "Sample exercise #1: Create the function prior_n_words. The function will receive a tagged corpus, a string, and an int value. Search the corpus for every occurrence of the string and return the string preceded by the prior int value of words."
   ]
  },
  {
   "cell_type": "code",
   "execution_count": 15,
   "metadata": {
    "collapsed": true
   },
   "outputs": [],
   "source": [
    "import nltk\n",
    "def prior_n_words (corpus, string, value):\n",
    "    corpus_words = [w.lower() for w in corpus.words() if w.isalpha()]\n",
    "    N = len(corpus_words)\n",
    "    words = nltk.word_tokenize(string)\n",
    "    for i in range (0, N):\n",
    "        if corpus_words[i] == words[0] and i+len(words)<N:\n",
    "            flag = True\n",
    "            for j in range (1, len(words)):\n",
    "                if corpus_words[i+j] != words[j]:\n",
    "                    flag = False\n",
    "                    break\n",
    "            if flag:\n",
    "                if value >= i:\n",
    "                    print(' '.join(corpus_words[:i+1]))\n",
    "                else:\n",
    "                    print(' '.join(corpus_words[i-value:i+len(words)]))"
   ]
  },
  {
   "cell_type": "code",
   "execution_count": 16,
   "metadata": {
    "collapsed": false
   },
   "outputs": [
    {
     "name": "stdout",
     "output_type": "stream",
     "text": [
      "arises from an object\n",
      "yield to an object\n",
      "realism of an object\n",
      "closed and an object\n",
      "undamaged when an object\n",
      "pollock is an object\n",
      "faded engraving an object\n",
      "shovels struck an object\n"
     ]
    }
   ],
   "source": [
    "from nltk.corpus import brown\n",
    "prior_n_words(brown, 'an object', 2)"
   ]
  },
  {
   "cell_type": "code",
   "execution_count": 17,
   "metadata": {
    "collapsed": false
   },
   "outputs": [
    {
     "name": "stdout",
     "output_type": "stream",
     "text": [
      "from the development of the human\n",
      "a monstrous crime against the human\n",
      "radioactivity builds up in the human\n",
      "this mystic bond between the human\n",
      "would attempt to make the human\n",
      "of gloucester harbor in the human\n",
      "of its manufacture by the human\n",
      "injured fats coronaries ordinarily the human\n",
      "does not claim for the human\n",
      "a resultant fragmentation of the human\n",
      "permit the termination of the human\n",
      "sense the termination of the human\n",
      "a question of allowing the human\n",
      "of the destruction of the human\n",
      "make sure of preserving the human\n",
      "the natural longing of the human\n",
      "planet less habitable by the human\n",
      "sought new sympathy for the human\n",
      "in the exploration of the human\n",
      "baum who has explored the human\n",
      "form kenneth clark declares the human\n",
      "were important to health the human\n",
      "is the gait of the human\n",
      "was the odor of the human\n",
      "air fruit poetry music the human\n",
      "areas of understanding in the human\n",
      "scepticism whitehead contends that the human\n",
      "factors not rooted in the human\n",
      "out of existence when the human\n",
      "to a conception of the human\n",
      "the flowing life of the human\n",
      "be a variant of the human\n",
      "things a search for the human\n",
      "mastery will necessarily better the human\n",
      "in order to prepare the human\n",
      "technology will inevitably better the human\n",
      "are many areas of the human\n",
      "great prime motivations of the human\n",
      "ideological and flows into the human\n",
      "the sudden illuminations of the human\n",
      "also the endurance of the human\n",
      "for thousands of years the human\n",
      "horse much as in the human\n",
      "of others birnbaum in the human\n",
      "relatively nonfunctional existence in the human\n",
      "found these shunts in the human\n",
      "comparable to that of the human\n",
      "of resources and in the human\n",
      "equally uncharted space of the human\n",
      "suggests some part of the human\n",
      "described above in brief the human\n",
      "would have to carry the human\n",
      "of conscience left in the human\n",
      "said the form of the human\n",
      "of the development of the human\n",
      "the dark corners of the human\n",
      "animals are saner than the human\n",
      "terribly sharp of all the human\n",
      "and explore outer space the human\n"
     ]
    }
   ],
   "source": [
    "prior_n_words(brown, 'the human', 4)"
   ]
  },
  {
   "cell_type": "markdown",
   "metadata": {},
   "source": [
    "Sample exercise #2: Ceate the function homonym. The function will receive and search a tagged corpus for all homonyms. Display all of the homonyms and their different parts of speech tags. "
   ]
  },
  {
   "cell_type": "code",
   "execution_count": 28,
   "metadata": {
    "collapsed": true
   },
   "outputs": [],
   "source": [
    "#assuming that homonym = words that have the same spelling but different meaning\n",
    "def homonym (corpus):\n",
    "    if corpus == '':\n",
    "        tagged_full = brown.tagged_words('cn01', tagset='universal')\n",
    "    else:\n",
    "        tagged_full = corpus.tagged_words()\n",
    "    tagged = [(word.lower(), pos) for (word, pos) in tagged_full if word.isalpha()]\n",
    "    cfd = nltk.ConditionalFreqDist(tagged)\n",
    "    return [k for (k,v) in cfd.items() if len(v) > 1]"
   ]
  },
  {
   "cell_type": "code",
   "execution_count": 21,
   "metadata": {
    "collapsed": false
   },
   "outputs": [],
   "source": [
    "import nltk\n",
    "from nltk.corpus import brown\n",
    "tagged_full = brown.tagged_words('cn01', tagset='universal')\n",
    "tagged = [(word, pos) for (word, pos) in tagged_full if word.isalpha()]\n",
    "cfd = nltk.ConditionalFreqDist(tagged)"
   ]
  },
  {
   "cell_type": "code",
   "execution_count": 22,
   "metadata": {
    "collapsed": false
   },
   "outputs": [
    {
     "data": {
      "text/plain": [
       "FreqDist({'NOUN': 9, 'VERB': 3})"
      ]
     },
     "execution_count": 22,
     "metadata": {},
     "output_type": "execute_result"
    }
   ],
   "source": [
    "cfd['work']"
   ]
  },
  {
   "cell_type": "code",
   "execution_count": 29,
   "metadata": {
    "collapsed": false
   },
   "outputs": [
    {
     "data": {
      "text/plain": [
       "['her',\n",
       " 'as',\n",
       " 'all',\n",
       " 'up',\n",
       " 'in',\n",
       " 'back',\n",
       " 'to',\n",
       " 'sleep',\n",
       " 'so',\n",
       " 'much',\n",
       " 'that',\n",
       " 'there',\n",
       " 'hard',\n",
       " 'work',\n",
       " 'hurt',\n",
       " 'no',\n",
       " 'on',\n",
       " 'kind',\n",
       " 'one',\n",
       " 'more',\n",
       " 'left',\n",
       " 'front',\n",
       " 'even',\n",
       " 'by',\n",
       " 'off',\n",
       " 'about',\n",
       " 'right']"
      ]
     },
     "execution_count": 29,
     "metadata": {},
     "output_type": "execute_result"
    }
   ],
   "source": [
    "homonym(\"\")"
   ]
  },
  {
   "cell_type": "code",
   "execution_count": 31,
   "metadata": {
    "collapsed": false
   },
   "outputs": [
    {
     "data": {
      "text/plain": [
       "27"
      ]
     },
     "execution_count": 31,
     "metadata": {},
     "output_type": "execute_result"
    }
   ],
   "source": [
    "len(homonym(\"\"))"
   ]
  },
  {
   "cell_type": "markdown",
   "metadata": {},
   "source": [
    "Sample exercise #3: Create the function past_participle. The function will receive a tagged corpus and search it for all past participles: 'VBN' in the simiplified tagging. Create statistics analyzing one and two word combinations preceding the past participle. Include in your statistics how often a form of the word 'has' (has, have, had, etc) precedes the past participle in question. Note, you will differentiate between if 'has' is seen with no words in between opposed to with a single word in between, and finally against if has does not occur in the two words prior."
   ]
  },
  {
   "cell_type": "code",
   "execution_count": null,
   "metadata": {
    "collapsed": true
   },
   "outputs": [],
   "source": [
    "def past_participle(corpus):\n",
    "    if corpus == '':\n",
    "        tagged_full = brown.tagged_words('cn01', tagset='universal')\n",
    "    else:\n",
    "        tagged_full = corpus.tagged_words()\n",
    "    past_participles = [(w, POS) for (w, POS) in tagged_full if POS == VBN]\n",
    "    "
   ]
  }
 ],
 "metadata": {
  "kernelspec": {
   "display_name": "Python 3",
   "language": "python",
   "name": "python3"
  },
  "language_info": {
   "codemirror_mode": {
    "name": "ipython",
    "version": 3
   },
   "file_extension": ".py",
   "mimetype": "text/x-python",
   "name": "python",
   "nbconvert_exporter": "python",
   "pygments_lexer": "ipython3",
   "version": "3.6.0"
  }
 },
 "nbformat": 4,
 "nbformat_minor": 2
}
