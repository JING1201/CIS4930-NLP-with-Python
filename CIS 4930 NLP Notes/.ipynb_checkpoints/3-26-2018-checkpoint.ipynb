{
 "cells": [
  {
   "cell_type": "markdown",
   "metadata": {},
   "source": [
    "# Notes\n",
    "- Confusion matrix\n",
    "    - observations and truth\n",
    "                   TRUTH\n",
    "                   T   F\n",
    "              T    TP  FP\n",
    "      OBS\n",
    "              F    FN  TN\n",
    "    - Example\n",
    "            Noun  Verb  Det\n",
    "      Noun\n",
    "      \n",
    "      Verb\n",
    "      \n",
    "      Det\n",
    "      \n",
    "- TP: are relevant items we correctly identify as relevant\n",
    "- TN: are irrelevant items we correctly identify as irrelevant\n",
    "- FP (Type I Errors) : are irrelevant items we incorrectly identified as relevant\n",
    "- FN (Type II Errors): are relevant items we incorrectly identified as irrelevant\n",
    "\n",
    "- Precision: indicates how many of the items identified were relevant\n",
    "    - TP/(TP+FP)\n",
    "- Recall: indicates how many of the actually relevant items\n",
    "    - TP/(TP+FN) #trues found divided by the total of truths we should (could) have found\n",
    "- F-measure\n",
    "    - (2 \\* Precision \\* Recall) / (Precision + Recall)\n",
    "- Accuracy\n",
    "    - (TP+TN)/(TP+TN+FP+FN)"
   ]
  },
  {
   "cell_type": "code",
   "execution_count": 1,
   "metadata": {
    "collapsed": true
   },
   "outputs": [],
   "source": [
    "import nltk\n",
    "from nltk.corpus import brown"
   ]
  },
  {
   "cell_type": "code",
   "execution_count": 2,
   "metadata": {
    "collapsed": true
   },
   "outputs": [],
   "source": [
    "# Check today's notes \"Examples\" on the course website"
   ]
  },
  {
   "cell_type": "code",
   "execution_count": 4,
   "metadata": {
    "collapsed": false
   },
   "outputs": [
    {
     "data": {
      "text/plain": [
       "57340"
      ]
     },
     "execution_count": 4,
     "metadata": {},
     "output_type": "execute_result"
    }
   ],
   "source": [
    "brown_tagged_sents = brown.tagged_sents()\n",
    "len(brown_tagged_sents)"
   ]
  },
  {
   "cell_type": "code",
   "execution_count": 7,
   "metadata": {
    "collapsed": false
   },
   "outputs": [
    {
     "data": {
      "text/plain": [
       "['It',\n",
       " 'recommended',\n",
       " 'that',\n",
       " 'Fulton',\n",
       " 'legislators',\n",
       " 'act',\n",
       " '``',\n",
       " 'to',\n",
       " 'have',\n",
       " 'these',\n",
       " 'laws',\n",
       " 'studied',\n",
       " 'and',\n",
       " 'revised',\n",
       " 'to',\n",
       " 'the',\n",
       " 'end',\n",
       " 'of',\n",
       " 'modernizing',\n",
       " 'and',\n",
       " 'improving',\n",
       " 'them',\n",
       " \"''\",\n",
       " '.']"
      ]
     },
     "execution_count": 7,
     "metadata": {},
     "output_type": "execute_result"
    }
   ],
   "source": [
    "brown_sents = brown.sents()\n",
    "brown_sents[5]"
   ]
  },
  {
   "cell_type": "code",
   "execution_count": 6,
   "metadata": {
    "collapsed": false
   },
   "outputs": [
    {
     "data": {
      "text/plain": [
       "[('It', 'PPS'),\n",
       " ('recommended', 'VBD'),\n",
       " ('that', 'CS'),\n",
       " ('Fulton', 'NP'),\n",
       " ('legislators', 'NNS'),\n",
       " ('act', 'VB'),\n",
       " ('``', '``'),\n",
       " ('to', 'TO'),\n",
       " ('have', 'HV'),\n",
       " ('these', 'DTS'),\n",
       " ('laws', 'NNS'),\n",
       " ('studied', 'VBN'),\n",
       " ('and', 'CC'),\n",
       " ('revised', 'VBN'),\n",
       " ('to', 'IN'),\n",
       " ('the', 'AT'),\n",
       " ('end', 'NN'),\n",
       " ('of', 'IN'),\n",
       " ('modernizing', 'VBG'),\n",
       " ('and', 'CC'),\n",
       " ('improving', 'VBG'),\n",
       " ('them', 'PPO'),\n",
       " (\"''\", \"''\"),\n",
       " ('.', '.')]"
      ]
     },
     "execution_count": 6,
     "metadata": {},
     "output_type": "execute_result"
    }
   ],
   "source": [
    "brown_tagged_sents[5]"
   ]
  },
  {
   "cell_type": "code",
   "execution_count": 8,
   "metadata": {
    "collapsed": false
   },
   "outputs": [
    {
     "data": {
      "text/plain": [
       "'NN'"
      ]
     },
     "execution_count": 8,
     "metadata": {},
     "output_type": "execute_result"
    }
   ],
   "source": [
    "brown_sents = brown.sents()\n",
    "tags = [tag for (word, tag) in brown.tagged_words()]\n",
    "tags_fd = nltk.FreqDist(tags)\n",
    "tags_fd.max()"
   ]
  },
  {
   "cell_type": "code",
   "execution_count": 9,
   "metadata": {
    "collapsed": false
   },
   "outputs": [
    {
     "data": {
      "text/plain": [
       "152470"
      ]
     },
     "execution_count": 9,
     "metadata": {},
     "output_type": "execute_result"
    }
   ],
   "source": [
    "tags_fd['NN']"
   ]
  },
  {
   "cell_type": "code",
   "execution_count": 12,
   "metadata": {
    "collapsed": false
   },
   "outputs": [
    {
     "data": {
      "text/plain": [
       "['The',\n",
       " 'simplest',\n",
       " 'possible',\n",
       " 'tagger',\n",
       " 'assigns',\n",
       " 'the',\n",
       " 'same',\n",
       " 'tag',\n",
       " 'to',\n",
       " 'each',\n",
       " 'token',\n",
       " '.',\n",
       " 'This',\n",
       " 'may',\n",
       " 'seem',\n",
       " 'to',\n",
       " 'be',\n",
       " 'a',\n",
       " 'rather',\n",
       " 'banal',\n",
       " 'step',\n",
       " ',',\n",
       " 'but',\n",
       " 'it',\n",
       " 'estabilishes',\n",
       " 'an',\n",
       " 'important',\n",
       " 'baseline',\n",
       " 'for',\n",
       " 'tagger',\n",
       " 'performance',\n",
       " '.']"
      ]
     },
     "execution_count": 12,
     "metadata": {},
     "output_type": "execute_result"
    }
   ],
   "source": [
    "text = 'The simplest possible tagger assigns the same tag to each token. This may seem to be a rather banal step, but it estabilishes an important baseline for tagger performance.'\n",
    "tokens = nltk.word_tokenize(text)\n",
    "tokens"
   ]
  },
  {
   "cell_type": "code",
   "execution_count": 13,
   "metadata": {
    "collapsed": false
   },
   "outputs": [
    {
     "data": {
      "text/plain": [
       "['jr.', 'took', 'the', 'test']"
      ]
     },
     "execution_count": 13,
     "metadata": {},
     "output_type": "execute_result"
    }
   ],
   "source": [
    "tokens = nltk.word_tokenize ('jr. took the test')\n",
    "tokens"
   ]
  },
  {
   "cell_type": "code",
   "execution_count": 14,
   "metadata": {
    "collapsed": false
   },
   "outputs": [
    {
     "data": {
      "text/plain": [
       "['i', 'went', 'with', 'jr', '.']"
      ]
     },
     "execution_count": 14,
     "metadata": {},
     "output_type": "execute_result"
    }
   ],
   "source": [
    "tokens = nltk.word_tokenize ('i went with jr.')\n",
    "tokens #didn't handle the sentence correctly, period should be attached to jr"
   ]
  },
  {
   "cell_type": "code",
   "execution_count": 15,
   "metadata": {
    "collapsed": false
   },
   "outputs": [
    {
     "data": {
      "text/plain": [
       "[('The', 'NN'),\n",
       " ('simplest', 'NN'),\n",
       " ('possible', 'NN'),\n",
       " ('tagger', 'NN'),\n",
       " ('assigns', 'NN'),\n",
       " ('the', 'NN'),\n",
       " ('same', 'NN'),\n",
       " ('tag', 'NN'),\n",
       " ('to', 'NN'),\n",
       " ('each', 'NN'),\n",
       " ('token', 'NN'),\n",
       " ('.', 'NN'),\n",
       " ('This', 'NN'),\n",
       " ('may', 'NN'),\n",
       " ('seem', 'NN'),\n",
       " ('to', 'NN'),\n",
       " ('be', 'NN'),\n",
       " ('a', 'NN'),\n",
       " ('rather', 'NN'),\n",
       " ('banal', 'NN'),\n",
       " ('step', 'NN'),\n",
       " (',', 'NN'),\n",
       " ('but', 'NN'),\n",
       " ('it', 'NN'),\n",
       " ('estabilishes', 'NN'),\n",
       " ('an', 'NN'),\n",
       " ('important', 'NN'),\n",
       " ('baseline', 'NN'),\n",
       " ('for', 'NN'),\n",
       " ('tagger', 'NN'),\n",
       " ('performance', 'NN'),\n",
       " ('.', 'NN')]"
      ]
     },
     "execution_count": 15,
     "metadata": {},
     "output_type": "execute_result"
    }
   ],
   "source": [
    "tokens = nltk.word_tokenize(text)\n",
    "default_tagger = nltk.DefaultTagger('NN') #tag everything as noun\n",
    "tokens_default_tagged = default_tagger.tag(tokens)\n",
    "tokens_default_tagged"
   ]
  },
  {
   "cell_type": "code",
   "execution_count": 18,
   "metadata": {
    "collapsed": false
   },
   "outputs": [
    {
     "data": {
      "text/plain": [
       "1.0"
      ]
     },
     "execution_count": 18,
     "metadata": {},
     "output_type": "execute_result"
    }
   ],
   "source": [
    "tokens_tagged_sents = [[('The', 'NN'), ('simplest', 'NN'), ('possible',\n",
    "'NN'), ('tagger', 'NN'), ('assigns', 'NN'), ('the', 'NN'), ('same', 'NN'),\n",
    "('tag', 'NN'), ('to', 'NN'), ('each', 'NN'), ('token.', 'NN')], [('This',\n",
    "'NN'), ('may', 'NN'), ('seem', 'NN'), ('to', 'NN'), ('be', 'NN'), ('a',\n",
    "'NN'), ('rather', 'NN'), ('banal', 'NN'), ('step', 'NN'), (',', 'NN'),\n",
    "('but', 'NN'), ('it', 'NN'), ('estabilishes', 'NN'), ('an', 'NN'),\n",
    "('important', 'NN'), ('baseline', 'NN'), ('for', 'NN'), ('tagger', 'NN'),\n",
    "('performance', 'NN'), ('.', 'NN')]]\n",
    "default_tagger.evaluate(tokens_tagged_sents) #returns 100% accuracy"
   ]
  },
  {
   "cell_type": "code",
   "execution_count": 19,
   "metadata": {
    "collapsed": false
   },
   "outputs": [
    {
     "data": {
      "text/plain": [
       "0.13089484257215028"
      ]
     },
     "execution_count": 19,
     "metadata": {},
     "output_type": "execute_result"
    }
   ],
   "source": [
    "brown_news_tagged = brown.tagged_sents(categories='news')\n",
    "default_tagger.evaluate(brown_news_tagged)"
   ]
  },
  {
   "cell_type": "code",
   "execution_count": 20,
   "metadata": {
    "collapsed": false
   },
   "outputs": [
    {
     "data": {
      "text/plain": [
       "0.11832219405392948"
      ]
     },
     "execution_count": 20,
     "metadata": {},
     "output_type": "execute_result"
    }
   ],
   "source": [
    "brown_humor_tagged = brown.tagged_sents(categories='humor')\n",
    "default_tagger.evaluate(brown_humor_tagged)"
   ]
  },
  {
   "cell_type": "code",
   "execution_count": 21,
   "metadata": {
    "collapsed": true
   },
   "outputs": [],
   "source": [
    "patterns = [\n",
    "\t(r'.*ing$', 'VBG'),              # gerunds\n",
    "\t(r'.*ed$', 'VBD'),               # simple past\n",
    "\t(r'.*es$', 'VBZ'),               # 3rd singular present\n",
    "\t(r'.*ould$', 'MD'),              # modals\n",
    "\t(r'.*\\'s$', 'NN$'),              # possesive nouns\n",
    "\t(r'.*s$', 'NNS'),                # plural nouns\n",
    "\t(r'^-?[0-9]+(.[0-9]+)?$', 'CD'), # cardinal numbers\n",
    "\t(r'.*', 'NN')                    # nouns (default)\n",
    "\t]"
   ]
  },
  {
   "cell_type": "code",
   "execution_count": 22,
   "metadata": {
    "collapsed": false
   },
   "outputs": [
    {
     "data": {
      "text/plain": [
       "[('The', 'NN'),\n",
       " ('simplest', 'NN'),\n",
       " ('possible', 'NN'),\n",
       " ('tagger', 'NN'),\n",
       " ('assigns', 'NNS'),\n",
       " ('the', 'NN'),\n",
       " ('same', 'NN'),\n",
       " ('tag', 'NN'),\n",
       " ('to', 'NN'),\n",
       " ('each', 'NN'),\n",
       " ('token', 'NN'),\n",
       " ('.', 'NN'),\n",
       " ('This', 'NNS'),\n",
       " ('may', 'NN'),\n",
       " ('seem', 'NN'),\n",
       " ('to', 'NN'),\n",
       " ('be', 'NN'),\n",
       " ('a', 'NN'),\n",
       " ('rather', 'NN'),\n",
       " ('banal', 'NN'),\n",
       " ('step', 'NN'),\n",
       " (',', 'NN'),\n",
       " ('but', 'NN'),\n",
       " ('it', 'NN'),\n",
       " ('estabilishes', 'VBZ'),\n",
       " ('an', 'NN'),\n",
       " ('important', 'NN'),\n",
       " ('baseline', 'NN'),\n",
       " ('for', 'NN'),\n",
       " ('tagger', 'NN'),\n",
       " ('performance', 'NN'),\n",
       " ('.', 'NN')]"
      ]
     },
     "execution_count": 22,
     "metadata": {},
     "output_type": "execute_result"
    }
   ],
   "source": [
    "re_tagger = nltk.RegexpTagger(patterns)\n",
    "re_tagger.tag(tokens)"
   ]
  },
  {
   "cell_type": "code",
   "execution_count": 23,
   "metadata": {
    "collapsed": false
   },
   "outputs": [
    {
     "data": {
      "text/plain": [
       "['It',\n",
       " 'recommended',\n",
       " 'that',\n",
       " 'Fulton',\n",
       " 'legislators',\n",
       " 'act',\n",
       " '``',\n",
       " 'to',\n",
       " 'have',\n",
       " 'these',\n",
       " 'laws',\n",
       " 'studied',\n",
       " 'and',\n",
       " 'revised',\n",
       " 'to',\n",
       " 'the',\n",
       " 'end',\n",
       " 'of',\n",
       " 'modernizing',\n",
       " 'and',\n",
       " 'improving',\n",
       " 'them',\n",
       " \"''\",\n",
       " '.']"
      ]
     },
     "execution_count": 23,
     "metadata": {},
     "output_type": "execute_result"
    }
   ],
   "source": [
    "brown_news_tagged = brown.tagged_sents(categories='news')\n",
    "brown_sents[5]"
   ]
  },
  {
   "cell_type": "code",
   "execution_count": 24,
   "metadata": {
    "collapsed": false
   },
   "outputs": [
    {
     "data": {
      "text/plain": [
       "[('It', 'NN'),\n",
       " ('recommended', 'VBD'),\n",
       " ('that', 'NN'),\n",
       " ('Fulton', 'NN'),\n",
       " ('legislators', 'NNS'),\n",
       " ('act', 'NN'),\n",
       " ('``', 'NN'),\n",
       " ('to', 'NN'),\n",
       " ('have', 'NN'),\n",
       " ('these', 'NN'),\n",
       " ('laws', 'NNS'),\n",
       " ('studied', 'VBD'),\n",
       " ('and', 'NN'),\n",
       " ('revised', 'VBD'),\n",
       " ('to', 'NN'),\n",
       " ('the', 'NN'),\n",
       " ('end', 'NN'),\n",
       " ('of', 'NN'),\n",
       " ('modernizing', 'VBG'),\n",
       " ('and', 'NN'),\n",
       " ('improving', 'VBG'),\n",
       " ('them', 'NN'),\n",
       " (\"''\", 'NN'),\n",
       " ('.', 'NN')]"
      ]
     },
     "execution_count": 24,
     "metadata": {},
     "output_type": "execute_result"
    }
   ],
   "source": [
    "brown_re_tagged = re_tagger.tag(brown_sents[5])\n",
    "brown_re_tagged"
   ]
  },
  {
   "cell_type": "code",
   "execution_count": 25,
   "metadata": {
    "collapsed": true
   },
   "outputs": [],
   "source": [
    "patterns2 = [\n",
    "\t(r'.*ing$', 'VBG'),              # gerunds\n",
    "\t(r'.*ed$', 'VBD'),               # simple past\n",
    "\t(r'.*es$', 'VBZ'),               # 3rd singular present\n",
    "\t(r'.*ould$', 'MD'),              # modals\n",
    "\t(r'.*\\'s$', 'NN$'),              # possesive nouns\n",
    "\t(r'.*s$', 'NNS'),                # plural nouns\n",
    "\t(r'^-?[0-9]+(.[0-9]+)?$', 'CD'), # cardinal numbers\n",
    "\t]"
   ]
  },
  {
   "cell_type": "code",
   "execution_count": 26,
   "metadata": {
    "collapsed": false
   },
   "outputs": [
    {
     "data": {
      "text/plain": [
       "<Regexp Tagger: size=7>"
      ]
     },
     "execution_count": 26,
     "metadata": {},
     "output_type": "execute_result"
    }
   ],
   "source": [
    "re_tagger_backoff = nltk.RegexpTagger(patterns2)\n",
    "re_tagger_backoff"
   ]
  },
  {
   "cell_type": "code",
   "execution_count": 27,
   "metadata": {
    "collapsed": false
   },
   "outputs": [
    {
     "data": {
      "text/plain": [
       "[('It', None),\n",
       " ('recommended', 'VBD'),\n",
       " ('that', None),\n",
       " ('Fulton', None),\n",
       " ('legislators', 'NNS'),\n",
       " ('act', None),\n",
       " ('``', None),\n",
       " ('to', None),\n",
       " ('have', None),\n",
       " ('these', None),\n",
       " ('laws', 'NNS'),\n",
       " ('studied', 'VBD'),\n",
       " ('and', None),\n",
       " ('revised', 'VBD'),\n",
       " ('to', None),\n",
       " ('the', None),\n",
       " ('end', None),\n",
       " ('of', None),\n",
       " ('modernizing', 'VBG'),\n",
       " ('and', None),\n",
       " ('improving', 'VBG'),\n",
       " ('them', None),\n",
       " (\"''\", None),\n",
       " ('.', None)]"
      ]
     },
     "execution_count": 27,
     "metadata": {},
     "output_type": "execute_result"
    }
   ],
   "source": [
    "brown_re_tagged_backoff = re_tagger_backoff.tag(brown_sents[5])\n",
    "brown_re_tagged_backoff"
   ]
  },
  {
   "cell_type": "code",
   "execution_count": 28,
   "metadata": {
    "collapsed": false
   },
   "outputs": [
    {
     "data": {
      "text/plain": [
       "[('It', 'NN'),\n",
       " ('recommended', 'VBD'),\n",
       " ('that', 'NN'),\n",
       " ('Fulton', 'NN'),\n",
       " ('legislators', 'NNS'),\n",
       " ('act', 'NN'),\n",
       " ('``', 'NN'),\n",
       " ('to', 'NN'),\n",
       " ('have', 'NN'),\n",
       " ('these', 'NN'),\n",
       " ('laws', 'NNS'),\n",
       " ('studied', 'VBD'),\n",
       " ('and', 'NN'),\n",
       " ('revised', 'VBD'),\n",
       " ('to', 'NN'),\n",
       " ('the', 'NN'),\n",
       " ('end', 'NN'),\n",
       " ('of', 'NN'),\n",
       " ('modernizing', 'VBG'),\n",
       " ('and', 'NN'),\n",
       " ('improving', 'VBG'),\n",
       " ('them', 'NN'),\n",
       " (\"''\", 'NN'),\n",
       " ('.', 'NN')]"
      ]
     },
     "execution_count": 28,
     "metadata": {},
     "output_type": "execute_result"
    }
   ],
   "source": [
    "re_tagger_backoff = nltk.RegexpTagger(patterns2, backoff=default_tagger) #Refer to default tagger when None\n",
    "brown_re_tagged_backoff = re_tagger_backoff.tag(brown_sents[5])\n",
    "brown_re_tagged_backoff"
   ]
  },
  {
   "cell_type": "code",
   "execution_count": 29,
   "metadata": {
    "collapsed": false
   },
   "outputs": [
    {
     "data": {
      "text/plain": [
       "['The',\n",
       " 'Fulton',\n",
       " 'County',\n",
       " 'Grand',\n",
       " 'Jury',\n",
       " 'said',\n",
       " 'Friday',\n",
       " 'an',\n",
       " 'investigation',\n",
       " 'of',\n",
       " \"Atlanta's\",\n",
       " 'recent',\n",
       " 'primary',\n",
       " 'election',\n",
       " 'produced',\n",
       " '``',\n",
       " 'no',\n",
       " 'evidence',\n",
       " \"''\",\n",
       " 'that',\n",
       " 'any',\n",
       " 'irregularities',\n",
       " 'took',\n",
       " 'place',\n",
       " '.',\n",
       " 'jury',\n",
       " 'further',\n",
       " 'in',\n",
       " 'term-end',\n",
       " 'presentments',\n",
       " 'the',\n",
       " 'City',\n",
       " 'Executive',\n",
       " 'Committee',\n",
       " ',',\n",
       " 'which',\n",
       " 'had',\n",
       " 'over-all',\n",
       " 'charge',\n",
       " 'deserves',\n",
       " 'praise',\n",
       " 'and',\n",
       " 'thanks',\n",
       " 'Atlanta',\n",
       " 'for',\n",
       " 'manner',\n",
       " 'was',\n",
       " 'conducted',\n",
       " 'September-October',\n",
       " 'term',\n",
       " 'been',\n",
       " 'charged',\n",
       " 'by',\n",
       " 'Superior',\n",
       " 'Court',\n",
       " 'Judge',\n",
       " 'Durwood',\n",
       " 'Pye',\n",
       " 'to',\n",
       " 'investigate',\n",
       " 'reports',\n",
       " 'possible',\n",
       " 'hard-fought',\n",
       " 'won',\n",
       " 'Mayor-nominate',\n",
       " 'Ivan',\n",
       " 'Allen',\n",
       " 'Jr.',\n",
       " 'Only',\n",
       " 'a',\n",
       " 'relative',\n",
       " 'handful',\n",
       " 'such',\n",
       " 'received',\n",
       " 'considering',\n",
       " 'widespread',\n",
       " 'interest',\n",
       " 'number',\n",
       " 'voters',\n",
       " 'size',\n",
       " 'this',\n",
       " 'city',\n",
       " 'it',\n",
       " 'did',\n",
       " 'find',\n",
       " 'many',\n",
       " \"Georgia's\",\n",
       " 'registration',\n",
       " 'laws',\n",
       " 'are',\n",
       " 'outmoded',\n",
       " 'or',\n",
       " 'inadequate',\n",
       " 'often',\n",
       " 'ambiguous',\n",
       " 'It',\n",
       " 'recommended',\n",
       " 'legislators',\n",
       " 'act',\n",
       " 'have']"
      ]
     },
     "execution_count": 29,
     "metadata": {},
     "output_type": "execute_result"
    }
   ],
   "source": [
    "fd = nltk.FreqDist(brown.words())\n",
    "cfd = nltk.ConditionalFreqDist(brown.tagged_words())\n",
    "fd_keys = list( fd.keys() )\n",
    "most_freq_words = fd_keys[:100]\n",
    "most_freq_words"
   ]
  },
  {
   "cell_type": "code",
   "execution_count": 30,
   "metadata": {
    "collapsed": false
   },
   "outputs": [
    {
     "data": {
      "text/plain": [
       "{\"''\": \"''\",\n",
       " ',': ',',\n",
       " '.': '.',\n",
       " 'Allen': 'NP',\n",
       " 'Atlanta': 'NP',\n",
       " \"Atlanta's\": 'NP$',\n",
       " 'City': 'NN-TL',\n",
       " 'Committee': 'NN-TL',\n",
       " 'County': 'NN-TL',\n",
       " 'Court': 'NN-TL',\n",
       " 'Durwood': 'NP',\n",
       " 'Executive': 'JJ-TL',\n",
       " 'Friday': 'NR',\n",
       " 'Fulton': 'NP-TL',\n",
       " \"Georgia's\": 'NP$',\n",
       " 'Grand': 'JJ-TL',\n",
       " 'It': 'PPS',\n",
       " 'Ivan': 'NP',\n",
       " 'Jr.': 'NP',\n",
       " 'Judge': 'NN-TL',\n",
       " 'Jury': 'NN-TL',\n",
       " 'Mayor-nominate': 'NN-TL',\n",
       " 'Only': 'RB',\n",
       " 'Pye': 'NP',\n",
       " 'September-October': 'NP',\n",
       " 'Superior': 'JJ-TL',\n",
       " 'The': 'AT',\n",
       " '``': '``',\n",
       " 'a': 'AT',\n",
       " 'act': 'NN',\n",
       " 'ambiguous': 'JJ',\n",
       " 'an': 'AT',\n",
       " 'and': 'CC',\n",
       " 'any': 'DTI',\n",
       " 'are': 'BER',\n",
       " 'been': 'BEN',\n",
       " 'by': 'IN',\n",
       " 'charge': 'NN',\n",
       " 'charged': 'VBN',\n",
       " 'city': 'NN',\n",
       " 'conducted': 'VBN',\n",
       " 'considering': 'VBG',\n",
       " 'deserves': 'VBZ',\n",
       " 'did': 'DOD',\n",
       " 'election': 'NN',\n",
       " 'evidence': 'NN',\n",
       " 'find': 'VB',\n",
       " 'for': 'IN',\n",
       " 'further': 'RBR',\n",
       " 'had': 'HVD',\n",
       " 'handful': 'NN',\n",
       " 'hard-fought': 'JJ',\n",
       " 'have': 'HV',\n",
       " 'in': 'IN',\n",
       " 'inadequate': 'JJ',\n",
       " 'interest': 'NN',\n",
       " 'investigate': 'VB',\n",
       " 'investigation': 'NN',\n",
       " 'irregularities': 'NNS',\n",
       " 'it': 'PPS',\n",
       " 'jury': 'NN',\n",
       " 'laws': 'NNS',\n",
       " 'legislators': 'NNS',\n",
       " 'manner': 'NN',\n",
       " 'many': 'AP',\n",
       " 'no': 'AT',\n",
       " 'number': 'NN',\n",
       " 'of': 'IN',\n",
       " 'often': 'RB',\n",
       " 'or': 'CC',\n",
       " 'outmoded': 'JJ',\n",
       " 'over-all': 'JJ',\n",
       " 'place': 'NN',\n",
       " 'possible': 'JJ',\n",
       " 'praise': 'NN',\n",
       " 'presentments': 'NNS',\n",
       " 'primary': 'JJ',\n",
       " 'produced': 'VBN',\n",
       " 'received': 'VBN',\n",
       " 'recent': 'JJ',\n",
       " 'recommended': 'VBN',\n",
       " 'registration': 'NN',\n",
       " 'relative': 'JJ',\n",
       " 'reports': 'NNS',\n",
       " 'said': 'VBD',\n",
       " 'size': 'NN',\n",
       " 'such': 'JJ',\n",
       " 'term': 'NN',\n",
       " 'term-end': 'NN',\n",
       " 'thanks': 'NNS',\n",
       " 'that': 'CS',\n",
       " 'the': 'AT',\n",
       " 'this': 'DT',\n",
       " 'to': 'TO',\n",
       " 'took': 'VBD',\n",
       " 'voters': 'NNS',\n",
       " 'was': 'BEDZ',\n",
       " 'which': 'WDT',\n",
       " 'widespread': 'JJ',\n",
       " 'won': 'VBD'}"
      ]
     },
     "execution_count": 30,
     "metadata": {},
     "output_type": "execute_result"
    }
   ],
   "source": [
    "likely_tags = dict((word, cfd[word].max()) for word in most_freq_words)\n",
    "likely_tags"
   ]
  },
  {
   "cell_type": "code",
   "execution_count": 31,
   "metadata": {
    "collapsed": false
   },
   "outputs": [
    {
     "data": {
      "text/plain": [
       "[('It', 'PPS'),\n",
       " ('recommended', 'VBN'),\n",
       " ('that', 'CS'),\n",
       " ('Fulton', 'NP-TL'),\n",
       " ('legislators', 'NNS'),\n",
       " ('act', 'NN'),\n",
       " ('``', '``'),\n",
       " ('to', 'TO'),\n",
       " ('have', 'HV'),\n",
       " ('these', None),\n",
       " ('laws', 'NNS'),\n",
       " ('studied', None),\n",
       " ('and', 'CC'),\n",
       " ('revised', None),\n",
       " ('to', 'TO'),\n",
       " ('the', 'AT'),\n",
       " ('end', None),\n",
       " ('of', 'IN'),\n",
       " ('modernizing', None),\n",
       " ('and', 'CC'),\n",
       " ('improving', None),\n",
       " ('them', None),\n",
       " (\"''\", \"''\"),\n",
       " ('.', '.')]"
      ]
     },
     "execution_count": 31,
     "metadata": {},
     "output_type": "execute_result"
    }
   ],
   "source": [
    "lookup_tagger = nltk.UnigramTagger(model=likely_tags)\n",
    "lookup_tagger.tag(brown_sents[5])"
   ]
  },
  {
   "cell_type": "code",
   "execution_count": 33,
   "metadata": {
    "collapsed": false
   },
   "outputs": [
    {
     "data": {
      "text/plain": [
       "[('It', 'PPS'),\n",
       " ('recommended', 'VBN'),\n",
       " ('that', 'CS'),\n",
       " ('Fulton', 'NP-TL'),\n",
       " ('legislators', 'NNS'),\n",
       " ('act', 'NN'),\n",
       " ('``', '``'),\n",
       " ('to', 'TO'),\n",
       " ('have', 'HV'),\n",
       " ('these', 'NN'),\n",
       " ('laws', 'NNS'),\n",
       " ('studied', 'VBD'),\n",
       " ('and', 'CC'),\n",
       " ('revised', 'VBD'),\n",
       " ('to', 'TO'),\n",
       " ('the', 'AT'),\n",
       " ('end', 'NN'),\n",
       " ('of', 'IN'),\n",
       " ('modernizing', 'VBG'),\n",
       " ('and', 'CC'),\n",
       " ('improving', 'VBG'),\n",
       " ('them', 'NN'),\n",
       " (\"''\", \"''\"),\n",
       " ('.', '.')]"
      ]
     },
     "execution_count": 33,
     "metadata": {},
     "output_type": "execute_result"
    }
   ],
   "source": [
    "lookup_tagger = nltk.UnigramTagger(model=likely_tags, backoff=re_tagger_backoff)\n",
    "lookup_tagger.tag(brown_sents[5])"
   ]
  },
  {
   "cell_type": "code",
   "execution_count": 35,
   "metadata": {
    "collapsed": false
   },
   "outputs": [
    {
     "data": {
      "text/plain": [
       "[[('The', 'AT'), ('Fulton', 'NP-TL'), ('County', 'NN-TL'), ('Grand', 'JJ-TL'), ('Jury', 'NN-TL'), ('said', 'VBD'), ('Friday', 'NR'), ('an', 'AT'), ('investigation', 'NN'), ('of', 'IN'), (\"Atlanta's\", 'NP$'), ('recent', 'JJ'), ('primary', 'NN'), ('election', 'NN'), ('produced', 'VBD'), ('``', '``'), ('no', 'AT'), ('evidence', 'NN'), (\"''\", \"''\"), ('that', 'CS'), ('any', 'DTI'), ('irregularities', 'NNS'), ('took', 'VBD'), ('place', 'NN'), ('.', '.')], [('The', 'AT'), ('jury', 'NN'), ('further', 'RBR'), ('said', 'VBD'), ('in', 'IN'), ('term-end', 'NN'), ('presentments', 'NNS'), ('that', 'CS'), ('the', 'AT'), ('City', 'NN-TL'), ('Executive', 'JJ-TL'), ('Committee', 'NN-TL'), (',', ','), ('which', 'WDT'), ('had', 'HVD'), ('over-all', 'JJ'), ('charge', 'NN'), ('of', 'IN'), ('the', 'AT'), ('election', 'NN'), (',', ','), ('``', '``'), ('deserves', 'VBZ'), ('the', 'AT'), ('praise', 'NN'), ('and', 'CC'), ('thanks', 'NNS'), ('of', 'IN'), ('the', 'AT'), ('City', 'NN-TL'), ('of', 'IN-TL'), ('Atlanta', 'NP-TL'), (\"''\", \"''\"), ('for', 'IN'), ('the', 'AT'), ('manner', 'NN'), ('in', 'IN'), ('which', 'WDT'), ('the', 'AT'), ('election', 'NN'), ('was', 'BEDZ'), ('conducted', 'VBN'), ('.', '.')], ...]"
      ]
     },
     "execution_count": 35,
     "metadata": {},
     "output_type": "execute_result"
    }
   ],
   "source": [
    "size = int(len(brown_news_tagged) * 0.9)\n",
    "train = brown_news_tagged[:size]\n",
    "train"
   ]
  },
  {
   "cell_type": "code",
   "execution_count": 36,
   "metadata": {
    "collapsed": false
   },
   "outputs": [
    {
     "data": {
      "text/plain": [
       "[[('But', 'CC'), ('in', 'IN'), ('all', 'ABN'), ('its', 'PP$'), ('175', 'CD'), ('years', 'NNS'), (',', ','), ('not', '*'), ('a', 'AT'), ('single', 'AP'), ('Negro', 'NP'), ('student', 'NN'), ('has', 'HVZ'), ('entered', 'VBN'), ('its', 'PP$'), ('classrooms', 'NNS'), ('.', '.')], [('Last', 'AP'), ('week', 'NN'), ('Federal', 'JJ-TL'), ('District', 'NN-TL'), ('Judge', 'NN-TL'), ('William', 'NP'), ('A.', 'NP'), ('Bootle', 'NP'), ('ordered', 'VBD'), ('the', 'AT'), ('university', 'NN'), ('to', 'TO'), ('admit', 'VB'), ('immediately', 'RB'), ('a', 'AT'), ('``', '``'), ('qualified', 'VBN'), (\"''\", \"''\"), ('Negro', 'NP'), ('boy', 'NN'), ('and', 'CC'), ('girl', 'NN'), ('.', '.')], ...]"
      ]
     },
     "execution_count": 36,
     "metadata": {},
     "output_type": "execute_result"
    }
   ],
   "source": [
    "test = brown_tagged_sents[size:]\n",
    "test"
   ]
  },
  {
   "cell_type": "code",
   "execution_count": 37,
   "metadata": {
    "collapsed": false
   },
   "outputs": [
    {
     "data": {
      "text/plain": [
       "0.8445133939370731"
      ]
     },
     "execution_count": 37,
     "metadata": {},
     "output_type": "execute_result"
    }
   ],
   "source": [
    "tagger = nltk.UnigramTagger(train, backoff=re_tagger_backoff)\n",
    "tagger.evaluate(test)"
   ]
  },
  {
   "cell_type": "code",
   "execution_count": null,
   "metadata": {
    "collapsed": true
   },
   "outputs": [],
   "source": []
  }
 ],
 "metadata": {
  "kernelspec": {
   "display_name": "Python 3",
   "language": "python",
   "name": "python3"
  },
  "language_info": {
   "codemirror_mode": {
    "name": "ipython",
    "version": 3
   },
   "file_extension": ".py",
   "mimetype": "text/x-python",
   "name": "python",
   "nbconvert_exporter": "python",
   "pygments_lexer": "ipython3",
   "version": "3.6.0"
  }
 },
 "nbformat": 4,
 "nbformat_minor": 2
}
