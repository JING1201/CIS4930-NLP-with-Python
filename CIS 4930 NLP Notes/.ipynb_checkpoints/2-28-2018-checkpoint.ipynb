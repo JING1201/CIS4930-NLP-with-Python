{
 "cells": [
  {
   "cell_type": "markdown",
   "metadata": {},
   "source": [
    "# HW7 Notes\n",
    "- Elements of the FSA\n",
    "    - Q: a finite set of N states: q0,q1\n",
    "    - Sigma: a finite input alphabet of symbols\n",
    "    - q0: start state [element of Q]\n",
    "    - F: final set of states subset of Q\n",
    "    - delta(q, sigma): transition function\n",
    "        - Q X S -> Q\n",
    "- Money Value FSA\n",
    "    - diagram - see folder\n",
    "    - Q = {q_0,q_1,q_2,q_3...q_9}\n",
    "    - Sigma = {one, two, ...., nineteen, twenty, thirty, ..., ninety. dollars, cents, and}\n",
    "    - delta(q_0, (one, two....nineteen)) => q_2\n",
    "        - NEED ONE FOR EACH TRANSITION\n",
    "    - delta(q_2, dollars) => {q_4, q_5}\n",
    "        - EXAMPLE FOR ONE STATE WITH TWO OPTIONS OF TRANSITIONS WITH THE SAME ARGUMENT"
   ]
  },
  {
   "cell_type": "markdown",
   "metadata": {},
   "source": [
    "# Notes\n",
    "- Collocations\n",
    "    - 'strong tea' but not 'powerful tea'\n",
    "    - 'strong challenge' but not ' powerful challenge'\n",
    "    - 'powerful computer' but not 'strong computer'\n",
    "    - 'a stiff breeze' but not 'a stiff wind'\n",
    "    - ' broad daylight' but not 'bright daylight' or 'narrow darkness'\n",
    "- idioms: 'To hear it through the grapevine' (靠耳耳相传而知）\n",
    "- bigrams\n",
    "    - 'of the','in the','in a'...., 'I am'\n",
    "- Examine POS filter to identify collocations\n",
    "    - A = Adjective\n",
    "    - N = Noun\n",
    "    - P = Preposition\n",
    "- AN: 'linear function'\n",
    "- NN: 'regression coefficients'\n",
    "- AAN: 'Gaussian random variable'\n",
    "- ANN: 'Cumulative distribution function'\n",
    "- NAN: 'Mean squared error'\n",
    "- NNN: 'Class probability function'\n",
    "- NPN: 'degrees of freedom'\n",
    "\n",
    "- word distance (mean and variance)\n",
    "    - 'We knocked on Donaldson's door'\n",
    "    - 'She knocked on the door'\n",
    "    - 'They knocked on his door'\n",
    "    - 'He knocked on the metal front door'"
   ]
  },
  {
   "cell_type": "code",
   "execution_count": null,
   "metadata": {
    "collapsed": true
   },
   "outputs": [],
   "source": []
  }
 ],
 "metadata": {
  "kernelspec": {
   "display_name": "Python 3",
   "language": "python",
   "name": "python3"
  },
  "language_info": {
   "codemirror_mode": {
    "name": "ipython",
    "version": 3
   },
   "file_extension": ".py",
   "mimetype": "text/x-python",
   "name": "python",
   "nbconvert_exporter": "python",
   "pygments_lexer": "ipython3",
   "version": "3.6.0"
  }
 },
 "nbformat": 4,
 "nbformat_minor": 2
}
