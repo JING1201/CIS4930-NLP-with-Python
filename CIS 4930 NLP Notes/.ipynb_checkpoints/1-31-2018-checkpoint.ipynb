{
 "cells": [
  {
   "cell_type": "code",
   "execution_count": 1,
   "metadata": {
    "collapsed": false
   },
   "outputs": [
    {
     "name": "stdout",
     "output_type": "stream",
     "text": [
      "*** Introductory Examples for the NLTK Book ***\n",
      "Loading text1, ..., text9 and sent1, ..., sent9\n",
      "Type the name of the text or sentence to view it.\n",
      "Type: 'texts()' or 'sents()' to list the materials.\n",
      "text1: Moby Dick by Herman Melville 1851\n",
      "text2: Sense and Sensibility by Jane Austen 1811\n",
      "text3: The Book of Genesis\n",
      "text4: Inaugural Address Corpus\n",
      "text5: Chat Corpus\n",
      "text6: Monty Python and the Holy Grail\n",
      "text7: Wall Street Journal\n",
      "text8: Personals Corpus\n",
      "text9: The Man Who Was Thursday by G . K . Chesterton 1908\n"
     ]
    }
   ],
   "source": [
    "import nltk\n",
    "from nltk.book import *"
   ]
  },
  {
   "cell_type": "markdown",
   "metadata": {},
   "source": [
    "# Zipf's Law"
   ]
  },
  {
   "cell_type": "code",
   "execution_count": 2,
   "metadata": {
    "collapsed": true
   },
   "outputs": [],
   "source": [
    "def zipfs_law(text):\n",
    "    zipf = [] #list of tuples\n",
    "    stops = nltk.corpus.stopwords.words('english')\n",
    "    text_trimmed = [ w for w in text\n",
    "                   if w.lower() not in stops and w.isalpha() ]\n",
    "    num_text = len(text_trimmed)\n",
    "    fd = FreqDist(text_trimmed)\n",
    "    all_words = fd.most_common() #is parameter is empty, most_common returns everything (tuples)\n",
    "    num_words = len(all_words)\n",
    "    for rank in range (0, num_words):\n",
    "        word = all_words[rank][0]\n",
    "        freq = all_words[rank][1]\n",
    "        zipf.append(((rank+1, word, freq),((rank+1)*freq),((freq/num_text)*100)))\n",
    "    return zipf"
   ]
  },
  {
   "cell_type": "code",
   "execution_count": 3,
   "metadata": {
    "collapsed": false
   },
   "outputs": [
    {
     "data": {
      "text/plain": [
       "[['that', 'said'],\n",
       " ['he', 'that'],\n",
       " ['was', 'he'],\n",
       " ['one', 'was'],\n",
       " ['of', 'one'],\n",
       " ['six', 'of'],\n",
       " ['who', 'six'],\n",
       " ['had', 'who'],\n",
       " ['killed', 'had'],\n",
       " ['sixty', 'killed']]"
      ]
     },
     "execution_count": 3,
     "metadata": {},
     "output_type": "execute_result"
    }
   ],
   "source": [
    "bgrams = nltk.bigrams(text1)\n",
    "rev = [[each[1],each[0]] for each in bgrams]\n",
    "rev[1000:1010]"
   ]
  },
  {
   "cell_type": "code",
   "execution_count": 7,
   "metadata": {
    "collapsed": false
   },
   "outputs": [
    {
     "name": "stdout",
     "output_type": "stream",
     "text": [
      "Displaying 25 of 76 matches:\n",
      "lone maketh the signification of the word , you deliver that which is not true\n",
      "ly still , and resolved not to say a word till spoken to . Holding a light in \n",
      " prefix so significant and infidel a word , and yet do not thus entitle him , \n",
      "nished with the meat and wine of the word , to the faithful man of God , this \n",
      " Jonah upon the dry land ;' when the word of the Lord came a second time ; and\n",
      " and seeming to hear nothing but the word \" clam ,\" Mrs . Hussey hurried towar\n",
      " to the kitchen door , I uttered the word \" cod \" with great emphasis , and re\n",
      "alliots , and what not ; but take my word for it , you never saw such a rare o\n",
      "e landlady . But all we said , not a word could we drag out of him ; I almost \n",
      "ld not move a peg , nor say a single word , nor even look at me , nor notice m\n",
      "ill yourself , Queequeg .\" But not a word did he reply . Despairing of him , t\n",
      "ions about their hereafters . In one word , Queequeg , said I , rather digress\n",
      "er strike a fish ?\" Without saying a word , Queequeg , in his wild sort of way\n",
      " placing a nervous emphasis upon the word HE . \" Queequeg ,\" said I , \" let ' \n",
      "growl ; growl and go -- that ' s the word with Captain Ahab . But nothing abou\n",
      "to the prophecy . Didn ' t ye hear a word about them matters and something mor\n",
      " Queequeg ' s signing the articles , word was given at all the inns where the \n",
      " the cabin to speak another farewell word there ; again came on deck , and loo\n",
      "ttle run from cabin to deck -- now a word below , and now a word with Starbuck\n",
      "deck -- now a word below , and now a word with Starbuck , the chief mate . But\n",
      " But we shall ere long see what that word \" careful \" precisely means when use\n",
      "rd dedication of that glance . Not a word he spoke ; nor did his officers say \n",
      "hale which the first syllable of the word literally expresses . In those times\n",
      "ould be marshalled among WHALES -- a word , which , in the popular sense , alw\n",
      " but plainly see that I have kept my word . But I now leave my cetological Sys\n"
     ]
    }
   ],
   "source": [
    "text1.concordance('word')"
   ]
  },
  {
   "cell_type": "code",
   "execution_count": null,
   "metadata": {
    "collapsed": true
   },
   "outputs": [],
   "source": []
  }
 ],
 "metadata": {
  "kernelspec": {
   "display_name": "Python 3",
   "language": "python",
   "name": "python3"
  },
  "language_info": {
   "codemirror_mode": {
    "name": "ipython",
    "version": 3
   },
   "file_extension": ".py",
   "mimetype": "text/x-python",
   "name": "python",
   "nbconvert_exporter": "python",
   "pygments_lexer": "ipython3",
   "version": "3.6.0"
  }
 },
 "nbformat": 4,
 "nbformat_minor": 2
}
