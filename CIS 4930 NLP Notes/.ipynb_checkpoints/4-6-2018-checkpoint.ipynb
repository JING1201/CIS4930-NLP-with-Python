{
 "cells": [
  {
   "cell_type": "markdown",
   "metadata": {},
   "source": [
    "## Entropy Cont.\n",
    "\n",
    "- H(x) = -p(x)\\*log(p(x))\n",
    "\n",
    "- Bits, rolling an 8 sided die\n",
    "- 0-7 => 000-111\n",
    "- 2^3 = 8    log8 = 3\n",
    "- p(i) = 1/8\n",
    "- -log(p(x)) = log (1/p(i)) = log (1/(1/8)) = log8\n",
    "- -[(1/8)\\*log(1/8) + (1/8)\\*log(1/8) + (1/8)\\*log(1/8) + ...]\n",
    "\n",
    "\n",
    "- p     t     k     a     i     u\n",
    "- 1/8  1/4   1/8   1/4   1/8   1/8\n",
    "- 100   00   101    01   110   111\n",
    "\n",
    "- E p(i)\\*log(p(i)) = 2.5 (If we use this grammar/language we need 2.5 bits to represent it)\n",
    "- {p, t, k, a, i, u}\n",
    "\n",
    "- entropy - amount of info you need in order to represent the set of language\n",
    "\n",
    "- joint entropy: \n",
    "    - H(x, y) = -E(x e X) E(y e Y)  p(x, y)\\*log(p(x,y))"
   ]
  },
  {
   "cell_type": "code",
   "execution_count": null,
   "metadata": {
    "collapsed": true
   },
   "outputs": [],
   "source": []
  }
 ],
 "metadata": {
  "kernelspec": {
   "display_name": "Python 3",
   "language": "python",
   "name": "python3"
  },
  "language_info": {
   "codemirror_mode": {
    "name": "ipython",
    "version": 3
   },
   "file_extension": ".py",
   "mimetype": "text/x-python",
   "name": "python",
   "nbconvert_exporter": "python",
   "pygments_lexer": "ipython3",
   "version": "3.6.0"
  }
 },
 "nbformat": 4,
 "nbformat_minor": 2
}
