{
 "cells": [
  {
   "cell_type": "markdown",
   "metadata": {},
   "source": [
    "An 2001 accord needs what size tires? (realm automobiles)\n",
    "   '01 accord\n",
    "- 'what' determined output context\n",
    "- 'tires' following 'size' clarified the question context\n",
    "\n",
    "### Multi-class classification\n",
    "- input can be assigned multiple labels\n",
    "\n",
    "### Open-class classification\n",
    "- not all input are labeled\n",
    "\n",
    "### Sequence classification\n",
    "- there is dependency between each part of the input\n",
    "- Naive Bayes Classifier assumes independence\n",
    "\n",
    "### Supervised classification\n",
    "- yeah\n",
    "\n",
    "### Decision Trees\n",
    "- root branches into decisions\n",
    "- stump or single node - > decision\n",
    "\n",
    "### Maximum Entropy Classifier\n",
    "- entropy: average uncertainty of a single random variable\n",
    "- H = - Sum[L ϵ Labels]  P(L) * Log2 P(L)\n",
    "- https://computersciencesource.wordpress.com/2010/01/10/year-2-machine-learning-entropy/ \n"
   ]
  },
  {
   "cell_type": "markdown",
   "metadata": {},
   "source": [
    "## Shannon's Experiment to Calculate the Entropy of English"
   ]
  },
  {
   "cell_type": "code",
   "execution_count": 3,
   "metadata": {
    "collapsed": true
   },
   "outputs": [],
   "source": [
    "import math;\n",
    "\n",
    "class CorporaText():\n",
    "    def __init__(self, text):\n",
    "        self.text = text;\n",
    "        self.prevProb = 1.0;\n",
    "        self.length = len(text);\n",
    "        self.pointer = 0;\n",
    "        self.totalGuesses = 0.0;\n",
    "        self.guesses = []\n",
    "        self.entropy = 0.0;\n",
    "        self.run();\n",
    "    \n",
    "    def run(self):\n",
    "        while (self.pointer < self.length):\n",
    "            print( \"Guess the next letter of the text or type in exit to see the next letter\" );\n",
    "            self.testNextSymbol();\n",
    "        if (self.entropy < 0):  self.entropy = -self.entropy;\n",
    "        self.getLength();\n",
    "        self.getTotalGuesses();\n",
    "        self.getGuessEntropy();\n",
    "    \n",
    "    def testNextSymbol(self):\n",
    "        attempt = [];\n",
    "        i = 0;\n",
    "        guess = 0;\n",
    "        correct = False;\n",
    "        while(not correct):\n",
    "            guess_num = 'Guess #' + str(guess + 1) + ':  '\n",
    "            x = input( guess_num );\n",
    "            if (x == \"exit\"):\n",
    "                break;\n",
    "            elif (not attempt.__contains__(x)):\n",
    "                correct = (x == self.text[self.pointer]);\n",
    "                if(not correct):\n",
    "                    print( \"Incorrect Choice. Please Try Again.\" )\n",
    "                    attempt.append(x);\n",
    "                self.totalGuesses += 1;\n",
    "                guess += 1;\n",
    "            else : print( \"Already chose that letter\");\n",
    "        self.calculateLetterEntropy();\n",
    "        # print( \"Current Entropy so far:   \", str(-self.entropy) );\n",
    "        print( \"Guesses for this letter:  \", str(guess) );\n",
    "        print( \"Total Number of Guesses:  \", str(self.totalGuesses) );\n",
    "        print( \"Letters Revealed so far:  \", self.text[0:self.pointer +1], \"\\n\" );\n",
    "        self.guesses.append(guess);\n",
    "        self.pointer +=1;\n",
    "    \n",
    "    def calculateGuessEntropy(self):\n",
    "        probs = [guess / self.totalGuesses for guess in self.guesses];\n",
    "        # print( \"probs: \", probs );\n",
    "        \n",
    "        sums = [p * math.log(p, 2) for p in probs];\n",
    "        # print( \"sums: \", sums );\n",
    "        \n",
    "        return -sum(sums);\n",
    "    \n",
    "    def calculateLetterEntropy(self):\n",
    "        px = (1.0 / 27); # Assuming equal probability for all letters and blank space...\n",
    "        self.entropy += (px * math.log(px, 2));  #Entropy =  - SUM ( px * log_2 (px) )\n",
    "    \n",
    "    def getLength(self):\n",
    "        print( \"Sentence Length: \", self.length );\n",
    "    \n",
    "    def getTotalGuesses(self):\n",
    "        print( \"Total Guesses: \", self.totalGuesses );\n",
    "    \n",
    "    def getEntropy(self):\n",
    "        print( \"Entropy for experiment: \", str(self.entropy) );\n",
    "        print( \"We can design a code that on average takes this many bits to transmit a letter\" );\n",
    "    \n",
    "    def getGuessEntropy(self):\n",
    "        print( \"Entropy for experiment: \", str(self.calculateGuessEntropy()) );"
   ]
  },
  {
   "cell_type": "code",
   "execution_count": 4,
   "metadata": {
    "collapsed": false
   },
   "outputs": [
    {
     "name": "stdout",
     "output_type": "stream",
     "text": [
      "Guess the next letter of the text or type in exit to see the next letter\n",
      "Guess #1:  g\n",
      "Incorrect Choice. Please Try Again.\n",
      "Guess #2:  r\n",
      "Incorrect Choice. Please Try Again.\n",
      "Guess #3:  sa\n",
      "Incorrect Choice. Please Try Again.\n",
      "Guess #4:  g\n",
      "Already chose that letter\n",
      "Guess #4:  f\n",
      "Incorrect Choice. Please Try Again.\n",
      "Guess #5:  \n",
      "Incorrect Choice. Please Try Again.\n",
      "Guess #6:  i\n",
      "Incorrect Choice. Please Try Again.\n",
      "Guess #7:  o\n",
      "Incorrect Choice. Please Try Again.\n",
      "Guess #8:  n\n",
      "Incorrect Choice. Please Try Again.\n",
      "Guess #9:  m\n",
      "Incorrect Choice. Please Try Again.\n",
      "Guess #10:  a\n",
      "Incorrect Choice. Please Try Again.\n",
      "Guess #11:  q\n",
      "Incorrect Choice. Please Try Again.\n",
      "Guess #12:  w\n",
      "Incorrect Choice. Please Try Again.\n",
      "Guess #13:  e\n",
      "Incorrect Choice. Please Try Again.\n",
      "Guess #14:  r\n",
      "Already chose that letter\n",
      "Guess #14:  t\n",
      "Guesses for this letter:   14\n",
      "Total Number of Guesses:   14.0\n",
      "Letters Revealed so far:   t \n",
      "\n",
      "Guess the next letter of the text or type in exit to see the next letter\n",
      "Guess #1:  w\n",
      "Incorrect Choice. Please Try Again.\n",
      "Guess #2:  e\n",
      "Incorrect Choice. Please Try Again.\n",
      "Guess #3:  q\n",
      "Incorrect Choice. Please Try Again.\n",
      "Guess #4:  r\n",
      "Incorrect Choice. Please Try Again.\n",
      "Guess #5:  t\n",
      "Incorrect Choice. Please Try Again.\n",
      "Guess #6:  y\n",
      "Incorrect Choice. Please Try Again.\n",
      "Guess #7:  u\n",
      "Incorrect Choice. Please Try Again.\n",
      "Guess #8:  i\n",
      "Incorrect Choice. Please Try Again.\n",
      "Guess #9:  o\n",
      "Incorrect Choice. Please Try Again.\n",
      "Guess #10:  p\n",
      "Incorrect Choice. Please Try Again.\n",
      "Guess #11:  l\n",
      "Incorrect Choice. Please Try Again.\n",
      "Guess #12:  k\n",
      "Incorrect Choice. Please Try Again.\n",
      "Guess #13:  j\n",
      "Incorrect Choice. Please Try Again.\n",
      "Guess #14:  h\n",
      "Guesses for this letter:   14\n",
      "Total Number of Guesses:   28.0\n",
      "Letters Revealed so far:   th \n",
      "\n",
      "Guess the next letter of the text or type in exit to see the next letter\n",
      "Guess #1:  exit\n",
      "Guesses for this letter:   0\n",
      "Total Number of Guesses:   28.0\n",
      "Letters Revealed so far:   thi \n",
      "\n",
      "Guess the next letter of the text or type in exit to see the next letter\n",
      "Guess #1:  exit\n",
      "Guesses for this letter:   0\n",
      "Total Number of Guesses:   28.0\n",
      "Letters Revealed so far:   this \n",
      "\n",
      "Guess the next letter of the text or type in exit to see the next letter\n",
      "Guess #1:  exit\n",
      "Guesses for this letter:   0\n",
      "Total Number of Guesses:   28.0\n",
      "Letters Revealed so far:   this  \n",
      "\n",
      "Guess the next letter of the text or type in exit to see the next letter\n",
      "Guess #1:  exit\n"
     ]
    },
    {
     "ename": "KeyboardInterrupt",
     "evalue": "",
     "output_type": "error",
     "traceback": [
      "\u001b[0;31m---------------------------------------------------------------------------\u001b[0m",
      "\u001b[0;31mKeyboardInterrupt\u001b[0m                         Traceback (most recent call last)",
      "\u001b[0;32mC:\\Program Files\\Anaconda3\\lib\\site-packages\\ipykernel\\kernelbase.py\u001b[0m in \u001b[0;36m_input_request\u001b[0;34m(self, prompt, ident, parent, password)\u001b[0m\n\u001b[1;32m    718\u001b[0m             \u001b[1;32mtry\u001b[0m\u001b[1;33m:\u001b[0m\u001b[1;33m\u001b[0m\u001b[0m\n\u001b[0;32m--> 719\u001b[0;31m                 \u001b[0mident\u001b[0m\u001b[1;33m,\u001b[0m \u001b[0mreply\u001b[0m \u001b[1;33m=\u001b[0m \u001b[0mself\u001b[0m\u001b[1;33m.\u001b[0m\u001b[0msession\u001b[0m\u001b[1;33m.\u001b[0m\u001b[0mrecv\u001b[0m\u001b[1;33m(\u001b[0m\u001b[0mself\u001b[0m\u001b[1;33m.\u001b[0m\u001b[0mstdin_socket\u001b[0m\u001b[1;33m,\u001b[0m \u001b[1;36m0\u001b[0m\u001b[1;33m)\u001b[0m\u001b[1;33m\u001b[0m\u001b[0m\n\u001b[0m\u001b[1;32m    720\u001b[0m             \u001b[1;32mexcept\u001b[0m \u001b[0mException\u001b[0m\u001b[1;33m:\u001b[0m\u001b[1;33m\u001b[0m\u001b[0m\n",
      "\u001b[0;32mC:\\Program Files\\Anaconda3\\lib\\site-packages\\jupyter_client\\session.py\u001b[0m in \u001b[0;36mrecv\u001b[0;34m(self, socket, mode, content, copy)\u001b[0m\n\u001b[1;32m    738\u001b[0m         \u001b[1;32mtry\u001b[0m\u001b[1;33m:\u001b[0m\u001b[1;33m\u001b[0m\u001b[0m\n\u001b[0;32m--> 739\u001b[0;31m             \u001b[0mmsg_list\u001b[0m \u001b[1;33m=\u001b[0m \u001b[0msocket\u001b[0m\u001b[1;33m.\u001b[0m\u001b[0mrecv_multipart\u001b[0m\u001b[1;33m(\u001b[0m\u001b[0mmode\u001b[0m\u001b[1;33m,\u001b[0m \u001b[0mcopy\u001b[0m\u001b[1;33m=\u001b[0m\u001b[0mcopy\u001b[0m\u001b[1;33m)\u001b[0m\u001b[1;33m\u001b[0m\u001b[0m\n\u001b[0m\u001b[1;32m    740\u001b[0m         \u001b[1;32mexcept\u001b[0m \u001b[0mzmq\u001b[0m\u001b[1;33m.\u001b[0m\u001b[0mZMQError\u001b[0m \u001b[1;32mas\u001b[0m \u001b[0me\u001b[0m\u001b[1;33m:\u001b[0m\u001b[1;33m\u001b[0m\u001b[0m\n",
      "\u001b[0;32mC:\\Program Files\\Anaconda3\\lib\\site-packages\\zmq\\sugar\\socket.py\u001b[0m in \u001b[0;36mrecv_multipart\u001b[0;34m(self, flags, copy, track)\u001b[0m\n\u001b[1;32m    394\u001b[0m         \"\"\"\n\u001b[0;32m--> 395\u001b[0;31m         \u001b[0mparts\u001b[0m \u001b[1;33m=\u001b[0m \u001b[1;33m[\u001b[0m\u001b[0mself\u001b[0m\u001b[1;33m.\u001b[0m\u001b[0mrecv\u001b[0m\u001b[1;33m(\u001b[0m\u001b[0mflags\u001b[0m\u001b[1;33m,\u001b[0m \u001b[0mcopy\u001b[0m\u001b[1;33m=\u001b[0m\u001b[0mcopy\u001b[0m\u001b[1;33m,\u001b[0m \u001b[0mtrack\u001b[0m\u001b[1;33m=\u001b[0m\u001b[0mtrack\u001b[0m\u001b[1;33m)\u001b[0m\u001b[1;33m]\u001b[0m\u001b[1;33m\u001b[0m\u001b[0m\n\u001b[0m\u001b[1;32m    396\u001b[0m         \u001b[1;31m# have first part already, only loop while more to receive\u001b[0m\u001b[1;33m\u001b[0m\u001b[1;33m\u001b[0m\u001b[0m\n",
      "\u001b[0;32mzmq/backend/cython/socket.pyx\u001b[0m in \u001b[0;36mzmq.backend.cython.socket.Socket.recv (zmq\\backend\\cython\\socket.c:7683)\u001b[0;34m()\u001b[0m\n",
      "\u001b[0;32mzmq/backend/cython/socket.pyx\u001b[0m in \u001b[0;36mzmq.backend.cython.socket.Socket.recv (zmq\\backend\\cython\\socket.c:7460)\u001b[0;34m()\u001b[0m\n",
      "\u001b[0;32mzmq/backend/cython/socket.pyx\u001b[0m in \u001b[0;36mzmq.backend.cython.socket._recv_copy (zmq\\backend\\cython\\socket.c:2344)\u001b[0;34m()\u001b[0m\n",
      "\u001b[0;32mC:\\Program Files\\Anaconda3\\lib\\site-packages\\zmq\\backend\\cython\\checkrc.pxd\u001b[0m in \u001b[0;36mzmq.backend.cython.checkrc._check_rc (zmq\\backend\\cython\\socket.c:9621)\u001b[0;34m()\u001b[0m\n",
      "\u001b[0;31mKeyboardInterrupt\u001b[0m: ",
      "\nDuring handling of the above exception, another exception occurred:\n",
      "\u001b[0;31mKeyboardInterrupt\u001b[0m                         Traceback (most recent call last)",
      "\u001b[0;32m<ipython-input-4-b8bef12e606f>\u001b[0m in \u001b[0;36m<module>\u001b[0;34m()\u001b[0m\n\u001b[1;32m     23\u001b[0m \u001b[1;32melif\u001b[0m \u001b[1;33m(\u001b[0m\u001b[0mchoice\u001b[0m \u001b[1;33m==\u001b[0m \u001b[1;36m7\u001b[0m\u001b[1;33m)\u001b[0m\u001b[1;33m:\u001b[0m \u001b[0mtext\u001b[0m \u001b[1;33m=\u001b[0m \u001b[0msentences\u001b[0m\u001b[1;33m[\u001b[0m\u001b[1;36m7\u001b[0m\u001b[1;33m]\u001b[0m\u001b[1;33m;\u001b[0m\u001b[1;33m\u001b[0m\u001b[0m\n\u001b[1;32m     24\u001b[0m \u001b[1;33m\u001b[0m\u001b[0m\n\u001b[0;32m---> 25\u001b[0;31m \u001b[0mct\u001b[0m \u001b[1;33m=\u001b[0m \u001b[0mCorporaText\u001b[0m\u001b[1;33m(\u001b[0m\u001b[0mtext\u001b[0m\u001b[1;33m)\u001b[0m\u001b[1;33m;\u001b[0m\u001b[1;33m\u001b[0m\u001b[0m\n\u001b[0m",
      "\u001b[0;32m<ipython-input-3-471d5fd7eaa9>\u001b[0m in \u001b[0;36m__init__\u001b[0;34m(self, text)\u001b[0m\n\u001b[1;32m     10\u001b[0m         \u001b[0mself\u001b[0m\u001b[1;33m.\u001b[0m\u001b[0mguesses\u001b[0m \u001b[1;33m=\u001b[0m \u001b[1;33m[\u001b[0m\u001b[1;33m]\u001b[0m\u001b[1;33m\u001b[0m\u001b[0m\n\u001b[1;32m     11\u001b[0m         \u001b[0mself\u001b[0m\u001b[1;33m.\u001b[0m\u001b[0mentropy\u001b[0m \u001b[1;33m=\u001b[0m \u001b[1;36m0.0\u001b[0m\u001b[1;33m;\u001b[0m\u001b[1;33m\u001b[0m\u001b[0m\n\u001b[0;32m---> 12\u001b[0;31m         \u001b[0mself\u001b[0m\u001b[1;33m.\u001b[0m\u001b[0mrun\u001b[0m\u001b[1;33m(\u001b[0m\u001b[1;33m)\u001b[0m\u001b[1;33m;\u001b[0m\u001b[1;33m\u001b[0m\u001b[0m\n\u001b[0m\u001b[1;32m     13\u001b[0m \u001b[1;33m\u001b[0m\u001b[0m\n\u001b[1;32m     14\u001b[0m     \u001b[1;32mdef\u001b[0m \u001b[0mrun\u001b[0m\u001b[1;33m(\u001b[0m\u001b[0mself\u001b[0m\u001b[1;33m)\u001b[0m\u001b[1;33m:\u001b[0m\u001b[1;33m\u001b[0m\u001b[0m\n",
      "\u001b[0;32m<ipython-input-3-471d5fd7eaa9>\u001b[0m in \u001b[0;36mrun\u001b[0;34m(self)\u001b[0m\n\u001b[1;32m     15\u001b[0m         \u001b[1;32mwhile\u001b[0m \u001b[1;33m(\u001b[0m\u001b[0mself\u001b[0m\u001b[1;33m.\u001b[0m\u001b[0mpointer\u001b[0m \u001b[1;33m<\u001b[0m \u001b[0mself\u001b[0m\u001b[1;33m.\u001b[0m\u001b[0mlength\u001b[0m\u001b[1;33m)\u001b[0m\u001b[1;33m:\u001b[0m\u001b[1;33m\u001b[0m\u001b[0m\n\u001b[1;32m     16\u001b[0m             \u001b[0mprint\u001b[0m\u001b[1;33m(\u001b[0m \u001b[1;34m\"Guess the next letter of the text or type in exit to see the next letter\"\u001b[0m \u001b[1;33m)\u001b[0m\u001b[1;33m;\u001b[0m\u001b[1;33m\u001b[0m\u001b[0m\n\u001b[0;32m---> 17\u001b[0;31m             \u001b[0mself\u001b[0m\u001b[1;33m.\u001b[0m\u001b[0mtestNextSymbol\u001b[0m\u001b[1;33m(\u001b[0m\u001b[1;33m)\u001b[0m\u001b[1;33m;\u001b[0m\u001b[1;33m\u001b[0m\u001b[0m\n\u001b[0m\u001b[1;32m     18\u001b[0m         \u001b[1;32mif\u001b[0m \u001b[1;33m(\u001b[0m\u001b[0mself\u001b[0m\u001b[1;33m.\u001b[0m\u001b[0mentropy\u001b[0m \u001b[1;33m<\u001b[0m \u001b[1;36m0\u001b[0m\u001b[1;33m)\u001b[0m\u001b[1;33m:\u001b[0m  \u001b[0mself\u001b[0m\u001b[1;33m.\u001b[0m\u001b[0mentropy\u001b[0m \u001b[1;33m=\u001b[0m \u001b[1;33m-\u001b[0m\u001b[0mself\u001b[0m\u001b[1;33m.\u001b[0m\u001b[0mentropy\u001b[0m\u001b[1;33m;\u001b[0m\u001b[1;33m\u001b[0m\u001b[0m\n\u001b[1;32m     19\u001b[0m         \u001b[0mself\u001b[0m\u001b[1;33m.\u001b[0m\u001b[0mgetLength\u001b[0m\u001b[1;33m(\u001b[0m\u001b[1;33m)\u001b[0m\u001b[1;33m;\u001b[0m\u001b[1;33m\u001b[0m\u001b[0m\n",
      "\u001b[0;32m<ipython-input-3-471d5fd7eaa9>\u001b[0m in \u001b[0;36mtestNextSymbol\u001b[0;34m(self)\u001b[0m\n\u001b[1;32m     28\u001b[0m         \u001b[1;32mwhile\u001b[0m\u001b[1;33m(\u001b[0m\u001b[1;32mnot\u001b[0m \u001b[0mcorrect\u001b[0m\u001b[1;33m)\u001b[0m\u001b[1;33m:\u001b[0m\u001b[1;33m\u001b[0m\u001b[0m\n\u001b[1;32m     29\u001b[0m             \u001b[0mguess_num\u001b[0m \u001b[1;33m=\u001b[0m \u001b[1;34m'Guess #'\u001b[0m \u001b[1;33m+\u001b[0m \u001b[0mstr\u001b[0m\u001b[1;33m(\u001b[0m\u001b[0mguess\u001b[0m \u001b[1;33m+\u001b[0m \u001b[1;36m1\u001b[0m\u001b[1;33m)\u001b[0m \u001b[1;33m+\u001b[0m \u001b[1;34m':  '\u001b[0m\u001b[1;33m\u001b[0m\u001b[0m\n\u001b[0;32m---> 30\u001b[0;31m             \u001b[0mx\u001b[0m \u001b[1;33m=\u001b[0m \u001b[0minput\u001b[0m\u001b[1;33m(\u001b[0m \u001b[0mguess_num\u001b[0m \u001b[1;33m)\u001b[0m\u001b[1;33m;\u001b[0m\u001b[1;33m\u001b[0m\u001b[0m\n\u001b[0m\u001b[1;32m     31\u001b[0m             \u001b[1;32mif\u001b[0m \u001b[1;33m(\u001b[0m\u001b[0mx\u001b[0m \u001b[1;33m==\u001b[0m \u001b[1;34m\"exit\"\u001b[0m\u001b[1;33m)\u001b[0m\u001b[1;33m:\u001b[0m\u001b[1;33m\u001b[0m\u001b[0m\n\u001b[1;32m     32\u001b[0m                 \u001b[1;32mbreak\u001b[0m\u001b[1;33m;\u001b[0m\u001b[1;33m\u001b[0m\u001b[0m\n",
      "\u001b[0;32mC:\\Program Files\\Anaconda3\\lib\\site-packages\\ipykernel\\kernelbase.py\u001b[0m in \u001b[0;36mraw_input\u001b[0;34m(self, prompt)\u001b[0m\n\u001b[1;32m    692\u001b[0m             \u001b[0mself\u001b[0m\u001b[1;33m.\u001b[0m\u001b[0m_parent_ident\u001b[0m\u001b[1;33m,\u001b[0m\u001b[1;33m\u001b[0m\u001b[0m\n\u001b[1;32m    693\u001b[0m             \u001b[0mself\u001b[0m\u001b[1;33m.\u001b[0m\u001b[0m_parent_header\u001b[0m\u001b[1;33m,\u001b[0m\u001b[1;33m\u001b[0m\u001b[0m\n\u001b[0;32m--> 694\u001b[0;31m             \u001b[0mpassword\u001b[0m\u001b[1;33m=\u001b[0m\u001b[1;32mFalse\u001b[0m\u001b[1;33m,\u001b[0m\u001b[1;33m\u001b[0m\u001b[0m\n\u001b[0m\u001b[1;32m    695\u001b[0m         )\n\u001b[1;32m    696\u001b[0m \u001b[1;33m\u001b[0m\u001b[0m\n",
      "\u001b[0;32mC:\\Program Files\\Anaconda3\\lib\\site-packages\\ipykernel\\kernelbase.py\u001b[0m in \u001b[0;36m_input_request\u001b[0;34m(self, prompt, ident, parent, password)\u001b[0m\n\u001b[1;32m    722\u001b[0m             \u001b[1;32mexcept\u001b[0m \u001b[0mKeyboardInterrupt\u001b[0m\u001b[1;33m:\u001b[0m\u001b[1;33m\u001b[0m\u001b[0m\n\u001b[1;32m    723\u001b[0m                 \u001b[1;31m# re-raise KeyboardInterrupt, to truncate traceback\u001b[0m\u001b[1;33m\u001b[0m\u001b[1;33m\u001b[0m\u001b[0m\n\u001b[0;32m--> 724\u001b[0;31m                 \u001b[1;32mraise\u001b[0m \u001b[0mKeyboardInterrupt\u001b[0m\u001b[1;33m\u001b[0m\u001b[0m\n\u001b[0m\u001b[1;32m    725\u001b[0m             \u001b[1;32melse\u001b[0m\u001b[1;33m:\u001b[0m\u001b[1;33m\u001b[0m\u001b[0m\n\u001b[1;32m    726\u001b[0m                 \u001b[1;32mbreak\u001b[0m\u001b[1;33m\u001b[0m\u001b[0m\n",
      "\u001b[0;31mKeyboardInterrupt\u001b[0m: "
     ]
    }
   ],
   "source": [
    "import random;\n",
    "#from ShannonCorporaText import CorporaText;\n",
    "\n",
    "sentences = [\"this is our first sentence\",\n",
    "             \"the balls are inert\",\n",
    "             \"show no mercy\",\n",
    "             \"over nine thousand\",\n",
    "             \"rolfmao\",\n",
    "             \"thank you very much\",\n",
    "             \"never gonna give you up\",\n",
    "             \"never gonna let you down\"\n",
    "             ];\n",
    "\n",
    "choice = random.randint(0, 7);\n",
    "\n",
    "if (choice == 0): text = sentences[0];\n",
    "elif (choice == 1): text = sentences[1];\n",
    "elif (choice == 2): text = sentences[2];\n",
    "elif (choice == 3): text = sentences[3];\n",
    "elif (choice == 4): text = sentences[4];\n",
    "elif (choice == 5): text = sentences[5];\n",
    "elif (choice == 6): text = sentences[6];\n",
    "elif (choice == 7): text = sentences[7];\n",
    "\n",
    "ct = CorporaText(text);"
   ]
  },
  {
   "cell_type": "markdown",
   "metadata": {},
   "source": [
    "## Entropy"
   ]
  },
  {
   "cell_type": "code",
   "execution_count": 5,
   "metadata": {
    "collapsed": true
   },
   "outputs": [],
   "source": [
    "import nltk\n",
    "from nltk.corpus import brown"
   ]
  },
  {
   "cell_type": "code",
   "execution_count": 10,
   "metadata": {
    "collapsed": true
   },
   "outputs": [],
   "source": [
    "def entroy(labels):\n",
    "    fd = nltk.FreqDist(labels)\n",
    "    probs = [ fd.freq(lbl) for lbl in fd]\n",
    "    return -sum([p * math.log(p,2) for p in probs])"
   ]
  },
  {
   "cell_type": "code",
   "execution_count": 11,
   "metadata": {
    "collapsed": false
   },
   "outputs": [
    {
     "name": "stdout",
     "output_type": "stream",
     "text": [
      "-0.0\n"
     ]
    }
   ],
   "source": [
    "print (entroy (['male','male','male','male']))"
   ]
  },
  {
   "cell_type": "code",
   "execution_count": 12,
   "metadata": {
    "collapsed": false
   },
   "outputs": [
    {
     "name": "stdout",
     "output_type": "stream",
     "text": [
      "0.8112781244591328\n"
     ]
    }
   ],
   "source": [
    "print (entroy (['male','female','male','male']))"
   ]
  },
  {
   "cell_type": "code",
   "execution_count": 13,
   "metadata": {
    "collapsed": false
   },
   "outputs": [
    {
     "name": "stdout",
     "output_type": "stream",
     "text": [
      "9.317876429461478\n"
     ]
    }
   ],
   "source": [
    "print (entroy(brown.words(categories='humor')))"
   ]
  },
  {
   "cell_type": "code",
   "execution_count": null,
   "metadata": {
    "collapsed": true
   },
   "outputs": [],
   "source": []
  }
 ],
 "metadata": {
  "kernelspec": {
   "display_name": "Python 3",
   "language": "python",
   "name": "python3"
  },
  "language_info": {
   "codemirror_mode": {
    "name": "ipython",
    "version": 3
   },
   "file_extension": ".py",
   "mimetype": "text/x-python",
   "name": "python",
   "nbconvert_exporter": "python",
   "pygments_lexer": "ipython3",
   "version": "3.6.0"
  }
 },
 "nbformat": 4,
 "nbformat_minor": 2
}
