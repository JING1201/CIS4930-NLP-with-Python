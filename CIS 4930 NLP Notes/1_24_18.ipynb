{
 "cells": [
  {
   "cell_type": "code",
   "execution_count": 10,
   "metadata": {
    "collapsed": false
   },
   "outputs": [],
   "source": [
    "import nltk\n",
    "from nltk.book import *"
   ]
  },
  {
   "cell_type": "code",
   "execution_count": 11,
   "metadata": {
    "collapsed": true
   },
   "outputs": [],
   "source": [
    "grams = nltk.bigrams(text1)"
   ]
  },
  {
   "cell_type": "code",
   "execution_count": 12,
   "metadata": {
    "collapsed": true
   },
   "outputs": [],
   "source": [
    "cfd = nltk.ConditionalFreqDist(grams)"
   ]
  },
  {
   "cell_type": "code",
   "execution_count": 13,
   "metadata": {
    "collapsed": false
   },
   "outputs": [
    {
     "data": {
      "text/plain": [
       "19317"
      ]
     },
     "execution_count": 13,
     "metadata": {},
     "output_type": "execute_result"
    }
   ],
   "source": [
    "len(cfd.conditions())"
   ]
  },
  {
   "cell_type": "code",
   "execution_count": 14,
   "metadata": {
    "collapsed": false
   },
   "outputs": [
    {
     "data": {
      "text/plain": [
       "FreqDist({'and': 1,\n",
       "          'bulk': 1,\n",
       "          'cabinet': 1,\n",
       "          'cannibal': 1,\n",
       "          'clubs': 1,\n",
       "          'fable': 1,\n",
       "          'pictures': 1,\n",
       "          'size': 2,\n",
       "          'stories': 1})"
      ]
     },
     "execution_count": 14,
     "metadata": {},
     "output_type": "execute_result"
    }
   ],
   "source": [
    "cfd['monstrous']"
   ]
  },
  {
   "cell_type": "code",
   "execution_count": 15,
   "metadata": {
    "collapsed": false
   },
   "outputs": [
    {
     "name": "stdout",
     "output_type": "stream",
     "text": [
      "Displaying 11 of 11 matches:\n",
      "ong the former , one was of a most monstrous size . ... This came towards us , \n",
      "ON OF THE PSALMS . \" Touching that monstrous bulk of the whale or ork we have r\n",
      "ll over with a heathenish array of monstrous clubs and spears . Some were thick\n",
      "d as you gazed , and wondered what monstrous cannibal and savage could ever hav\n",
      "that has survived the flood ; most monstrous and most mountainous ! That Himmal\n",
      "they might scout at Moby Dick as a monstrous fable , or still worse and more de\n",
      "th of Radney .'\" CHAPTER 55 Of the Monstrous Pictures of Whales . I shall ere l\n",
      "ing Scenes . In connexion with the monstrous pictures of whales , I am strongly\n",
      "ere to enter upon those still more monstrous stories of them which are to be fo\n",
      "ght have been rummaged out of this monstrous cabinet there is no telling . But \n",
      "of Whale - Bones ; for Whales of a monstrous size are oftentimes cast up dead u\n"
     ]
    }
   ],
   "source": [
    "text1.concordance('monstrous')"
   ]
  },
  {
   "cell_type": "code",
   "execution_count": 16,
   "metadata": {
    "collapsed": false
   },
   "outputs": [
    {
     "name": "stdout",
     "output_type": "stream",
     "text": [
      "Displaying 11 of 11 matches:\n",
      "ong the former , one was of a most monstrous size . ... This came towards us , \n",
      "ON OF THE PSALMS . \" Touching that monstrous bulk of the whale or ork we have r\n",
      "ll over with a heathenish array of monstrous clubs and spears . Some were thick\n",
      "d as you gazed , and wondered what monstrous cannibal and savage could ever hav\n",
      "that has survived the flood ; most monstrous and most mountainous ! That Himmal\n",
      "they might scout at Moby Dick as a monstrous fable , or still worse and more de\n",
      "th of Radney .'\" CHAPTER 55 Of the Monstrous Pictures of Whales . I shall ere l\n",
      "ing Scenes . In connexion with the monstrous pictures of whales , I am strongly\n",
      "ere to enter upon those still more monstrous stories of them which are to be fo\n",
      "ght have been rummaged out of this monstrous cabinet there is no telling . But \n",
      "of Whale - Bones ; for Whales of a monstrous size are oftentimes cast up dead u\n"
     ]
    }
   ],
   "source": [
    "text1.concordance('Monstrous')"
   ]
  },
  {
   "cell_type": "code",
   "execution_count": 17,
   "metadata": {
    "collapsed": false
   },
   "outputs": [
    {
     "data": {
      "text/plain": [
       "2"
      ]
     },
     "execution_count": 17,
     "metadata": {},
     "output_type": "execute_result"
    }
   ],
   "source": [
    "cfd['monstrous']['size']"
   ]
  },
  {
   "cell_type": "code",
   "execution_count": 18,
   "metadata": {
    "collapsed": true
   },
   "outputs": [],
   "source": [
    "conds = cfd.conditions()"
   ]
  },
  {
   "cell_type": "code",
   "execution_count": 19,
   "metadata": {
    "collapsed": false
   },
   "outputs": [
    {
     "data": {
      "text/plain": [
       "['[',\n",
       " 'Moby',\n",
       " 'Dick',\n",
       " 'by',\n",
       " 'Herman',\n",
       " 'Melville',\n",
       " '1851',\n",
       " ']',\n",
       " 'ETYMOLOGY',\n",
       " '.']"
      ]
     },
     "execution_count": 19,
     "metadata": {},
     "output_type": "execute_result"
    }
   ],
   "source": [
    "conds[:10]"
   ]
  },
  {
   "cell_type": "markdown",
   "metadata": {},
   "source": []
  },
  {
   "cell_type": "code",
   "execution_count": null,
   "metadata": {
    "collapsed": true
   },
   "outputs": [],
   "source": []
  },
  {
   "cell_type": "code",
   "execution_count": null,
   "metadata": {
    "collapsed": true
   },
   "outputs": [],
   "source": []
  },
  {
   "cell_type": "code",
   "execution_count": null,
   "metadata": {
    "collapsed": true
   },
   "outputs": [],
   "source": []
  },
  {
   "cell_type": "code",
   "execution_count": 20,
   "metadata": {
    "collapsed": true
   },
   "outputs": [],
   "source": [
    "def model(cfdist, word, num):\n",
    "    for i in range(num):\n",
    "        print(word)\n",
    "        word = cfdist[word].max()\n",
    "        "
   ]
  },
  {
   "cell_type": "code",
   "execution_count": 22,
   "metadata": {
    "collapsed": false
   },
   "outputs": [
    {
     "name": "stdout",
     "output_type": "stream",
     "text": [
      "the\n",
      "whale\n",
      ",\n",
      "and\n",
      "the\n"
     ]
    }
   ],
   "source": [
    "model(cfd, 'the', 5)"
   ]
  },
  {
   "cell_type": "code",
   "execution_count": 23,
   "metadata": {
    "collapsed": false
   },
   "outputs": [
    {
     "data": {
      "text/plain": [
       "FreqDist({'gay': 5,\n",
       "          'known': 4,\n",
       "          'world': 86,\n",
       "          'letter': 5,\n",
       "          'signification': 1,\n",
       "          'word': 26,\n",
       "          'Dut': 1,\n",
       "          'long': 50,\n",
       "          'earth': 12,\n",
       "          'higgledy': 1,\n",
       "          'ancient': 6,\n",
       "          'poets': 1,\n",
       "          'more': 46,\n",
       "          'Tuileries': 3,\n",
       "          'royal': 6,\n",
       "          'seven': 5,\n",
       "          'deep': 28,\n",
       "          'Lord': 18,\n",
       "          'ships': 10,\n",
       "          'piercing': 1,\n",
       "          'dragon': 1,\n",
       "          'sea': 223,\n",
       "          'chaos': 1,\n",
       "          'bottomless': 5,\n",
       "          'most': 110,\n",
       "          'biggest': 1,\n",
       "          'Whales': 2,\n",
       "          'former': 6,\n",
       "          'waves': 21,\n",
       "          'king': 7,\n",
       "          'other': 135,\n",
       "          'dreadful': 1,\n",
       "          'noble': 8,\n",
       "          'life': 14,\n",
       "          'seas': 21,\n",
       "          'whale': 369,\n",
       "          'wounded': 3,\n",
       "          'maine': 1,\n",
       "          'motion': 3,\n",
       "          'ocean': 26,\n",
       "          'learned': 4,\n",
       "          'mouth': 12,\n",
       "          'fry': 1,\n",
       "          'way': 32,\n",
       "          'stern': 23,\n",
       "          'ship': 235,\n",
       "          'shore': 6,\n",
       "          'water': 73,\n",
       "          'Elbe': 1,\n",
       "          '-': 3,\n",
       "          'masts': 5,\n",
       "          'first': 106,\n",
       "          'garden': 3,\n",
       "          'northward': 3,\n",
       "          'breath': 3,\n",
       "          'brain': 7,\n",
       "          'important': 2,\n",
       "          'petticoat': 1,\n",
       "          'comparison': 1,\n",
       "          'largest': 15,\n",
       "          'afternoon': 6,\n",
       "          'same': 159,\n",
       "          'Nantuckois': 1,\n",
       "          'fishermen': 15,\n",
       "          'shores': 1,\n",
       "          'consideration': 3,\n",
       "          'right': 13,\n",
       "          'coast': 9,\n",
       "          'property': 2,\n",
       "          'sport': 1,\n",
       "          'crews': 4,\n",
       "          'roofs': 1,\n",
       "          'domes': 1,\n",
       "          'spires': 3,\n",
       "          'vault': 2,\n",
       "          'heart': 19,\n",
       "          'bore': 1,\n",
       "          'main': 36,\n",
       "          'blood': 10,\n",
       "          'free': 2,\n",
       "          'finny': 2,\n",
       "          'vast': 17,\n",
       "          'Polar': 5,\n",
       "          'year': 13,\n",
       "          'whales': 38,\n",
       "          'form': 2,\n",
       "          'Pacific': 20,\n",
       "          'Berlin': 1,\n",
       "          'stage': 2,\n",
       "          'matter': 29,\n",
       "          'shrouds': 4,\n",
       "          'moonlight': 3,\n",
       "          'phospher': 1,\n",
       "          'wake': 4,\n",
       "          'boats': 47,\n",
       "          'capture': 4,\n",
       "          'air': 61,\n",
       "          'distance': 13,\n",
       "          'agonies': 1,\n",
       "          'infuriated': 1,\n",
       "          'habits': 2,\n",
       "          'Sperm': 82,\n",
       "          'numerous': 4,\n",
       "          'True': 3,\n",
       "          'mast': 40,\n",
       "          'captain': 55,\n",
       "          'lee': 10,\n",
       "          'horrid': 2,\n",
       "          'island': 8,\n",
       "          'assault': 3,\n",
       "          'furious': 1,\n",
       "          'boat': 118,\n",
       "          'onset': 3,\n",
       "          'National': 3,\n",
       "          'boldest': 1,\n",
       "          'least': 16,\n",
       "          'Dutch': 6,\n",
       "          'Northern': 4,\n",
       "          'haunts': 2,\n",
       "          'ball': 3,\n",
       "          'whalemen': 9,\n",
       "          'wide': 11,\n",
       "          'vicinity': 7,\n",
       "          'ribs': 2,\n",
       "          'pursuit': 4,\n",
       "          'whites': 1,\n",
       "          'savages': 3,\n",
       "          'crew': 45,\n",
       "          'while': 11,\n",
       "          'mere': 15,\n",
       "          'root': 2,\n",
       "          'beech': 2,\n",
       "          'mate': 32,\n",
       "          'distended': 1,\n",
       "          'head': 57,\n",
       "          'bold': 4,\n",
       "          'rare': 4,\n",
       "          'boundless': 1,\n",
       "          'watery': 13,\n",
       "          'spleen': 1,\n",
       "          'circulation': 1,\n",
       "          'rear': 10,\n",
       "          'street': 4,\n",
       "          'Manhattoes': 1,\n",
       "          'streets': 9,\n",
       "          'battery': 1,\n",
       "          'crowds': 2,\n",
       "          'city': 2,\n",
       "          'town': 4,\n",
       "          'spiles': 1,\n",
       "          'pier': 1,\n",
       "          'bulwarks': 30,\n",
       "          'rigging': 17,\n",
       "          'green': 15,\n",
       "          'extremest': 2,\n",
       "          'land': 20,\n",
       "          'shady': 1,\n",
       "          'magnetic': 1,\n",
       "          'needles': 4,\n",
       "          'compasses': 4,\n",
       "          'country': 2,\n",
       "          'stream': 2,\n",
       "          'great': 102,\n",
       "          'dreamiest': 1,\n",
       "          'valley': 1,\n",
       "          'Saco': 1,\n",
       "          'chief': 13,\n",
       "          'picture': 6,\n",
       "          'shepherd': 1,\n",
       "          'magic': 3,\n",
       "          'Prairies': 2,\n",
       "          'one': 33,\n",
       "          'poor': 17,\n",
       "          'old': 88,\n",
       "          'Greeks': 1,\n",
       "          'meaning': 2,\n",
       "          'tormenting': 1,\n",
       "          'fountain': 2,\n",
       "          'image': 3,\n",
       "          'ungraspable': 1,\n",
       "          'key': 8,\n",
       "          'habit': 1,\n",
       "          'eyes': 7,\n",
       "          'glory': 4,\n",
       "          'idolatrous': 1,\n",
       "          'mummies': 1,\n",
       "          'pyramids': 1,\n",
       "          'forecastle': 27,\n",
       "          'Van': 1,\n",
       "          'tar': 1,\n",
       "          'tallest': 1,\n",
       "          'Stoics': 1,\n",
       "          'decks': 8,\n",
       "          'scales': 1,\n",
       "          'New': 5,\n",
       "          'archangel': 6,\n",
       "          'less': 7,\n",
       "          'satisfaction': 1,\n",
       "          'universal': 4,\n",
       "          'contrary': 11,\n",
       "          'difference': 2,\n",
       "          'two': 56,\n",
       "          'wholesome': 1,\n",
       "          'fore': 10,\n",
       "          'Pythagorean': 1,\n",
       "          'Commodore': 5,\n",
       "          'quarter': 20,\n",
       "          'sailors': 18,\n",
       "          'commonalty': 1,\n",
       "          'leaders': 1,\n",
       "          'invisible': 3,\n",
       "          'Fates': 5,\n",
       "          'constant': 2,\n",
       "          'grand': 14,\n",
       "          'bill': 3,\n",
       "          'circumstances': 3,\n",
       "          'springs': 1,\n",
       "          'part': 6,\n",
       "          'delusion': 1,\n",
       "          'overwhelming': 1,\n",
       "          'wild': 13,\n",
       "          'undeliverable': 1,\n",
       "          'attending': 2,\n",
       "          'inmates': 2,\n",
       "          'place': 18,\n",
       "          'whaling': 9,\n",
       "          'wonder': 4,\n",
       "          'good': 8,\n",
       "          'little': 18,\n",
       "          'following': 10,\n",
       "          'pains': 1,\n",
       "          'business': 14,\n",
       "          'Tyre': 1,\n",
       "          'Red': 2,\n",
       "          'Leviathan': 14,\n",
       "          'story': 9,\n",
       "          'bowsprit': 5,\n",
       "          'middle': 25,\n",
       "          'gloom': 4,\n",
       "          'north': 3,\n",
       "          'darkness': 5,\n",
       "          'south': 2,\n",
       "          'night': 27,\n",
       "          'price': 1,\n",
       "          'sign': 7,\n",
       "          'bright': 7,\n",
       "          '\"': 13,\n",
       "          'packed': 1,\n",
       "          'house': 8,\n",
       "          'congealed': 1,\n",
       "          'flinty': 1,\n",
       "          'soles': 1,\n",
       "          'broad': 8,\n",
       "          'sounds': 3,\n",
       "          'tinkling': 1,\n",
       "          'door': 26,\n",
       "          'cheapest': 1,\n",
       "          'cheeriest': 1,\n",
       "          'last': 67,\n",
       "          'week': 1,\n",
       "          'uses': 1,\n",
       "          'public': 3,\n",
       "          'porch': 2,\n",
       "          'flying': 9,\n",
       "          'preacher': 4,\n",
       "          'blackness': 4,\n",
       "          'weeping': 2,\n",
       "          'docks': 3,\n",
       "          'light': 16,\n",
       "          'time': 76,\n",
       "          'dilapidated': 1,\n",
       "          'ruins': 1,\n",
       "          'swinging': 1,\n",
       "          'very': 58,\n",
       "          'best': 31,\n",
       "          'hob': 1,\n",
       "          'only': 29,\n",
       "          'frost': 2,\n",
       "          'outside': 2,\n",
       "          'wight': 1,\n",
       "          'chinks': 1,\n",
       "          'crannies': 1,\n",
       "          'copestone': 2,\n",
       "          'chips': 2,\n",
       "          'curbstone': 2,\n",
       "          'tempestuous': 1,\n",
       "          'privilege': 6,\n",
       "          'line': 42,\n",
       "          'equator': 3,\n",
       "          'fiery': 7,\n",
       "          'Moluccas': 1,\n",
       "          'tepid': 1,\n",
       "          'ice': 1,\n",
       "          'unequal': 1,\n",
       "          'neighbors': 1,\n",
       "          'back': 8,\n",
       "          'entry': 5,\n",
       "          'conclusion': 3,\n",
       "          'centre': 6,\n",
       "          'Black': 3,\n",
       "          'unnatural': 3,\n",
       "          'four': 7,\n",
       "          'breaking': 1,\n",
       "          'icebound': 1,\n",
       "          'rest': 33,\n",
       "          'artist': 1,\n",
       "          'aggregated': 1,\n",
       "          'subject': 6,\n",
       "          'half': 10,\n",
       "          'craft': 10,\n",
       "          'enormous': 10,\n",
       "          'three': 47,\n",
       "          'segment': 1,\n",
       "          'new': 8,\n",
       "          'Cape': 13,\n",
       "          'tail': 20,\n",
       "          'body': 31,\n",
       "          'hump': 1,\n",
       "          'further': 4,\n",
       "          'room': 20,\n",
       "          'bar': 7,\n",
       "          'tumblers': 1,\n",
       "          'villanous': 1,\n",
       "          'glass': 2,\n",
       "          'full': 19,\n",
       "          'landlord': 14,\n",
       "          'harpooneer': 20,\n",
       "          'Battery': 1,\n",
       "          'space': 2,\n",
       "          'fare': 2,\n",
       "          'nightmare': 1,\n",
       "          'answer': 1,\n",
       "          'company': 8,\n",
       "          'evening': 5,\n",
       "          'Grampus': 1,\n",
       "          'offing': 1,\n",
       "          'latest': 2,\n",
       "          'Feegees': 1,\n",
       "          'wrinkled': 5,\n",
       "          'weather': 10,\n",
       "          'arrantest': 1,\n",
       "          'hilarity': 1,\n",
       "          'whole': 71,\n",
       "          'contrast': 2,\n",
       "          'Alleghanian': 1,\n",
       "          'revelry': 1,\n",
       "          'entrance': 1,\n",
       "          'seamen': 21,\n",
       "          'thought': 9,\n",
       "          'case': 31,\n",
       "          'tidiest': 1,\n",
       "          'finest': 3,\n",
       "          'bench': 3,\n",
       "          'knots': 1,\n",
       "          'plane': 2,\n",
       "          'bed': 18,\n",
       "          'planing': 1,\n",
       "          'shavings': 3,\n",
       "          'measure': 2,\n",
       "          'planed': 1,\n",
       "          'wall': 14,\n",
       "          'sill': 1,\n",
       "          'window': 8,\n",
       "          'rickety': 1,\n",
       "          'immediate': 2,\n",
       "          'spot': 4,\n",
       "          'next': 24,\n",
       "          'bird': 6,\n",
       "          'worm': 2,\n",
       "          'market': 2,\n",
       "          'man': 30,\n",
       "          'highest': 5,\n",
       "          'airth': 1,\n",
       "          'otherwise': 4,\n",
       "          'holy': 4,\n",
       "          'heads': 8,\n",
       "          'rejoinder': 1,\n",
       "          'foot': 8,\n",
       "          'floor': 10,\n",
       "          'corner': 3,\n",
       "          'candle': 2,\n",
       "          'counterpane': 3,\n",
       "          'scrutiny': 1,\n",
       "          'bedstead': 1,\n",
       "          'shelf': 1,\n",
       "          'fire': 16,\n",
       "          'chest': 1,\n",
       "          'edges': 1,\n",
       "          'stained': 1,\n",
       "          'neck': 4,\n",
       "          'side': 43,\n",
       "          'care': 1,\n",
       "          'passage': 8,\n",
       "          'infernal': 3,\n",
       "          'stranger': 32,\n",
       "          'knotted': 2,\n",
       "          'large': 3,\n",
       "          'bag': 3,\n",
       "          'surgeon': 3,\n",
       "          'truth': 8,\n",
       "          'cannibals': 2,\n",
       "          'course': 12,\n",
       "          'squares': 1,\n",
       "          'South': 7,\n",
       "          'sun': 47,\n",
       "          'skin': 12,\n",
       "          'hair': 2,\n",
       "          'second': 26,\n",
       "          'parent': 1,\n",
       "          'devil': 28,\n",
       "          'dead': 25,\n",
       "          'trunks': 1,\n",
       "          'savage': 13,\n",
       "          'pockets': 1,\n",
       "          'colour': 1,\n",
       "          'embalmed': 2,\n",
       "          'empty': 3,\n",
       "          'papered': 1,\n",
       "          'andirons': 1,\n",
       "          'bricks': 1,\n",
       "          'idol': 4,\n",
       "          'flame': 5,\n",
       "          'lamp': 5,\n",
       "          'biscuit': 1,\n",
       "          'heat': 3,\n",
       "          'devotee': 1,\n",
       "          'spell': 4,\n",
       "          'interval': 4,\n",
       "          'table': 11,\n",
       "          'handle': 2,\n",
       "          'lighted': 1,\n",
       "          'dark': 13,\n",
       "          'cannibal': 3,\n",
       "          'tomahawk': 3,\n",
       "          'hot': 2,\n",
       "          'clothes': 2,\n",
       "          'arm': 8,\n",
       "          'quilt': 1,\n",
       "          'sense': 2,\n",
       "          'chimney': 4,\n",
       "          'legs': 2,\n",
       "          '21st': 1,\n",
       "          'longest': 2,\n",
       "          'third': 13,\n",
       "          'sheets': 5,\n",
       "          'small': 9,\n",
       "          'sound': 9,\n",
       "          'greatest': 9,\n",
       "          'before': 7,\n",
       "          'nameless': 4,\n",
       "          'hand': 9,\n",
       "          'morning': 15,\n",
       "          'mystery': 4,\n",
       "          'awful': 5,\n",
       "          'supernatural': 1,\n",
       "          'past': 5,\n",
       "          'comical': 2,\n",
       "          'name': 17,\n",
       "          'unbecomingness': 1,\n",
       "          'character': 2,\n",
       "          'fact': 13,\n",
       "          'better': 10,\n",
       "          'by': 1,\n",
       "          'heavens': 3,\n",
       "          'transition': 2,\n",
       "          'strangest': 2,\n",
       "          'indecorous': 1,\n",
       "          'wash': 1,\n",
       "          'harpoon': 16,\n",
       "          'bit': 1,\n",
       "          'grinning': 1,\n",
       "          'pity': 1,\n",
       "          'boarders': 2,\n",
       "          'complexion': 1,\n",
       "          'Andes': 4,\n",
       "          'Scotch': 1,\n",
       "          'parlor': 2,\n",
       "          'taking': 1,\n",
       "          'negro': 5,\n",
       "          'sum': 4,\n",
       "          'circumstance': 11,\n",
       "          'slightest': 20,\n",
       "          'high': 12,\n",
       "          'Green': 2,\n",
       "          'imminent': 3,\n",
       "          'beefsteaks': 1,\n",
       "          'polite': 2,\n",
       "          'queerest': 3,\n",
       "          'affrighted': 1,\n",
       "          'Apollo': 1,\n",
       "          'natives': 1,\n",
       "          'Feegeeans': 1,\n",
       "          'fishery': 28,\n",
       "          'axe': 4,\n",
       "          'dog': 3,\n",
       "          'seaport': 1,\n",
       "          'throat': 1,\n",
       "          'tempest': 3,\n",
       "          'dearest': 1,\n",
       "          'spring': 4,\n",
       "          'iron': 14,\n",
       "          'Atlantic': 9,\n",
       "          'bottom': 32,\n",
       "          'beautiful': 1,\n",
       "          'passer': 1,\n",
       "          'barren': 1,\n",
       "          'women': 2,\n",
       "          'fine': 4,\n",
       "          'seventh': 2,\n",
       "          'young': 10,\n",
       "          'odorous': 2,\n",
       "          'Puritanic': 1,\n",
       "          'moody': 4,\n",
       "          'Indian': 21,\n",
       "          'cloth': 1,\n",
       "          'stubborn': 1,\n",
       "          'shrieks': 2,\n",
       "          'storm': 13,\n",
       "          'pulpit': 11,\n",
       "          'age': 4,\n",
       "          'Isle': 3,\n",
       "          'Off': 1,\n",
       "          'PACIFIC': 1,\n",
       "          'bows': 28,\n",
       "          'sleet': 1,\n",
       "          'solemnity': 1,\n",
       "          'scene': 11,\n",
       "          'relatives': 1,\n",
       "          'congregation': 3,\n",
       "          'unrecorded': 1,\n",
       "          'countenance': 3,\n",
       "          'trappings': 1,\n",
       "          'sight': 14,\n",
       "          'desolation': 2,\n",
       "          'lines': 10,\n",
       "          'beings': 1,\n",
       "          'cave': 1,\n",
       "          'Goodwin': 1,\n",
       "          'remotest': 8,\n",
       "          'Life': 1,\n",
       "          'living': 22,\n",
       "          'rumor': 1,\n",
       "          'tombs': 1,\n",
       "          'eve': 1,\n",
       "          'murky': 1,\n",
       "          'fate': 2,\n",
       "          'thinnest': 2,\n",
       "          'lees': 2,\n",
       "          'chaplain': 2,\n",
       "          'famous': 9,\n",
       "          'ministry': 1,\n",
       "          'hardy': 3,\n",
       "          'fissures': 1,\n",
       "          'utmost': 8,\n",
       "          'weight': 5,\n",
       "          'already': 2,\n",
       "          'chapel': 2,\n",
       "          'architect': 2,\n",
       "          'hint': 3,\n",
       "          'ladder': 4,\n",
       "          'ornamental': 1,\n",
       "          'steps': 1,\n",
       "          'rounds': 2,\n",
       "          'present': 43,\n",
       "          'height': 5,\n",
       "          'reason': 11,\n",
       "          'meat': 2,\n",
       "          'faithful': 1,\n",
       "          'walls': 4,\n",
       "          'marble': 6,\n",
       "          'Victory': 1,\n",
       "          'angel': 1,\n",
       "          'clouds': 4,\n",
       "          'likeness': 3,\n",
       "          'Holy': 5,\n",
       "          'bow': 12,\n",
       "          'earliest': 3,\n",
       "          'God': 4,\n",
       "          'scattered': 2,\n",
       "          'benches': 1,\n",
       "          'continual': 3,\n",
       "          'concluding': 2,\n",
       "          'opening': 3,\n",
       "          'mercy': 1,\n",
       "          'power': 4,\n",
       "          'howling': 3,\n",
       "          'leaves': 3,\n",
       "          'Bible': 4,\n",
       "          'proper': 11,\n",
       "          'smallest': 9,\n",
       "          'mighty': 9,\n",
       "          'Scriptures': 1,\n",
       "          'soul': 19,\n",
       "          'fish': 28,\n",
       "          'floods': 1,\n",
       "          'kelpy': 1,\n",
       "          'waters': 14,\n",
       "          'slime': 1,\n",
       "          'book': 10,\n",
       "          'sin': 2,\n",
       "          'swift': 6,\n",
       "          'deliverance': 2,\n",
       "          'command': 6,\n",
       "          'things': 6,\n",
       "          'hardness': 1,\n",
       "          'Captains': 1,\n",
       "          'wharves': 2,\n",
       "          'modern': 7,\n",
       "          'opinion': 3,\n",
       "          'Mediterranean': 8,\n",
       "          'Syrian': 3,\n",
       "          'westward': 2,\n",
       "          'Straits': 3,\n",
       "          'shipping': 2,\n",
       "          'wharf': 10,\n",
       "          'Tarshish': 1,\n",
       "          'cabin': 43,\n",
       "          'moment': 13,\n",
       "          'goods': 1,\n",
       "          'mariners': 12,\n",
       "          'adulterer': 1,\n",
       "          'missing': 5,\n",
       "          'spile': 1,\n",
       "          'apprehension': 1,\n",
       "          'Captain': 40,\n",
       "          'Customs': 1,\n",
       "          'instant': 4,\n",
       "          'busy': 1,\n",
       "          'context': 2,\n",
       "          'penniless': 1,\n",
       "          'length': 4,\n",
       "          'usual': 3,\n",
       "          'lock': 3,\n",
       "          'doors': 2,\n",
       "          'heralding': 1,\n",
       "          'false': 1,\n",
       "          'ceiling': 3,\n",
       "          'chambers': 1,\n",
       "          'plungings': 1,\n",
       "          'Roman': 2,\n",
       "          'fit': 1,\n",
       "          'whirl': 1,\n",
       "          'wound': 5,\n",
       "          'deserted': 2,\n",
       "          'uncheered': 1,\n",
       "          'contraband': 1,\n",
       "          'wicked': 1,\n",
       "          'boatswain': 1,\n",
       "          'wind': 35,\n",
       "          'men': 30,\n",
       "          'reeling': 2,\n",
       "          'far': 11,\n",
       "          'sides': 4,\n",
       "          'frightened': 3,\n",
       "          'deck': 93,\n",
       "          'white': 61,\n",
       "          'steep': 3,\n",
       "          'rearing': 1,\n",
       "          'tormented': 3,\n",
       "          'behavior': 1,\n",
       "          'unsolicited': 1,\n",
       "          'hard': 4,\n",
       "          'dry': 4,\n",
       "          'indignant': 2,\n",
       "          'east': 6,\n",
       "          'gale': 5,\n",
       "          'whirling': 2,\n",
       "          'yawning': 1,\n",
       "          'eventual': 1,\n",
       "          'shrieking': 1,\n",
       "          'warring': 1,\n",
       "          'thunders': 1,\n",
       "          'Book': 1,\n",
       "          'people': 11,\n",
       "          'deepest': 5,\n",
       "          'lesson': 1,\n",
       "          'hatches': 5,\n",
       "          'ears': 2,\n",
       "          'hostility': 1,\n",
       "          'midst': 8,\n",
       "          'eddying': 2,\n",
       "          'weeds': 1,\n",
       "          'reach': 1,\n",
       "          'belly': 1,\n",
       "          'engulphed': 1,\n",
       "          'shuddering': 2,\n",
       "          'warm': 4,\n",
       "          'delights': 1,\n",
       "          'Almighty': 1,\n",
       "          'Truth': 1,\n",
       "          'face': 10,\n",
       "          'starboard': 8,\n",
       "          'top': 24,\n",
       "          'woe': 1,\n",
       "          'kelson': 3,\n",
       "          'proud': 1,\n",
       "          'robes': 1,\n",
       "          'billows': 7,\n",
       "          'boisterous': 2,\n",
       "          'Ages': 1,\n",
       "          'lifetime': 1,\n",
       "          'Spouter': 2,\n",
       "          'Chapel': 2,\n",
       "          'benediction': 2,\n",
       "          'stove': 1,\n",
       "          'pages': 2,\n",
       "          'multitude': 1,\n",
       "          'traces': 1,\n",
       "          'Pagan': 4,\n",
       "          'popular': 5,\n",
       "          'brows': 1,\n",
       "          'casement': 1,\n",
       "          'marvellous': 1,\n",
       "          'affectionate': 1,\n",
       "          'inn': 3,\n",
       "          'circle': 3,\n",
       "          'planet': 1,\n",
       "          'dyspeptic': 1,\n",
       "          'casements': 1,\n",
       "          'wolfish': 1,\n",
       "          'purpose': 8,\n",
       "          'printing': 1,\n",
       "          'few': 1,\n",
       "          'various': 10,\n",
       "          'waist': 8,\n",
       "          'tobacco': 1,\n",
       "          'paper': 3,\n",
       "          'bosom': 2,\n",
       "          'infallible': 2,\n",
       "          'magnanimous': 1,\n",
       "          'will': 3,\n",
       "          'innocent': 1,\n",
       "          'future': 6,\n",
       "          'tip': 1,\n",
       "          'crown': 8,\n",
       "          'general': 18,\n",
       "          'luxurious': 1,\n",
       "          'rich': 2,\n",
       "          'blanket': 3,\n",
       "          'cold': 4,\n",
       "          'outer': 10,\n",
       "          'snugness': 2,\n",
       "          'imposed': 1,\n",
       "          'unilluminated': 1,\n",
       "          'condensed': 1,\n",
       "          'Tomahawk': 1,\n",
       "          'West': 4,\n",
       "          'nibbling': 1,\n",
       "          'maternal': 4,\n",
       "          'wives': 1,\n",
       "          'King': 10,\n",
       "          'chains': 5,\n",
       "          'son': 2,\n",
       "          'shipyards': 1,\n",
       "          'Christians': 1,\n",
       "          'arts': 1,\n",
       "          'practices': 1,\n",
       "          'queer': 1,\n",
       "          'pure': 4,\n",
       "          'nonce': 2,\n",
       "          'Potluck': 1,\n",
       "          'affection': 1,\n",
       "          'mysteries': 1,\n",
       "          'sudden': 5,\n",
       "          'Moss': 2,\n",
       "          'barrow': 4,\n",
       "          'sheath': 1,\n",
       "          'hearts': 4,\n",
       "          'farmers': 1,\n",
       "          'thing': 16,\n",
       "          'precise': 11,\n",
       "          'fragrant': 2,\n",
       "          'braided': 1,\n",
       "          'feast': 2,\n",
       "          'wedding': 2,\n",
       "          'bride': 1,\n",
       "          'post': 2,\n",
       "          'punchbowl': 2,\n",
       "          'High': 2,\n",
       "          'ducks': 1,\n",
       "          'banquet': 3,\n",
       "          'immemorial': 3,\n",
       "          'bowl': 3,\n",
       "          'blessed': 4,\n",
       "          'Priest': 1,\n",
       "          'ceremony': 2,\n",
       "          'schooner': 1,\n",
       "          'Acushnet': 1,\n",
       "          'clear': 8,\n",
       "          'pitch': 2,\n",
       "          'start': 7,\n",
       "          'endlessness': 1,\n",
       "          'intolerableness': 1,\n",
       "          'bracing': 1,\n",
       "          'quick': 3,\n",
       "          'marks': 2,\n",
       "          'magnanimity': 1,\n",
       "          'blast': 5,\n",
       "          'Sultan': 1,\n",
       "          'plunging': 1,\n",
       "          'jeering': 1,\n",
       "          'passengers': 1,\n",
       "          'bumpkin': 2,\n",
       "          'brawny': 1,\n",
       "          'fellow': 1,\n",
       "          'still': 10,\n",
       "          'tremendous': 4,\n",
       "          'entire': 29,\n",
       "          'boom': 5,\n",
       "          'point': 12,\n",
       "          'lower': 20,\n",
       "          'path': 2,\n",
       "          'spar': 1,\n",
       "          'hands': 7,\n",
       "          'freezing': 1,\n",
       "          'Humane': 1,\n",
       "          'brine': 1,\n",
       "          'mentioning': 1,\n",
       "          'Eddystone': 2,\n",
       "          'true': 12,\n",
       "          'shade': 2,\n",
       "          'backs': 3,\n",
       "          'wondrous': 8,\n",
       "          'red': 7,\n",
       "          'legend': 1,\n",
       "          'parents': 1,\n",
       "          'sand': 3,\n",
       "          'mightiest': 5,\n",
       "          'flood': 4,\n",
       "          'English': 24,\n",
       "          'Nantucketer': 6,\n",
       "          'road': 5,\n",
       "          'millions': 3,\n",
       "          'prairie': 5,\n",
       "          'Alps': 2,\n",
       "          'moon': 6,\n",
       "          'landless': 1,\n",
       "          'Try': 4,\n",
       "          'proprietor': 1,\n",
       "          'directions': 1,\n",
       "          'larboard': 5,\n",
       "          'outset': 3,\n",
       "          'yellow': 2,\n",
       "          'cross': 3,\n",
       "          'relics': 1,\n",
       "          'winter': 2,\n",
       "          'purple': 2,\n",
       "          'kitchen': 4,\n",
       "          'apparently': 1,\n",
       "          'frosty': 2,\n",
       "          'chowder': 2,\n",
       "          'savoury': 1,\n",
       "          'pots': 5,\n",
       "          'milk': 2,\n",
       "          'beach': 4,\n",
       "          'nearest': 9,\n",
       "          'stairs': 2,\n",
       "          'lady': 4,\n",
       "          'morrow': 2,\n",
       "          'selection': 2,\n",
       "          'excellence': 1,\n",
       "          'whaler': 4,\n",
       "          'Tit': 2,\n",
       "          'Pequod': 147,\n",
       "          'origin': 1,\n",
       "          'Devil': 3,\n",
       "          'typhoons': 1,\n",
       "          'spines': 1,\n",
       "          'pilgrim': 1,\n",
       "          'principal': 2,\n",
       "          'term': 3,\n",
       "          'chased': 1,\n",
       "          'sperm': 35,\n",
       "          'Tartar': 1,\n",
       "          'voyage': 24,\n",
       "          'jaws': 6,\n",
       "          'apex': 2,\n",
       "          'loose': 2,\n",
       "          'insider': 1,\n",
       "          'burden': 3,\n",
       "          'wigwam': 3,\n",
       "          'appearance': 2,\n",
       "          'elderly': 1,\n",
       "          'Quaker': 4,\n",
       "          'minutest': 2,\n",
       "          'muscles': 3,\n",
       "          'tent': 3,\n",
       "          'merchant': 4,\n",
       "          'marchant': 3,\n",
       "          'officers': 4,\n",
       "          'mask': 2,\n",
       "          'Vineyard': 4,\n",
       "          'monstrousest': 1,\n",
       "          'hearty': 2,\n",
       "          'simple': 3,\n",
       "          'accident': 1,\n",
       "          'errand': 1,\n",
       "          'open': 20,\n",
       "          'report': 1,\n",
       "          'papers': 4,\n",
       "          'transom': 5,\n",
       "          'vessel': 24,\n",
       "          'value': 2,\n",
       "          'peculiarities': 1,\n",
       "          'stately': 1,\n",
       "          'audacious': 2,\n",
       "          'stillness': 1,\n",
       "          'veriest': 2,\n",
       "          'strictest': 2,\n",
       "          'Horn': 2,\n",
       "          'contemplative': 1,\n",
       "          'pious': 1,\n",
       "          'reminiscence': 1,\n",
       "          'sage': 1,\n",
       "          'drabbest': 1,\n",
       "          'goodly': 1,\n",
       "          'quiet': 1,\n",
       "          'reputation': 1,\n",
       "          'hospital': 1,\n",
       "          'exact': 5,\n",
       "          'worn': 1,\n",
       "          'person': 3,\n",
       "          'profits': 2,\n",
       "          'degree': 1,\n",
       "          'respective': 3,\n",
       "          '275th': 4,\n",
       "          'clothing': 1,\n",
       "          'Thunder': 1,\n",
       "          'fair': 5,\n",
       "          '200th': 1,\n",
       "          'stingy': 1,\n",
       "          'sepulchral': 1,\n",
       "          'magnitude': 2,\n",
       "          'figure': 2,\n",
       "          'duty': 1,\n",
       "          'labors': 1,\n",
       "          'bread': 3,\n",
       "          'end': 26,\n",
       "          'awakened': 1,\n",
       "          'squall': 7,\n",
       "          'grindstone': 2,\n",
       "          'identical': 2,\n",
       "          'owners': 6,\n",
       "          'common': 11,\n",
       "          'keenest': 1,\n",
       "          'surest': 1,\n",
       "          'dogs': 1,\n",
       "          'sharp': 7,\n",
       "          'cruel': 1,\n",
       "          'torso': 1,\n",
       "          'inordinate': 2,\n",
       "          'wooden': 5,\n",
       "          'landlady': 6,\n",
       "          'chamber': 2,\n",
       "          'occupation': 1,\n",
       "          'castors': 1,\n",
       "          'mustard': 1,\n",
       "          'doctor': 1,\n",
       "          'vinegar': 2,\n",
       "          'landing': 1,\n",
       "          'ruin': 1,\n",
       "          'Painter': 1,\n",
       "          'locksmith': 1,\n",
       "          'mark': 4,\n",
       "          'knob': 1,\n",
       "          'plaster': 1,\n",
       "          'faintest': 1,\n",
       "          'bedside': 1,\n",
       "          'rise': 1,\n",
       "          'primitive': 2,\n",
       "          'health': 1,\n",
       "          'obvious': 3,\n",
       "          'spirit': 2,\n",
       "          'hereditary': 1,\n",
       "          'idea': 6,\n",
       "          'gaining': 1,\n",
       "          'enemy': 2,\n",
       "          'inferences': 1,\n",
       "          'custom': 4,\n",
       "          'slain': 1,\n",
       "          'yard': 4,\n",
       "          'victor': 3,\n",
       "          'churches': 1,\n",
       "          'First': 3,\n",
       "          'glistening': 2,\n",
       "          'close': 3,\n",
       "          'ninetieth': 1,\n",
       "          'offered': 2,\n",
       "          'huge': 5,\n",
       "          'souls': 1,\n",
       "          'hideous': 2,\n",
       "          'wrath': 1,\n",
       "          'salt': 3,\n",
       "          'shark': 3,\n",
       "          'bravest': 2,\n",
       "          'meeting': 1,\n",
       "          'fear': 4,\n",
       "          'Judgment': 3,\n",
       "          'above': 10,\n",
       "          'complicated': 1,\n",
       "          ...})"
      ]
     },
     "execution_count": 23,
     "metadata": {},
     "output_type": "execute_result"
    }
   ],
   "source": [
    "cfd['the']"
   ]
  },
  {
   "cell_type": "code",
   "execution_count": 24,
   "metadata": {
    "collapsed": false
   },
   "outputs": [
    {
     "name": "stdout",
     "output_type": "stream",
     "text": [
      "whale\n",
      ",\n"
     ]
    }
   ],
   "source": [
    "model(cfd, 'whale', 2)"
   ]
  },
  {
   "cell_type": "code",
   "execution_count": 25,
   "metadata": {
    "collapsed": false
   },
   "outputs": [
    {
     "data": {
      "text/plain": [
       "174"
      ]
     },
     "execution_count": 25,
     "metadata": {},
     "output_type": "execute_result"
    }
   ],
   "source": [
    "cfd['whale'][',']"
   ]
  },
  {
   "cell_type": "code",
   "execution_count": 26,
   "metadata": {
    "collapsed": false
   },
   "outputs": [
    {
     "name": "stdout",
     "output_type": "stream",
     "text": [
      "whale\n",
      ",\n",
      "and\n",
      "the\n",
      "whale\n",
      ",\n",
      "and\n",
      "the\n",
      "whale\n",
      ",\n",
      "and\n",
      "the\n",
      "whale\n",
      ",\n",
      "and\n"
     ]
    }
   ],
   "source": [
    "model(cfd, 'whale', 15)"
   ]
  },
  {
   "cell_type": "markdown",
   "metadata": {},
   "source": [
    "# Lets do some filtering"
   ]
  },
  {
   "cell_type": "code",
   "execution_count": 27,
   "metadata": {
    "collapsed": true
   },
   "outputs": [],
   "source": [
    "stops = nltk.corpus.stopwords.words('english')"
   ]
  },
  {
   "cell_type": "code",
   "execution_count": 28,
   "metadata": {
    "collapsed": false
   },
   "outputs": [
    {
     "data": {
      "text/plain": [
       "179"
      ]
     },
     "execution_count": 28,
     "metadata": {},
     "output_type": "execute_result"
    }
   ],
   "source": [
    "len(stops)"
   ]
  },
  {
   "cell_type": "code",
   "execution_count": 29,
   "metadata": {
    "collapsed": false
   },
   "outputs": [
    {
     "data": {
      "text/plain": [
       "['i',\n",
       " 'me',\n",
       " 'my',\n",
       " 'myself',\n",
       " 'we',\n",
       " 'our',\n",
       " 'ours',\n",
       " 'ourselves',\n",
       " 'you',\n",
       " \"you're\",\n",
       " \"you've\",\n",
       " \"you'll\",\n",
       " \"you'd\",\n",
       " 'your',\n",
       " 'yours',\n",
       " 'yourself',\n",
       " 'yourselves',\n",
       " 'he',\n",
       " 'him',\n",
       " 'his',\n",
       " 'himself',\n",
       " 'she',\n",
       " \"she's\",\n",
       " 'her',\n",
       " 'hers',\n",
       " 'herself',\n",
       " 'it',\n",
       " \"it's\",\n",
       " 'its',\n",
       " 'itself',\n",
       " 'they',\n",
       " 'them',\n",
       " 'their',\n",
       " 'theirs',\n",
       " 'themselves',\n",
       " 'what',\n",
       " 'which',\n",
       " 'who',\n",
       " 'whom',\n",
       " 'this',\n",
       " 'that',\n",
       " \"that'll\",\n",
       " 'these',\n",
       " 'those',\n",
       " 'am',\n",
       " 'is',\n",
       " 'are',\n",
       " 'was',\n",
       " 'were',\n",
       " 'be',\n",
       " 'been',\n",
       " 'being',\n",
       " 'have',\n",
       " 'has',\n",
       " 'had',\n",
       " 'having',\n",
       " 'do',\n",
       " 'does',\n",
       " 'did',\n",
       " 'doing',\n",
       " 'a',\n",
       " 'an',\n",
       " 'the',\n",
       " 'and',\n",
       " 'but',\n",
       " 'if',\n",
       " 'or',\n",
       " 'because',\n",
       " 'as',\n",
       " 'until',\n",
       " 'while',\n",
       " 'of',\n",
       " 'at',\n",
       " 'by',\n",
       " 'for',\n",
       " 'with',\n",
       " 'about',\n",
       " 'against',\n",
       " 'between',\n",
       " 'into',\n",
       " 'through',\n",
       " 'during',\n",
       " 'before',\n",
       " 'after',\n",
       " 'above',\n",
       " 'below',\n",
       " 'to',\n",
       " 'from',\n",
       " 'up',\n",
       " 'down',\n",
       " 'in',\n",
       " 'out',\n",
       " 'on',\n",
       " 'off',\n",
       " 'over',\n",
       " 'under',\n",
       " 'again',\n",
       " 'further',\n",
       " 'then',\n",
       " 'once',\n",
       " 'here',\n",
       " 'there',\n",
       " 'when',\n",
       " 'where',\n",
       " 'why',\n",
       " 'how',\n",
       " 'all',\n",
       " 'any',\n",
       " 'both',\n",
       " 'each',\n",
       " 'few',\n",
       " 'more',\n",
       " 'most',\n",
       " 'other',\n",
       " 'some',\n",
       " 'such',\n",
       " 'no',\n",
       " 'nor',\n",
       " 'not',\n",
       " 'only',\n",
       " 'own',\n",
       " 'same',\n",
       " 'so',\n",
       " 'than',\n",
       " 'too',\n",
       " 'very',\n",
       " 's',\n",
       " 't',\n",
       " 'can',\n",
       " 'will',\n",
       " 'just',\n",
       " 'don',\n",
       " \"don't\",\n",
       " 'should',\n",
       " \"should've\",\n",
       " 'now',\n",
       " 'd',\n",
       " 'll',\n",
       " 'm',\n",
       " 'o',\n",
       " 're',\n",
       " 've',\n",
       " 'y',\n",
       " 'ain',\n",
       " 'aren',\n",
       " \"aren't\",\n",
       " 'couldn',\n",
       " \"couldn't\",\n",
       " 'didn',\n",
       " \"didn't\",\n",
       " 'doesn',\n",
       " \"doesn't\",\n",
       " 'hadn',\n",
       " \"hadn't\",\n",
       " 'hasn',\n",
       " \"hasn't\",\n",
       " 'haven',\n",
       " \"haven't\",\n",
       " 'isn',\n",
       " \"isn't\",\n",
       " 'ma',\n",
       " 'mightn',\n",
       " \"mightn't\",\n",
       " 'mustn',\n",
       " \"mustn't\",\n",
       " 'needn',\n",
       " \"needn't\",\n",
       " 'shan',\n",
       " \"shan't\",\n",
       " 'shouldn',\n",
       " \"shouldn't\",\n",
       " 'wasn',\n",
       " \"wasn't\",\n",
       " 'weren',\n",
       " \"weren't\",\n",
       " 'won',\n",
       " \"won't\",\n",
       " 'wouldn',\n",
       " \"wouldn't\"]"
      ]
     },
     "execution_count": 29,
     "metadata": {},
     "output_type": "execute_result"
    }
   ],
   "source": [
    "stops"
   ]
  },
  {
   "cell_type": "code",
   "execution_count": 30,
   "metadata": {
    "collapsed": true
   },
   "outputs": [],
   "source": [
    "text1_trimmed = [w for w in text1\n",
    "                 if w.lower()\n",
    "                 not in stops and w.isalpha()]"
   ]
  },
  {
   "cell_type": "code",
   "execution_count": 31,
   "metadata": {
    "collapsed": false
   },
   "outputs": [
    {
     "data": {
      "text/plain": [
       "260819"
      ]
     },
     "execution_count": 31,
     "metadata": {},
     "output_type": "execute_result"
    }
   ],
   "source": [
    "len(text1)"
   ]
  },
  {
   "cell_type": "code",
   "execution_count": 32,
   "metadata": {
    "collapsed": false
   },
   "outputs": [
    {
     "data": {
      "text/plain": [
       "110459"
      ]
     },
     "execution_count": 32,
     "metadata": {},
     "output_type": "execute_result"
    }
   ],
   "source": [
    "len(text1_trimmed)"
   ]
  },
  {
   "cell_type": "code",
   "execution_count": 33,
   "metadata": {
    "collapsed": false
   },
   "outputs": [
    {
     "data": {
      "text/plain": [
       "4714"
      ]
     },
     "execution_count": 33,
     "metadata": {},
     "output_type": "execute_result"
    }
   ],
   "source": [
    "text1.index('Ishmael')"
   ]
  },
  {
   "cell_type": "code",
   "execution_count": 34,
   "metadata": {
    "collapsed": false
   },
   "outputs": [
    {
     "data": {
      "text/plain": [
       "['Loomings', '.', 'Call', 'me', 'Ishmael', '.', 'Some', 'years', 'ago', '--']"
      ]
     },
     "execution_count": 34,
     "metadata": {},
     "output_type": "execute_result"
    }
   ],
   "source": [
    "text1[4710:4720]"
   ]
  },
  {
   "cell_type": "code",
   "execution_count": 35,
   "metadata": {
    "collapsed": false
   },
   "outputs": [
    {
     "data": {
      "text/plain": [
       "1996"
      ]
     },
     "execution_count": 35,
     "metadata": {},
     "output_type": "execute_result"
    }
   ],
   "source": [
    "text1_trimmed.index('Ishmael')"
   ]
  },
  {
   "cell_type": "code",
   "execution_count": 36,
   "metadata": {
    "collapsed": false
   },
   "outputs": [
    {
     "data": {
      "text/plain": [
       "['sea',\n",
       " 'WHALE',\n",
       " 'SONG',\n",
       " 'CHAPTER',\n",
       " 'Loomings',\n",
       " 'Call',\n",
       " 'Ishmael',\n",
       " 'years',\n",
       " 'ago',\n",
       " 'never',\n",
       " 'mind',\n",
       " 'long',\n",
       " 'precisely',\n",
       " 'little',\n",
       " 'money']"
      ]
     },
     "execution_count": 36,
     "metadata": {},
     "output_type": "execute_result"
    }
   ],
   "source": [
    "text1_trimmed[1990:2005]"
   ]
  },
  {
   "cell_type": "code",
   "execution_count": 33,
   "metadata": {
    "collapsed": true
   },
   "outputs": [],
   "source": [
    "grams2 = nltk.bigrams(text1_trimmed)"
   ]
  },
  {
   "cell_type": "code",
   "execution_count": 34,
   "metadata": {
    "collapsed": true
   },
   "outputs": [],
   "source": [
    "cfd2 = nltk.ConditionalFreqDist(grams2)"
   ]
  },
  {
   "cell_type": "code",
   "execution_count": 35,
   "metadata": {
    "collapsed": false
   },
   "outputs": [
    {
     "name": "stdout",
     "output_type": "stream",
     "text": [
      "whale\n",
      "ship\n"
     ]
    }
   ],
   "source": [
    "model(cfd2, 'whale', 2)"
   ]
  },
  {
   "cell_type": "code",
   "execution_count": null,
   "metadata": {
    "collapsed": true
   },
   "outputs": [],
   "source": []
  },
  {
   "cell_type": "code",
   "execution_count": null,
   "metadata": {
    "collapsed": true
   },
   "outputs": [],
   "source": []
  },
  {
   "cell_type": "code",
   "execution_count": null,
   "metadata": {
    "collapsed": true
   },
   "outputs": [],
   "source": []
  },
  {
   "cell_type": "markdown",
   "metadata": {},
   "source": [
    "# Male/ female names"
   ]
  },
  {
   "cell_type": "code",
   "execution_count": 37,
   "metadata": {
    "collapsed": true
   },
   "outputs": [],
   "source": [
    "names = nltk.corpus.names"
   ]
  },
  {
   "cell_type": "code",
   "execution_count": 38,
   "metadata": {
    "collapsed": false
   },
   "outputs": [
    {
     "data": {
      "text/plain": [
       "['female.txt', 'male.txt']"
      ]
     },
     "execution_count": 38,
     "metadata": {},
     "output_type": "execute_result"
    }
   ],
   "source": [
    "names.fileids()"
   ]
  },
  {
   "cell_type": "code",
   "execution_count": 39,
   "metadata": {
    "collapsed": true
   },
   "outputs": [],
   "source": [
    "male_names = names.words('male.txt')"
   ]
  },
  {
   "cell_type": "code",
   "execution_count": 40,
   "metadata": {
    "collapsed": false
   },
   "outputs": [
    {
     "data": {
      "text/plain": [
       "2943"
      ]
     },
     "execution_count": 40,
     "metadata": {},
     "output_type": "execute_result"
    }
   ],
   "source": [
    "len(male_names)"
   ]
  },
  {
   "cell_type": "code",
   "execution_count": 41,
   "metadata": {
    "collapsed": false
   },
   "outputs": [
    {
     "data": {
      "text/plain": [
       "['Abdullah',\n",
       " 'Abe',\n",
       " 'Abel',\n",
       " 'Abelard',\n",
       " 'Abner',\n",
       " 'Abraham',\n",
       " 'Abram',\n",
       " 'Ace',\n",
       " 'Adair',\n",
       " 'Adam']"
      ]
     },
     "execution_count": 41,
     "metadata": {},
     "output_type": "execute_result"
    }
   ],
   "source": [
    "male_names[10:20]"
   ]
  },
  {
   "cell_type": "code",
   "execution_count": null,
   "metadata": {
    "collapsed": true
   },
   "outputs": [],
   "source": []
  },
  {
   "cell_type": "markdown",
   "metadata": {
    "collapsed": true
   },
   "source": [
    "# Plain Text Corpus Reader"
   ]
  },
  {
   "cell_type": "code",
   "execution_count": 37,
   "metadata": {
    "collapsed": true
   },
   "outputs": [],
   "source": [
    "from nltk.corpus.reader.plaintext import PlaintextCorpusReader"
   ]
  },
  {
   "cell_type": "code",
   "execution_count": 41,
   "metadata": {
    "collapsed": false
   },
   "outputs": [],
   "source": [
    "root = 'D:\\\\Academics\\\\UF\\\\CIS 4930\\\\CIS 4930 NLP Notes\\\\1-24-2018 Texts'"
   ]
  },
  {
   "cell_type": "code",
   "execution_count": 43,
   "metadata": {
    "collapsed": false
   },
   "outputs": [],
   "source": [
    "wordlists = PlaintextCorpusReader(root,'.*')"
   ]
  },
  {
   "cell_type": "code",
   "execution_count": 44,
   "metadata": {
    "collapsed": false
   },
   "outputs": [
    {
     "data": {
      "text/plain": [
       "['fa09L01.html',\n",
       " 'fa09L02.html',\n",
       " 'fa09L03.html',\n",
       " 'fa09L04.html',\n",
       " 'fa09L05.html',\n",
       " 'fa09L06.html',\n",
       " 'fa09L07.html',\n",
       " 'fa09L08.html',\n",
       " 'fa09L09.html',\n",
       " 'fa09L10.html',\n",
       " 'fa09L11.html',\n",
       " 'fa09L12.html',\n",
       " 'fa09L13.html',\n",
       " 'fa09L14.html',\n",
       " 'fa09L15.html',\n",
       " 'fa09L16.html',\n",
       " 'fa09L17.html',\n",
       " 'fa09L18.html',\n",
       " 'fa09L19.html',\n",
       " 'fa09L20.html',\n",
       " 'fa09L21.html',\n",
       " 'fa09L22.html',\n",
       " 'fa09L23.html',\n",
       " 'fa09L24.html',\n",
       " 'fa09L25.html',\n",
       " 'fa09L26.html',\n",
       " 'fa09L27.html',\n",
       " 'fa09L28.html',\n",
       " 'fa09L29.html',\n",
       " 'fa09L30.html',\n",
       " 'fa09L31.html',\n",
       " 'fa09L32.html',\n",
       " 'fa09L33.html',\n",
       " 'fa09L34.html',\n",
       " 'fa09L35.html',\n",
       " 'fa09L36.html',\n",
       " 'fa09L37.html',\n",
       " 'fa09L38.html',\n",
       " 'fa09L39.html',\n",
       " 'fa09L40.html',\n",
       " 'fa09L41.html',\n",
       " 'fa09L42.html',\n",
       " 'fa09L43.html',\n",
       " 'index.html']"
      ]
     },
     "execution_count": 44,
     "metadata": {},
     "output_type": "execute_result"
    }
   ],
   "source": [
    "wordlists.fileids()"
   ]
  },
  {
   "cell_type": "markdown",
   "metadata": {},
   "source": [
    "# Definitions"
   ]
  },
  {
   "cell_type": "markdown",
   "metadata": {},
   "source": [
    "Synonyms\n",
    "\n",
    "Antonyms\n",
    "\n",
    "sysnset (synonym set): collection of synonymous words\n",
    "\n",
    "lemmas: pairing a synset with a word\n",
    "\n",
    "root synset or hypernym: parent in hierarchy\n",
    "\n",
    "hyponym: more specific or sub structure\n",
    "    Ex:\n",
    "        motor vehicle is parent to motor car/truck/go kart... etc\n",
    "\n",
    "meronyms: items that are identified by their components\n",
    "    components are the meronyms\n",
    "\n",
    "holonyms: are the containing items; opposite of a meronym\n",
    "\n",
    "entailments: composing parts of the activity\n"
   ]
  },
  {
   "cell_type": "code",
   "execution_count": null,
   "metadata": {
    "collapsed": true
   },
   "outputs": [],
   "source": []
  }
 ],
 "metadata": {
  "kernelspec": {
   "display_name": "Python 3",
   "language": "python",
   "name": "python3"
  },
  "language_info": {
   "codemirror_mode": {
    "name": "ipython",
    "version": 3
   },
   "file_extension": ".py",
   "mimetype": "text/x-python",
   "name": "python",
   "nbconvert_exporter": "python",
   "pygments_lexer": "ipython3",
   "version": "3.6.0"
  }
 },
 "nbformat": 4,
 "nbformat_minor": 2
}
