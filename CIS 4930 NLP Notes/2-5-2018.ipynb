{
 "cells": [
  {
   "cell_type": "code",
   "execution_count": 1,
   "metadata": {
    "collapsed": false
   },
   "outputs": [
    {
     "name": "stdout",
     "output_type": "stream",
     "text": [
      "*** Introductory Examples for the NLTK Book ***\n",
      "Loading text1, ..., text9 and sent1, ..., sent9\n",
      "Type the name of the text or sentence to view it.\n",
      "Type: 'texts()' or 'sents()' to list the materials.\n",
      "text1: Moby Dick by Herman Melville 1851\n",
      "text2: Sense and Sensibility by Jane Austen 1811\n",
      "text3: The Book of Genesis\n",
      "text4: Inaugural Address Corpus\n",
      "text5: Chat Corpus\n",
      "text6: Monty Python and the Holy Grail\n",
      "text7: Wall Street Journal\n",
      "text8: Personals Corpus\n",
      "text9: The Man Who Was Thursday by G . K . Chesterton 1908\n"
     ]
    }
   ],
   "source": [
    "import nltk\n",
    "from nltk.book import *"
   ]
  },
  {
   "cell_type": "markdown",
   "metadata": {},
   "source": [
    "Next hw about troll\n",
    "- find troll online\n",
    "- identify common features\n",
    "    - does not need to be natural languages"
   ]
  },
  {
   "cell_type": "code",
   "execution_count": 2,
   "metadata": {
    "collapsed": false
   },
   "outputs": [
    {
     "name": "stdout",
     "output_type": "stream",
     "text": [
      "one\n",
      "2\n",
      "three\n",
      "4\n"
     ]
    }
   ],
   "source": [
    "dictionary = { 'first': 'one','second':2, 3:'three', 4:4 } \n",
    "for key in dictionary:\n",
    "    print(dictionary[key])"
   ]
  },
  {
   "cell_type": "code",
   "execution_count": 3,
   "metadata": {
    "collapsed": false
   },
   "outputs": [
    {
     "data": {
      "text/plain": [
       "['.ipynb_checkpoints',\n",
       " '1-17-2018 Notes',\n",
       " '1-19-2018 Notes',\n",
       " '1-19-2018 Notes.py',\n",
       " '1-22-2018.ipynb',\n",
       " '1-24-2018 Temp.txt',\n",
       " '1-24-2018 Texts',\n",
       " '1-26-2018.ipynb',\n",
       " '1-29-2018.ipynb',\n",
       " '1-31-2018.ipynb',\n",
       " '1_24_18.ipynb',\n",
       " '2-14-2018.ipynb',\n",
       " '2-16-2018.ipynb',\n",
       " '2-19-2018.ipynb',\n",
       " '2-21-2018.ipynb',\n",
       " '2-5-2018.ipynb',\n",
       " '2-7-2018.ipynb',\n",
       " '2-9-2018.ipynb',\n",
       " 'AngelasAshes.txt',\n",
       " 'Ch2 Notes.ipynb',\n",
       " 'Ch3.ipynb',\n",
       " 'our_data.txt',\n",
       " 'PetDiary.txt']"
      ]
     },
     "execution_count": 3,
     "metadata": {},
     "output_type": "execute_result"
    }
   ],
   "source": [
    "import os\n",
    "os.listdir('.')"
   ]
  },
  {
   "cell_type": "code",
   "execution_count": 4,
   "metadata": {
    "collapsed": false
   },
   "outputs": [
    {
     "name": "stdout",
     "output_type": "stream",
     "text": [
      "Synonyms\n",
      "\n",
      "\n",
      "\n",
      "Antonyms\n",
      "\n",
      "\n",
      "\n",
      "synset (synonym set): collection of synonyms\n",
      "\n",
      "\n",
      "\n",
      "lemmas: pairing a synset with a word\n",
      "\n",
      "\n",
      "\n",
      "root synset or hypernym: parent in hierarchy\n",
      "\n",
      "\n",
      "\n",
      "hyponyms: more specific or sub structure in hierarchy\n",
      "\n",
      "\n",
      "\n",
      "\tmotor vehicle\n",
      "\n",
      "\tis parent to\n",
      "\n",
      "\tmotor car / truck / go kart\n",
      "\n",
      "\n",
      "\n",
      "meronyms: components that make up an item that represents the item; \n",
      "\n",
      "\t\titems are identified by their components, components are the meronyms\n",
      "\n",
      "\n",
      "\n",
      "holonyms: are the containing items of the object\n",
      "\n",
      "\n",
      "\n",
      "entailments: composing parts of an activity\n",
      "\n"
     ]
    }
   ],
   "source": [
    "for line in open('1-24-2018 Temp.txt'):\n",
    "    print (line)"
   ]
  },
  {
   "cell_type": "code",
   "execution_count": 29,
   "metadata": {
    "collapsed": false
   },
   "outputs": [
    {
     "data": {
      "text/plain": [
       "21"
      ]
     },
     "execution_count": 29,
     "metadata": {},
     "output_type": "execute_result"
    }
   ],
   "source": [
    "out_file = open ('our_data.txt','w',)\n",
    "out_file.write('data without new line')"
   ]
  },
  {
   "cell_type": "code",
   "execution_count": 30,
   "metadata": {
    "collapsed": false
   },
   "outputs": [
    {
     "data": {
      "text/plain": [
       "31"
      ]
     },
     "execution_count": 30,
     "metadata": {},
     "output_type": "execute_result"
    }
   ],
   "source": [
    "out_file.write('need a \\\\ and n \\n for a new line')"
   ]
  },
  {
   "cell_type": "code",
   "execution_count": 31,
   "metadata": {
    "collapsed": false
   },
   "outputs": [
    {
     "data": {
      "text/plain": [
       "31"
      ]
     },
     "execution_count": 31,
     "metadata": {},
     "output_type": "execute_result"
    }
   ],
   "source": [
    "out_file.write('need a \\\\ and n \\n for a new line')"
   ]
  },
  {
   "cell_type": "code",
   "execution_count": 32,
   "metadata": {
    "collapsed": false
   },
   "outputs": [],
   "source": [
    "s = [ 5, 1, 5, 3, 4, 8, 3, 5, 2, 3]\n",
    "data = \"\"\n",
    "for item in s:\n",
    "    data = data + ' ' + str(item)"
   ]
  },
  {
   "cell_type": "code",
   "execution_count": 33,
   "metadata": {
    "collapsed": false
   },
   "outputs": [
    {
     "data": {
      "text/plain": [
       "' 5 1 5 3 4 8 3 5 2 3'"
      ]
     },
     "execution_count": 33,
     "metadata": {},
     "output_type": "execute_result"
    }
   ],
   "source": [
    "data"
   ]
  },
  {
   "cell_type": "code",
   "execution_count": 34,
   "metadata": {
    "collapsed": false
   },
   "outputs": [
    {
     "data": {
      "text/plain": [
       "20"
      ]
     },
     "execution_count": 34,
     "metadata": {},
     "output_type": "execute_result"
    }
   ],
   "source": [
    "out_file.write(data)"
   ]
  },
  {
   "cell_type": "code",
   "execution_count": 35,
   "metadata": {
    "collapsed": false
   },
   "outputs": [
    {
     "data": {
      "text/plain": [
       "1"
      ]
     },
     "execution_count": 35,
     "metadata": {},
     "output_type": "execute_result"
    }
   ],
   "source": [
    "out_file.write('\\n')"
   ]
  },
  {
   "cell_type": "code",
   "execution_count": 36,
   "metadata": {
    "collapsed": false
   },
   "outputs": [
    {
     "data": {
      "text/plain": [
       "1"
      ]
     },
     "execution_count": 36,
     "metadata": {},
     "output_type": "execute_result"
    }
   ],
   "source": [
    "out_file.write(data[3])"
   ]
  },
  {
   "cell_type": "code",
   "execution_count": 37,
   "metadata": {
    "collapsed": true
   },
   "outputs": [],
   "source": [
    "out_file.close()"
   ]
  },
  {
   "cell_type": "code",
   "execution_count": 38,
   "metadata": {
    "collapsed": true
   },
   "outputs": [],
   "source": [
    "in_file = open('our_data.txt','r')"
   ]
  },
  {
   "cell_type": "code",
   "execution_count": 39,
   "metadata": {
    "collapsed": false
   },
   "outputs": [
    {
     "data": {
      "text/plain": [
       "<_io.TextIOWrapper name='our_data.txt' mode='r' encoding='cp1252'>"
      ]
     },
     "execution_count": 39,
     "metadata": {},
     "output_type": "execute_result"
    }
   ],
   "source": [
    "in_file"
   ]
  },
  {
   "cell_type": "code",
   "execution_count": 40,
   "metadata": {
    "collapsed": true
   },
   "outputs": [],
   "source": [
    "contents = in_file.read()"
   ]
  },
  {
   "cell_type": "code",
   "execution_count": 41,
   "metadata": {
    "collapsed": false
   },
   "outputs": [
    {
     "data": {
      "text/plain": [
       "'data without new lineneed a \\\\ and n \\n for a new lineneed a \\\\ and n \\n for a new line 5 1 5 3 4 8 3 5 2 3\\n1'"
      ]
     },
     "execution_count": 41,
     "metadata": {},
     "output_type": "execute_result"
    }
   ],
   "source": [
    "contents"
   ]
  },
  {
   "cell_type": "code",
   "execution_count": 42,
   "metadata": {
    "collapsed": false
   },
   "outputs": [
    {
     "data": {
      "text/plain": [
       "''"
      ]
     },
     "execution_count": 42,
     "metadata": {},
     "output_type": "execute_result"
    }
   ],
   "source": [
    "contents = in_file.readline()\n",
    "contents #empty because pointer at the end of the file'"
   ]
  },
  {
   "cell_type": "code",
   "execution_count": 43,
   "metadata": {
    "collapsed": false
   },
   "outputs": [
    {
     "data": {
      "text/plain": [
       "'data without new lineneed a \\\\ and n \\n'"
      ]
     },
     "execution_count": 43,
     "metadata": {},
     "output_type": "execute_result"
    }
   ],
   "source": [
    "in_file.close()\n",
    "in_file = open('our_data.txt','r')\n",
    "contents = in_file.readline()\n",
    "contents"
   ]
  },
  {
   "cell_type": "code",
   "execution_count": 44,
   "metadata": {
    "collapsed": false
   },
   "outputs": [
    {
     "data": {
      "text/plain": [
       "'data without new lineneed a \\\\ and n \\n for a new lineneed a \\\\ and n \\n for a new line 5 1 5 3 4 8 3 5 2 3\\n1'"
      ]
     },
     "execution_count": 44,
     "metadata": {},
     "output_type": "execute_result"
    }
   ],
   "source": [
    "in_file.seek(0) #lead pointer to starting index\n",
    "contents = in_file.read()\n",
    "contents"
   ]
  },
  {
   "cell_type": "code",
   "execution_count": 26,
   "metadata": {
    "collapsed": true
   },
   "outputs": [],
   "source": [
    "data = 'This is our first paragraph. It contains punctuation like the comma, and it also contains periods.'\n",
    "tokens = nltk.word_tokenize(data)"
   ]
  },
  {
   "cell_type": "code",
   "execution_count": 27,
   "metadata": {
    "collapsed": false
   },
   "outputs": [
    {
     "data": {
      "text/plain": [
       "['This',\n",
       " 'is',\n",
       " 'our',\n",
       " 'first',\n",
       " 'paragraph',\n",
       " '.',\n",
       " 'It',\n",
       " 'contains',\n",
       " 'punctuation',\n",
       " 'like',\n",
       " 'the',\n",
       " 'comma',\n",
       " ',',\n",
       " 'and',\n",
       " 'it',\n",
       " 'also',\n",
       " 'contains',\n",
       " 'periods',\n",
       " '.']"
      ]
     },
     "execution_count": 27,
     "metadata": {},
     "output_type": "execute_result"
    }
   ],
   "source": [
    "tokens"
   ]
  },
  {
   "cell_type": "code",
   "execution_count": null,
   "metadata": {
    "collapsed": true
   },
   "outputs": [],
   "source": []
  }
 ],
 "metadata": {
  "kernelspec": {
   "display_name": "Python 3",
   "language": "python",
   "name": "python3"
  },
  "language_info": {
   "codemirror_mode": {
    "name": "ipython",
    "version": 3
   },
   "file_extension": ".py",
   "mimetype": "text/x-python",
   "name": "python",
   "nbconvert_exporter": "python",
   "pygments_lexer": "ipython3",
   "version": "3.6.0"
  }
 },
 "nbformat": 4,
 "nbformat_minor": 2
}
